{
 "cells": [
  {
   "cell_type": "code",
   "execution_count": 1,
   "id": "eb33d259",
   "metadata": {},
   "outputs": [],
   "source": [
    "from bs4 import BeautifulSoup\n",
    "import requests\n",
    "import pandas as pd"
   ]
  },
  {
   "cell_type": "code",
   "execution_count": 2,
   "id": "4be6cbf1",
   "metadata": {},
   "outputs": [],
   "source": [
    "url = 'http://www.popvortex.com/music/netherlands/top-songs.php'"
   ]
  },
  {
   "cell_type": "code",
   "execution_count": 3,
   "id": "10c12799",
   "metadata": {},
   "outputs": [
    {
     "data": {
      "text/plain": [
       "200"
      ]
     },
     "execution_count": 3,
     "metadata": {},
     "output_type": "execute_result"
    }
   ],
   "source": [
    "response = requests.get(url)\n",
    "response.status_code"
   ]
  },
  {
   "cell_type": "code",
   "execution_count": 4,
   "id": "cb2842f8",
   "metadata": {},
   "outputs": [],
   "source": [
    "soup = BeautifulSoup(response.content, \"html.parser\")"
   ]
  },
  {
   "cell_type": "code",
   "execution_count": 5,
   "id": "a4e732a8",
   "metadata": {},
   "outputs": [
    {
     "data": {
      "text/plain": [
       "[<div class=\"chart-content col-xs-12 col-sm-8\"><p class=\"title-artist\"><cite class=\"title\">Easy On Me</cite><em class=\"artist\">Adele</em></p><ul><li><strong>Genre</strong>: Pop</li><li><strong>Release Date</strong>: 15-10-2021</li><li class=\"billboard-chart\">Former #1 song on the <cite>Billboard Hot 100</cite> chart.</li></ul><a aria-label=\"Stream Easy On Me - Adele on Apple Music\" class=\"buy-button button\" href=\"https://music.apple.com/nl/album/easy-on-me/1590035691?i=1590036021&amp;uo=2&amp;partnerId=11&amp;at=10l4UI&amp;app=music&amp;ct=music-songs\" rel=\"nofollow noopener\">Listen on Apple Music</a> <a aria-label=\"Buy Easy On Me - Adele on iTunes\" class=\"buy-button button\" href=\"https://music.apple.com/nl/album/easy-on-me/1590035691?i=1590036021&amp;uo=2&amp;partnerId=11&amp;at=10l4UI&amp;app=itunes&amp;ct=music-songs\" rel=\"nofollow noopener\">Buy on iTunes</a> <a aria-label=\"Buy Easy On Me - Adele on Amazon\" class=\"amazon-buy button\" href=\"https://www.amazon.com/gp/search?ie=UTF8&amp;keywords=Easy+On+Me+Adele&amp;tag=popv0f-20&amp;search-alias=digital-music\" rel=\"nofollow noopener\" target=\"_blank\">Buy on Amazon</a> <div class=\"social-share\"><a class=\"facebook-share-button\" href=\"javascript: void(0)\" onclick=\"window.open('https://www.facebook.com/dialog/feed?app_id=178831188827052&amp;display=popup&amp;description=Easy+On+Me+by+Adele+is+currently+at+number+1+on+the+iTunes+Netherlands+top+100+songs+chart.&amp;link=http%3A%2F%2Fwww.popvortex.com%2Fmusic%2Fnetherlands%2Ftop-songs.php&amp;redirect_uri=http%3A%2F%2Fwww.popvortex.com%2Fpopup-close.html&amp;picture=https%3A%2F%2Fis5-ssl.mzstatic.com%2Fimage%2Fthumb%2FMusic115%2Fv4%2F73%2F6d%2F7c%2F736d7cfb-c79d-c9a9-4170-5e71d008dea1%2F886449666430.jpg%2F170x170bb.png','sharer','toolbar=0,status=0,width=548,height=325');\"><img alt=\"Share on Facebook\" height=\"20\" src=\"../../images/facebook-share.png\" width=\"55\"/></a> <a class=\"pinterest-share-button\" data-pin-config=\"none\" data-pin-do=\"buttonPin\" href=\"//pinterest.com/pin/create/button/?url=http%3A%2F%2Fwww.popvortex.com%2Fmusic%2Fnetherlands%2Ftop-songs.php&amp;media=https%3A%2F%2Fis5-ssl.mzstatic.com%2Fimage%2Fthumb%2FMusic115%2Fv4%2F73%2F6d%2F7c%2F736d7cfb-c79d-c9a9-4170-5e71d008dea1%2F886449666430.jpg%2F1200x1200bb.png&amp;description=Easy On Me - Adele\"><img alt=\"Pinterest Button\" src=\"//assets.pinterest.com/images/pidgets/pin_it_button.png\"/></a> <a class=\"tweet-button\" href=\"https://twitter.com/intent/tweet?text=Easy+On+Me+by+Adele+is+%231+on+iTunes+Netherlands+top+100+songs+chart.&amp;hashtags=iTunes&amp;url=http://www.popvortex.com/music/netherlands/top-songs.php\"><span></span>Tweet</a></div></div>]"
      ]
     },
     "execution_count": 5,
     "metadata": {},
     "output_type": "execute_result"
    }
   ],
   "source": [
    "soup.select('#chart-position-1 > div.chart-content.col-xs-12.col-sm-8')"
   ]
  },
  {
   "cell_type": "code",
   "execution_count": 6,
   "id": "b0f4c127",
   "metadata": {},
   "outputs": [
    {
     "data": {
      "text/plain": [
       "'Easy On Me'"
      ]
     },
     "execution_count": 6,
     "metadata": {},
     "output_type": "execute_result"
    }
   ],
   "source": [
    "soup.cite.get_text()"
   ]
  },
  {
   "cell_type": "code",
   "execution_count": 7,
   "id": "ef1583ad",
   "metadata": {},
   "outputs": [
    {
     "data": {
      "text/plain": [
       "'Adele'"
      ]
     },
     "execution_count": 7,
     "metadata": {},
     "output_type": "execute_result"
    }
   ],
   "source": [
    "soup.em.get_text()"
   ]
  },
  {
   "cell_type": "code",
   "execution_count": 8,
   "id": "e1ddbbc3",
   "metadata": {},
   "outputs": [
    {
     "data": {
      "text/plain": [
       "<cite class=\"title\">Easy On Me</cite>"
      ]
     },
     "execution_count": 8,
     "metadata": {},
     "output_type": "execute_result"
    }
   ],
   "source": [
    "soup.select('cite.title')[0]"
   ]
  },
  {
   "cell_type": "code",
   "execution_count": 9,
   "id": "201099c0",
   "metadata": {},
   "outputs": [
    {
     "data": {
      "text/plain": [
       "'Easy On Me'"
      ]
     },
     "execution_count": 9,
     "metadata": {},
     "output_type": "execute_result"
    }
   ],
   "source": [
    "soup.select('cite.title')[0].get_text()"
   ]
  },
  {
   "cell_type": "code",
   "execution_count": 10,
   "id": "d6b66536",
   "metadata": {},
   "outputs": [
    {
     "data": {
      "text/plain": [
       "<em class=\"artist\">Adele</em>"
      ]
     },
     "execution_count": 10,
     "metadata": {},
     "output_type": "execute_result"
    }
   ],
   "source": [
    "soup.select('em.artist')[0]"
   ]
  },
  {
   "cell_type": "code",
   "execution_count": 11,
   "id": "8155afca",
   "metadata": {},
   "outputs": [
    {
     "name": "stdout",
     "output_type": "stream",
     "text": [
      "['Easy On Me', 'Do It To It (feat. Cherish)', 'Cold Heart (PNAU Remix)', 'Ons Moeder Zeej Nog', 'Schiddi Widdi Witt', 'Dat Heb Jij Gedaan', 'Only You', 'Mañana', 'Everybody Needs Somebody To Love', 'Alle Remmen Los', 'Misschien Huil Ik Niet Hard Genoeg', 'Thunder', 'Moth To A Flame', 'Baby Lekker Ding', 'To Be Loved', 'Hold On', 'I Drink Wine', \"Tot Over M'n Oren\", 'The Motto', 'Ja Wie Niet Springt (Die Moet Betalen)', 'Dopamine (feat. Eyelar)', 'Love Is A Game', 'When We Were Young', 'Pepas', 'Shivers', 'Nooit Meer Alcohol', 'Hard To Say Goodbye', 'Coming Home With Santa', 'We Are Not Alone (Original Soundtrack)', 'Three Little Birds', \"Non Stop Vol D'r Op\", 'Where Are You Now', 'My Universe', 'Talk About', \"Don't Break the Heart\", 'Christmas On My Doorstep', 'Strangers By Nature', \"It's Beginning to Look a Lot like Christmas\", 'Skyfall', 'Someone Like You', 'Hello', 'The Business', 'Blinding Lights', 'Más Más Más', 'Amsterdam', 'Overpass Graffiti', 'Wij Gaan Door', 'Vrijmibo', 'Can I Get It', 'Better Days', 'Santé', 'Smokin Out The Window', \"Don't Be Shy\", 'My Little Love', 'Talamanca', 'Verlaat Me Nu Nog Niet', 'Goodbye (From the series Arcane League of Legends)', 'Daan Park', \"I'm a B\", 'Set Fire to the Rain', 'All I Want For Christmas Is You', 'Perfect', 'Sorry', 'What a Wonderful World', 'Santa Tell Me', \"It's Beginning To Look a Lot Like Christmas\", 'Mr. Blue Sky', 'Life Is a Highway', 'Bon Gepakt (feat. Rene Froger)', 'Hold On', 'We Are the People (feat. Bono & The Edge)', 'Visiting Hours', 'love nwantiti (feat. Axel & DJ Yo) [Remix]', 'Bad Habits', 'Alles Komt Goed', 'Last Train Home', 'A Whiter Shade of Pale', 'Acapulco', 'One Right Now', 'Anywhere With You', 'Everywhere (BBC Children In Need)', 'Voor Je Van Me Houdt', 'Hurricane', 'Tell Me Something Good', 'In De Nacht', 'Higher Power', 'THATS WHAT I WANT', 'Last Dance', 'Streken Van Een Duivel (feat. Frenna)', 'Sweet Caroline (Single Version)', 'Will and Elizabeth', 'Leave The Door Open (Live)', 'Universal Soldier', 'Fly As Me', 'Eres Tu', 'Endwalker', 'What Could Have Been feat. Ray Chen (From the series Arcane League of Legends)', '¿Y Qué Fue?', 'Geen Afstand (feat. Reyer)', 'She Will (feat. Drake)']\n",
      "['Adele', 'Acraze', 'Elton John & Dua Lipa', 'Jan Biggel', 'Gino Graus', 'MEAU', 'Rene Le Blanc', 'Evert Van Huygevoort', 'Danny Froger & Wesley Klein', 'Helemaal Hollands', 'Bolland & Bolland', 'Gabry Ponte, LUM!X & Prezioso', 'Swedish House Mafia & The Weeknd', 'Jeffrey Heesen', 'Adele', 'Adele', 'Adele', 'Bob Offenberg', 'Tiësto & Ava Max', 'Gebroeders Ko', 'Purple Disco Machine', 'Adele', 'Adele', 'Farruko', 'Ed Sheeran', 'Lawineboys', 'RONDÉ', 'OG3NE', 'Nick Cave & Warren Ellis', 'Bob Marley & The Wailers', 'Snollebollekes', 'Lost Frequencies & Calum Scott', 'Coldplay X BTS', 'Rain Radio & DJ Craig Gorman', 'Tom Grennan', 'OG3NE', 'Adele', 'Michael Bublé', 'Adele', 'Adele', 'Adele', 'Tiësto', 'The Weeknd', 'Rolf Sanchez', 'FLEMMING', 'Ed Sheeran', 'Django Wagner & Wolter Kroes', 'Arjon Oostrom', 'Adele', 'Dermot Kennedy', 'Stromae', 'Bruno Mars, Anderson .Paak & Silk Sonic', 'Tiësto & KAROL G', 'Adele', 'BURNS', 'BLØF', 'Ramsey', 'Matthew Halsall & The Gondwana Orchestra', 'Hwa Sa', 'Adele', 'Mariah Carey', 'Ed Sheeran', 'Kensington', 'Louis Armstrong', 'Ariana Grande', 'Michael Bublé', 'Electric Light Orchestra', 'Rascal Flatts', 'Donnie', 'Armin van Buuren & Davina Michelle', 'Martin Garrix', 'Ed Sheeran', 'CKay', 'Ed Sheeran', 'Jaap Reesema', 'John Mayer', 'Procol Harum', 'Jason Derulo', 'Post Malone & The Weeknd', 'Afrojack, Lucas & Steve & DubVision', 'Niall Horan & Anne-Marie', 'Jaap Reesema', 'Ofenbach & Ella Henderson', 'Ewan McVicar', 'Yade Lauren', 'Coldplay', 'Lil Nas X', 'Donna Summer', 'Bilal Wahib', 'Neil Diamond', 'Klaus Badelt', 'Bruno Mars, Anderson .Paak & Silk Sonic', 'Donovan', 'Bruno Mars, Anderson .Paak & Silk Sonic', 'Mocedades', 'Masayoshi Soken & THE PRIMALS', 'Sting', 'Don Miguelo', 'Eline Bakker', 'Lil Wayne']\n"
     ]
    }
   ],
   "source": [
    "title = []\n",
    "artist = []\n",
    "\n",
    "num_iter = len(soup.select('cite.title'))\n",
    "\n",
    "for i in range(num_iter):\n",
    "    title.append(soup.select('cite.title')[i].get_text())\n",
    "    artist.append(soup.select('em.artist')[i].get_text())\n",
    "    \n",
    "print(title)\n",
    "print(artist)\n",
    "\n",
    "# each list becomes a column\n",
    "songs = pd.DataFrame({\"title\":title,\n",
    "                       \"artist\":artist,\n",
    "                      })\n"
   ]
  },
  {
   "cell_type": "code",
   "execution_count": null,
   "id": "2e3fae1f",
   "metadata": {},
   "outputs": [],
   "source": [
    "url = 'http://www.popvortex.com/charts/australia.php'\n",
    "# top 100 songs in Australia"
   ]
  },
  {
   "cell_type": "code",
   "execution_count": 12,
   "id": "b5acea6b",
   "metadata": {},
   "outputs": [
    {
     "data": {
      "text/plain": [
       "200"
      ]
     },
     "execution_count": 12,
     "metadata": {},
     "output_type": "execute_result"
    }
   ],
   "source": [
    "response1 = requests.get(url)\n",
    "response1.status_code"
   ]
  },
  {
   "cell_type": "code",
   "execution_count": 13,
   "id": "6b7af495",
   "metadata": {},
   "outputs": [
    {
     "data": {
      "text/plain": [
       "[<div class=\"chart-content col-xs-12 col-sm-8\"><p class=\"title-artist\"><cite class=\"title\">Easy On Me</cite><em class=\"artist\">Adele</em></p><ul><li><strong>Genre</strong>: Pop</li><li><strong>Release Date</strong>: 15-10-2021</li><li class=\"billboard-chart\">Former #1 song on the <cite>Billboard Hot 100</cite> chart.</li></ul><a aria-label=\"Stream Easy On Me - Adele on Apple Music\" class=\"buy-button button\" href=\"https://music.apple.com/nl/album/easy-on-me/1590035691?i=1590036021&amp;uo=2&amp;partnerId=11&amp;at=10l4UI&amp;app=music&amp;ct=music-songs\" rel=\"nofollow noopener\">Listen on Apple Music</a> <a aria-label=\"Buy Easy On Me - Adele on iTunes\" class=\"buy-button button\" href=\"https://music.apple.com/nl/album/easy-on-me/1590035691?i=1590036021&amp;uo=2&amp;partnerId=11&amp;at=10l4UI&amp;app=itunes&amp;ct=music-songs\" rel=\"nofollow noopener\">Buy on iTunes</a> <a aria-label=\"Buy Easy On Me - Adele on Amazon\" class=\"amazon-buy button\" href=\"https://www.amazon.com/gp/search?ie=UTF8&amp;keywords=Easy+On+Me+Adele&amp;tag=popv0f-20&amp;search-alias=digital-music\" rel=\"nofollow noopener\" target=\"_blank\">Buy on Amazon</a> <div class=\"social-share\"><a class=\"facebook-share-button\" href=\"javascript: void(0)\" onclick=\"window.open('https://www.facebook.com/dialog/feed?app_id=178831188827052&amp;display=popup&amp;description=Easy+On+Me+by+Adele+is+currently+at+number+1+on+the+iTunes+Netherlands+top+100+songs+chart.&amp;link=http%3A%2F%2Fwww.popvortex.com%2Fmusic%2Fnetherlands%2Ftop-songs.php&amp;redirect_uri=http%3A%2F%2Fwww.popvortex.com%2Fpopup-close.html&amp;picture=https%3A%2F%2Fis5-ssl.mzstatic.com%2Fimage%2Fthumb%2FMusic115%2Fv4%2F73%2F6d%2F7c%2F736d7cfb-c79d-c9a9-4170-5e71d008dea1%2F886449666430.jpg%2F170x170bb.png','sharer','toolbar=0,status=0,width=548,height=325');\"><img alt=\"Share on Facebook\" height=\"20\" src=\"../../images/facebook-share.png\" width=\"55\"/></a> <a class=\"pinterest-share-button\" data-pin-config=\"none\" data-pin-do=\"buttonPin\" href=\"//pinterest.com/pin/create/button/?url=http%3A%2F%2Fwww.popvortex.com%2Fmusic%2Fnetherlands%2Ftop-songs.php&amp;media=https%3A%2F%2Fis5-ssl.mzstatic.com%2Fimage%2Fthumb%2FMusic115%2Fv4%2F73%2F6d%2F7c%2F736d7cfb-c79d-c9a9-4170-5e71d008dea1%2F886449666430.jpg%2F1200x1200bb.png&amp;description=Easy On Me - Adele\"><img alt=\"Pinterest Button\" src=\"//assets.pinterest.com/images/pidgets/pin_it_button.png\"/></a> <a class=\"tweet-button\" href=\"https://twitter.com/intent/tweet?text=Easy+On+Me+by+Adele+is+%231+on+iTunes+Netherlands+top+100+songs+chart.&amp;hashtags=iTunes&amp;url=http://www.popvortex.com/music/netherlands/top-songs.php\"><span></span>Tweet</a></div></div>]"
      ]
     },
     "execution_count": 13,
     "metadata": {},
     "output_type": "execute_result"
    }
   ],
   "source": [
    "spoon = BeautifulSoup(response1.content, \"html.parser\")\n",
    "spoon.select('#chart-position-1 > div.chart-content.col-xs-12.col-sm-8')"
   ]
  },
  {
   "cell_type": "code",
   "execution_count": 14,
   "id": "3fd6bea4",
   "metadata": {},
   "outputs": [
    {
     "name": "stdout",
     "output_type": "stream",
     "text": [
      "['Easy On Me', 'Do It To It (feat. Cherish)', 'Cold Heart (PNAU Remix)', 'Ons Moeder Zeej Nog', 'Schiddi Widdi Witt', 'Dat Heb Jij Gedaan', 'Only You', 'Mañana', 'Everybody Needs Somebody To Love', 'Alle Remmen Los', 'Misschien Huil Ik Niet Hard Genoeg', 'Thunder', 'Moth To A Flame', 'Baby Lekker Ding', 'To Be Loved', 'Hold On', 'I Drink Wine', \"Tot Over M'n Oren\", 'The Motto', 'Ja Wie Niet Springt (Die Moet Betalen)', 'Dopamine (feat. Eyelar)', 'Love Is A Game', 'When We Were Young', 'Pepas', 'Shivers', 'Nooit Meer Alcohol', 'Hard To Say Goodbye', 'Coming Home With Santa', 'We Are Not Alone (Original Soundtrack)', 'Three Little Birds', \"Non Stop Vol D'r Op\", 'Where Are You Now', 'My Universe', 'Talk About', \"Don't Break the Heart\", 'Christmas On My Doorstep', 'Strangers By Nature', \"It's Beginning to Look a Lot like Christmas\", 'Skyfall', 'Someone Like You', 'Hello', 'The Business', 'Blinding Lights', 'Más Más Más', 'Amsterdam', 'Overpass Graffiti', 'Wij Gaan Door', 'Vrijmibo', 'Can I Get It', 'Better Days', 'Santé', 'Smokin Out The Window', \"Don't Be Shy\", 'My Little Love', 'Talamanca', 'Verlaat Me Nu Nog Niet', 'Goodbye (From the series Arcane League of Legends)', 'Daan Park', \"I'm a B\", 'Set Fire to the Rain', 'All I Want For Christmas Is You', 'Perfect', 'Sorry', 'What a Wonderful World', 'Santa Tell Me', \"It's Beginning To Look a Lot Like Christmas\", 'Mr. Blue Sky', 'Life Is a Highway', 'Bon Gepakt (feat. Rene Froger)', 'Hold On', 'We Are the People (feat. Bono & The Edge)', 'Visiting Hours', 'love nwantiti (feat. Axel & DJ Yo) [Remix]', 'Bad Habits', 'Alles Komt Goed', 'Last Train Home', 'A Whiter Shade of Pale', 'Acapulco', 'One Right Now', 'Anywhere With You', 'Everywhere (BBC Children In Need)', 'Voor Je Van Me Houdt', 'Hurricane', 'Tell Me Something Good', 'In De Nacht', 'Higher Power', 'THATS WHAT I WANT', 'Last Dance', 'Streken Van Een Duivel (feat. Frenna)', 'Sweet Caroline (Single Version)', 'Will and Elizabeth', 'Leave The Door Open (Live)', 'Universal Soldier', 'Fly As Me', 'Eres Tu', 'Endwalker', 'What Could Have Been feat. Ray Chen (From the series Arcane League of Legends)', '¿Y Qué Fue?', 'Geen Afstand (feat. Reyer)', 'She Will (feat. Drake)']\n",
      "['Adele', 'Acraze', 'Elton John & Dua Lipa', 'Jan Biggel', 'Gino Graus', 'MEAU', 'Rene Le Blanc', 'Evert Van Huygevoort', 'Danny Froger & Wesley Klein', 'Helemaal Hollands', 'Bolland & Bolland', 'Gabry Ponte, LUM!X & Prezioso', 'Swedish House Mafia & The Weeknd', 'Jeffrey Heesen', 'Adele', 'Adele', 'Adele', 'Bob Offenberg', 'Tiësto & Ava Max', 'Gebroeders Ko', 'Purple Disco Machine', 'Adele', 'Adele', 'Farruko', 'Ed Sheeran', 'Lawineboys', 'RONDÉ', 'OG3NE', 'Nick Cave & Warren Ellis', 'Bob Marley & The Wailers', 'Snollebollekes', 'Lost Frequencies & Calum Scott', 'Coldplay X BTS', 'Rain Radio & DJ Craig Gorman', 'Tom Grennan', 'OG3NE', 'Adele', 'Michael Bublé', 'Adele', 'Adele', 'Adele', 'Tiësto', 'The Weeknd', 'Rolf Sanchez', 'FLEMMING', 'Ed Sheeran', 'Django Wagner & Wolter Kroes', 'Arjon Oostrom', 'Adele', 'Dermot Kennedy', 'Stromae', 'Bruno Mars, Anderson .Paak & Silk Sonic', 'Tiësto & KAROL G', 'Adele', 'BURNS', 'BLØF', 'Ramsey', 'Matthew Halsall & The Gondwana Orchestra', 'Hwa Sa', 'Adele', 'Mariah Carey', 'Ed Sheeran', 'Kensington', 'Louis Armstrong', 'Ariana Grande', 'Michael Bublé', 'Electric Light Orchestra', 'Rascal Flatts', 'Donnie', 'Armin van Buuren & Davina Michelle', 'Martin Garrix', 'Ed Sheeran', 'CKay', 'Ed Sheeran', 'Jaap Reesema', 'John Mayer', 'Procol Harum', 'Jason Derulo', 'Post Malone & The Weeknd', 'Afrojack, Lucas & Steve & DubVision', 'Niall Horan & Anne-Marie', 'Jaap Reesema', 'Ofenbach & Ella Henderson', 'Ewan McVicar', 'Yade Lauren', 'Coldplay', 'Lil Nas X', 'Donna Summer', 'Bilal Wahib', 'Neil Diamond', 'Klaus Badelt', 'Bruno Mars, Anderson .Paak & Silk Sonic', 'Donovan', 'Bruno Mars, Anderson .Paak & Silk Sonic', 'Mocedades', 'Masayoshi Soken & THE PRIMALS', 'Sting', 'Don Miguelo', 'Eline Bakker', 'Lil Wayne']\n"
     ]
    }
   ],
   "source": [
    "title1 = []\n",
    "artist1 = []\n",
    "\n",
    "num_iter = len(spoon.select('cite.title'))\n",
    "\n",
    "for i in range(num_iter):\n",
    "    title1.append(spoon.select('cite.title')[i].get_text())\n",
    "    artist1.append(spoon.select('em.artist')[i].get_text())\n",
    "    \n",
    "print(title1)\n",
    "print(artist1)\n",
    "\n",
    "# each list becomes a column\n",
    "songs1 = pd.DataFrame({\"title\":title1,\n",
    "                       \"artist\":artist1,\n",
    "                      })"
   ]
  },
  {
   "cell_type": "code",
   "execution_count": 15,
   "id": "a74d6fe4",
   "metadata": {},
   "outputs": [
    {
     "data": {
      "text/html": [
       "<div>\n",
       "<style scoped>\n",
       "    .dataframe tbody tr th:only-of-type {\n",
       "        vertical-align: middle;\n",
       "    }\n",
       "\n",
       "    .dataframe tbody tr th {\n",
       "        vertical-align: top;\n",
       "    }\n",
       "\n",
       "    .dataframe thead th {\n",
       "        text-align: right;\n",
       "    }\n",
       "</style>\n",
       "<table border=\"1\" class=\"dataframe\">\n",
       "  <thead>\n",
       "    <tr style=\"text-align: right;\">\n",
       "      <th></th>\n",
       "      <th>title</th>\n",
       "      <th>artist</th>\n",
       "    </tr>\n",
       "  </thead>\n",
       "  <tbody>\n",
       "    <tr>\n",
       "      <th>0</th>\n",
       "      <td>Easy On Me</td>\n",
       "      <td>Adele</td>\n",
       "    </tr>\n",
       "    <tr>\n",
       "      <th>1</th>\n",
       "      <td>Do It To It (feat. Cherish)</td>\n",
       "      <td>Acraze</td>\n",
       "    </tr>\n",
       "    <tr>\n",
       "      <th>2</th>\n",
       "      <td>Cold Heart (PNAU Remix)</td>\n",
       "      <td>Elton John &amp; Dua Lipa</td>\n",
       "    </tr>\n",
       "    <tr>\n",
       "      <th>3</th>\n",
       "      <td>Ons Moeder Zeej Nog</td>\n",
       "      <td>Jan Biggel</td>\n",
       "    </tr>\n",
       "    <tr>\n",
       "      <th>4</th>\n",
       "      <td>Schiddi Widdi Witt</td>\n",
       "      <td>Gino Graus</td>\n",
       "    </tr>\n",
       "  </tbody>\n",
       "</table>\n",
       "</div>"
      ],
      "text/plain": [
       "                         title                 artist\n",
       "0                   Easy On Me                  Adele\n",
       "1  Do It To It (feat. Cherish)                 Acraze\n",
       "2      Cold Heart (PNAU Remix)  Elton John & Dua Lipa\n",
       "3          Ons Moeder Zeej Nog             Jan Biggel\n",
       "4           Schiddi Widdi Witt             Gino Graus"
      ]
     },
     "execution_count": 15,
     "metadata": {},
     "output_type": "execute_result"
    }
   ],
   "source": [
    "songs1.head(5)"
   ]
  },
  {
   "cell_type": "code",
   "execution_count": 16,
   "id": "c0309d5b",
   "metadata": {},
   "outputs": [
    {
     "data": {
      "text/html": [
       "<div>\n",
       "<style scoped>\n",
       "    .dataframe tbody tr th:only-of-type {\n",
       "        vertical-align: middle;\n",
       "    }\n",
       "\n",
       "    .dataframe tbody tr th {\n",
       "        vertical-align: top;\n",
       "    }\n",
       "\n",
       "    .dataframe thead th {\n",
       "        text-align: right;\n",
       "    }\n",
       "</style>\n",
       "<table border=\"1\" class=\"dataframe\">\n",
       "  <thead>\n",
       "    <tr style=\"text-align: right;\">\n",
       "      <th></th>\n",
       "      <th>index</th>\n",
       "      <th>title</th>\n",
       "      <th>artist</th>\n",
       "    </tr>\n",
       "  </thead>\n",
       "  <tbody>\n",
       "    <tr>\n",
       "      <th>0</th>\n",
       "      <td>0</td>\n",
       "      <td>Easy On Me</td>\n",
       "      <td>Adele</td>\n",
       "    </tr>\n",
       "    <tr>\n",
       "      <th>1</th>\n",
       "      <td>1</td>\n",
       "      <td>Do It To It (feat. Cherish)</td>\n",
       "      <td>Acraze</td>\n",
       "    </tr>\n",
       "    <tr>\n",
       "      <th>2</th>\n",
       "      <td>2</td>\n",
       "      <td>Cold Heart (PNAU Remix)</td>\n",
       "      <td>Elton John &amp; Dua Lipa</td>\n",
       "    </tr>\n",
       "    <tr>\n",
       "      <th>3</th>\n",
       "      <td>3</td>\n",
       "      <td>Ons Moeder Zeej Nog</td>\n",
       "      <td>Jan Biggel</td>\n",
       "    </tr>\n",
       "    <tr>\n",
       "      <th>4</th>\n",
       "      <td>4</td>\n",
       "      <td>Schiddi Widdi Witt</td>\n",
       "      <td>Gino Graus</td>\n",
       "    </tr>\n",
       "    <tr>\n",
       "      <th>...</th>\n",
       "      <td>...</td>\n",
       "      <td>...</td>\n",
       "      <td>...</td>\n",
       "    </tr>\n",
       "    <tr>\n",
       "      <th>195</th>\n",
       "      <td>95</td>\n",
       "      <td>Endwalker</td>\n",
       "      <td>Masayoshi Soken &amp; THE PRIMALS</td>\n",
       "    </tr>\n",
       "    <tr>\n",
       "      <th>196</th>\n",
       "      <td>96</td>\n",
       "      <td>What Could Have Been feat. Ray Chen (From the ...</td>\n",
       "      <td>Sting</td>\n",
       "    </tr>\n",
       "    <tr>\n",
       "      <th>197</th>\n",
       "      <td>97</td>\n",
       "      <td>¿Y Qué Fue?</td>\n",
       "      <td>Don Miguelo</td>\n",
       "    </tr>\n",
       "    <tr>\n",
       "      <th>198</th>\n",
       "      <td>98</td>\n",
       "      <td>Geen Afstand (feat. Reyer)</td>\n",
       "      <td>Eline Bakker</td>\n",
       "    </tr>\n",
       "    <tr>\n",
       "      <th>199</th>\n",
       "      <td>99</td>\n",
       "      <td>She Will (feat. Drake)</td>\n",
       "      <td>Lil Wayne</td>\n",
       "    </tr>\n",
       "  </tbody>\n",
       "</table>\n",
       "<p>200 rows × 3 columns</p>\n",
       "</div>"
      ],
      "text/plain": [
       "     index                                              title  \\\n",
       "0        0                                         Easy On Me   \n",
       "1        1                        Do It To It (feat. Cherish)   \n",
       "2        2                            Cold Heart (PNAU Remix)   \n",
       "3        3                                Ons Moeder Zeej Nog   \n",
       "4        4                                 Schiddi Widdi Witt   \n",
       "..     ...                                                ...   \n",
       "195     95                                          Endwalker   \n",
       "196     96  What Could Have Been feat. Ray Chen (From the ...   \n",
       "197     97                                        ¿Y Qué Fue?   \n",
       "198     98                         Geen Afstand (feat. Reyer)   \n",
       "199     99                             She Will (feat. Drake)   \n",
       "\n",
       "                            artist  \n",
       "0                            Adele  \n",
       "1                           Acraze  \n",
       "2            Elton John & Dua Lipa  \n",
       "3                       Jan Biggel  \n",
       "4                       Gino Graus  \n",
       "..                             ...  \n",
       "195  Masayoshi Soken & THE PRIMALS  \n",
       "196                          Sting  \n",
       "197                    Don Miguelo  \n",
       "198                   Eline Bakker  \n",
       "199                      Lil Wayne  \n",
       "\n",
       "[200 rows x 3 columns]"
      ]
     },
     "execution_count": 16,
     "metadata": {},
     "output_type": "execute_result"
    }
   ],
   "source": [
    "top_songs = pd.concat([songs, songs1], axis=0).reset_index()\n",
    "top_songs"
   ]
  },
  {
   "cell_type": "code",
   "execution_count": 17,
   "id": "dceb033e",
   "metadata": {},
   "outputs": [],
   "source": [
    "top_songs = top_songs.drop(['index'], axis=1)"
   ]
  },
  {
   "cell_type": "code",
   "execution_count": 18,
   "id": "34393316",
   "metadata": {},
   "outputs": [
    {
     "data": {
      "text/html": [
       "<div>\n",
       "<style scoped>\n",
       "    .dataframe tbody tr th:only-of-type {\n",
       "        vertical-align: middle;\n",
       "    }\n",
       "\n",
       "    .dataframe tbody tr th {\n",
       "        vertical-align: top;\n",
       "    }\n",
       "\n",
       "    .dataframe thead th {\n",
       "        text-align: right;\n",
       "    }\n",
       "</style>\n",
       "<table border=\"1\" class=\"dataframe\">\n",
       "  <thead>\n",
       "    <tr style=\"text-align: right;\">\n",
       "      <th></th>\n",
       "      <th>title</th>\n",
       "      <th>artist</th>\n",
       "    </tr>\n",
       "  </thead>\n",
       "  <tbody>\n",
       "    <tr>\n",
       "      <th>0</th>\n",
       "      <td>Easy On Me</td>\n",
       "      <td>Adele</td>\n",
       "    </tr>\n",
       "    <tr>\n",
       "      <th>1</th>\n",
       "      <td>Do It To It (feat. Cherish)</td>\n",
       "      <td>Acraze</td>\n",
       "    </tr>\n",
       "    <tr>\n",
       "      <th>2</th>\n",
       "      <td>Cold Heart (PNAU Remix)</td>\n",
       "      <td>Elton John &amp; Dua Lipa</td>\n",
       "    </tr>\n",
       "    <tr>\n",
       "      <th>3</th>\n",
       "      <td>Ons Moeder Zeej Nog</td>\n",
       "      <td>Jan Biggel</td>\n",
       "    </tr>\n",
       "    <tr>\n",
       "      <th>4</th>\n",
       "      <td>Schiddi Widdi Witt</td>\n",
       "      <td>Gino Graus</td>\n",
       "    </tr>\n",
       "    <tr>\n",
       "      <th>...</th>\n",
       "      <td>...</td>\n",
       "      <td>...</td>\n",
       "    </tr>\n",
       "    <tr>\n",
       "      <th>195</th>\n",
       "      <td>Endwalker</td>\n",
       "      <td>Masayoshi Soken &amp; THE PRIMALS</td>\n",
       "    </tr>\n",
       "    <tr>\n",
       "      <th>196</th>\n",
       "      <td>What Could Have Been feat. Ray Chen (From the ...</td>\n",
       "      <td>Sting</td>\n",
       "    </tr>\n",
       "    <tr>\n",
       "      <th>197</th>\n",
       "      <td>¿Y Qué Fue?</td>\n",
       "      <td>Don Miguelo</td>\n",
       "    </tr>\n",
       "    <tr>\n",
       "      <th>198</th>\n",
       "      <td>Geen Afstand (feat. Reyer)</td>\n",
       "      <td>Eline Bakker</td>\n",
       "    </tr>\n",
       "    <tr>\n",
       "      <th>199</th>\n",
       "      <td>She Will (feat. Drake)</td>\n",
       "      <td>Lil Wayne</td>\n",
       "    </tr>\n",
       "  </tbody>\n",
       "</table>\n",
       "<p>200 rows × 2 columns</p>\n",
       "</div>"
      ],
      "text/plain": [
       "                                                 title  \\\n",
       "0                                           Easy On Me   \n",
       "1                          Do It To It (feat. Cherish)   \n",
       "2                              Cold Heart (PNAU Remix)   \n",
       "3                                  Ons Moeder Zeej Nog   \n",
       "4                                   Schiddi Widdi Witt   \n",
       "..                                                 ...   \n",
       "195                                          Endwalker   \n",
       "196  What Could Have Been feat. Ray Chen (From the ...   \n",
       "197                                        ¿Y Qué Fue?   \n",
       "198                         Geen Afstand (feat. Reyer)   \n",
       "199                             She Will (feat. Drake)   \n",
       "\n",
       "                            artist  \n",
       "0                            Adele  \n",
       "1                           Acraze  \n",
       "2            Elton John & Dua Lipa  \n",
       "3                       Jan Biggel  \n",
       "4                       Gino Graus  \n",
       "..                             ...  \n",
       "195  Masayoshi Soken & THE PRIMALS  \n",
       "196                          Sting  \n",
       "197                    Don Miguelo  \n",
       "198                   Eline Bakker  \n",
       "199                      Lil Wayne  \n",
       "\n",
       "[200 rows x 2 columns]"
      ]
     },
     "execution_count": 18,
     "metadata": {},
     "output_type": "execute_result"
    }
   ],
   "source": [
    "top_songs"
   ]
  },
  {
   "cell_type": "code",
   "execution_count": 19,
   "id": "b3dab9b1",
   "metadata": {},
   "outputs": [
    {
     "name": "stdout",
     "output_type": "stream",
     "text": [
      "search songs or artist you are intrested: Adele\n",
      "I would recommend you to listen to: \" Talamanca \" by BURNS\n"
     ]
    }
   ],
   "source": [
    "from random import randint\n",
    "\n",
    "def songs (data=top_songs):\n",
    "    song =  str(input(\"search songs or artist you are intrested: \"))\n",
    "    for i in range(len(top_songs)):\n",
    "        # if it is a song and it's in our list, then recommend another song from the list\n",
    "        if top_songs['title'][i] == song:\n",
    "            rand_number = randint(0,len(top_songs))\n",
    "            return(print(\"I would recommend you to listen to: \\\"\", top_songs['title'][rand_number], \"\\\" by\", top_songs['artist'][rand_number]))\n",
    "        # if it is an artist and it's in our list, then recommend another song from the list\n",
    "        elif top_songs['artist'][i] == song:\n",
    "            rand_number = randint(0,len(top_songs))\n",
    "            return(print(\"I would recommend you to listen to: \\\"\", top_songs['title'][rand_number], \"\\\" by\", top_songs['artist'][rand_number]))\n",
    "    return (\"Not in the list\")\n",
    "songs()"
   ]
  },
  {
   "cell_type": "code",
   "execution_count": 22,
   "id": "dd24d1ae",
   "metadata": {},
   "outputs": [],
   "source": [
    "import spotipy\n",
    "from spotipy.oauth2 import SpotifyClientCredentials\n",
    "#Initialize SpotiPy with user credentials\n",
    "#sp = spotipy.Spotify(auth_manager=SpotifyClientCredentials(client_id='<your client id here>',\n",
    "#                                                           client_secret='<your client secret here>'))\n"
   ]
  },
  {
   "cell_type": "code",
   "execution_count": 23,
   "id": "cad0c49d",
   "metadata": {},
   "outputs": [
    {
     "data": {
      "text/html": [
       "<div>\n",
       "<style scoped>\n",
       "    .dataframe tbody tr th:only-of-type {\n",
       "        vertical-align: middle;\n",
       "    }\n",
       "\n",
       "    .dataframe tbody tr th {\n",
       "        vertical-align: top;\n",
       "    }\n",
       "\n",
       "    .dataframe thead th {\n",
       "        text-align: right;\n",
       "    }\n",
       "</style>\n",
       "<table border=\"1\" class=\"dataframe\">\n",
       "  <thead>\n",
       "    <tr style=\"text-align: right;\">\n",
       "      <th></th>\n",
       "      <th>artist</th>\n",
       "      <th>album</th>\n",
       "      <th>track_name</th>\n",
       "      <th>track_id</th>\n",
       "      <th>danceability</th>\n",
       "      <th>energy</th>\n",
       "      <th>key</th>\n",
       "      <th>loudness</th>\n",
       "      <th>mode</th>\n",
       "      <th>speechiness</th>\n",
       "      <th>instrumentalness</th>\n",
       "      <th>liveness</th>\n",
       "      <th>valence</th>\n",
       "      <th>tempo</th>\n",
       "      <th>duration_ms</th>\n",
       "      <th>time_signature</th>\n",
       "    </tr>\n",
       "  </thead>\n",
       "  <tbody>\n",
       "    <tr>\n",
       "      <th>0</th>\n",
       "      <td>The Muppets</td>\n",
       "      <td>The Muppets (Original Motion Picture Soundtrack)</td>\n",
       "      <td>Rainbow Connection</td>\n",
       "      <td>1SJ4ycWow4yz6z4oFz8NAG</td>\n",
       "      <td>0.526</td>\n",
       "      <td>0.413</td>\n",
       "      <td>9</td>\n",
       "      <td>-7.674</td>\n",
       "      <td>1</td>\n",
       "      <td>0.0278</td>\n",
       "      <td>0</td>\n",
       "      <td>0.1260</td>\n",
       "      <td>0.211</td>\n",
       "      <td>115.936</td>\n",
       "      <td>188933</td>\n",
       "      <td>3</td>\n",
       "    </tr>\n",
       "    <tr>\n",
       "      <th>1</th>\n",
       "      <td>Israel Kamakawiwo'ole</td>\n",
       "      <td>Facing Future</td>\n",
       "      <td>Somewhere Over The Rainbow_What A Wonderful World</td>\n",
       "      <td>25U7raB3ZSszayTYClh4hF</td>\n",
       "      <td>0.663</td>\n",
       "      <td>0.168</td>\n",
       "      <td>0</td>\n",
       "      <td>-13.725</td>\n",
       "      <td>1</td>\n",
       "      <td>0.0448</td>\n",
       "      <td>0.000057</td>\n",
       "      <td>0.3610</td>\n",
       "      <td>0.678</td>\n",
       "      <td>85.005</td>\n",
       "      <td>308027</td>\n",
       "      <td>4</td>\n",
       "    </tr>\n",
       "    <tr>\n",
       "      <th>2</th>\n",
       "      <td>Joey Ramone</td>\n",
       "      <td>Don't Worry About Me</td>\n",
       "      <td>What a Wonderful World</td>\n",
       "      <td>04cdEVbQPb8BJb7593e5fO</td>\n",
       "      <td>0.422</td>\n",
       "      <td>0.878</td>\n",
       "      <td>5</td>\n",
       "      <td>-4.863</td>\n",
       "      <td>1</td>\n",
       "      <td>0.0442</td>\n",
       "      <td>0.332</td>\n",
       "      <td>0.2010</td>\n",
       "      <td>0.496</td>\n",
       "      <td>84.044</td>\n",
       "      <td>143360</td>\n",
       "      <td>4</td>\n",
       "    </tr>\n",
       "    <tr>\n",
       "      <th>3</th>\n",
       "      <td>Asaf Avidan &amp; the Mojos</td>\n",
       "      <td>One Day / Reckoning Song (Wankelmut Remix)</td>\n",
       "      <td>One Day / Reckoning Song (Wankelmut Remix) [Ra...</td>\n",
       "      <td>5HSkycOEtb9iQ7cg1Oyqmu</td>\n",
       "      <td>0.821</td>\n",
       "      <td>0.676</td>\n",
       "      <td>3</td>\n",
       "      <td>-6.366</td>\n",
       "      <td>0</td>\n",
       "      <td>0.0547</td>\n",
       "      <td>0.0001</td>\n",
       "      <td>0.0927</td>\n",
       "      <td>0.559</td>\n",
       "      <td>119.012</td>\n",
       "      <td>212360</td>\n",
       "      <td>4</td>\n",
       "    </tr>\n",
       "    <tr>\n",
       "      <th>4</th>\n",
       "      <td>Louis Armstrong</td>\n",
       "      <td>All Time Greatest Hits</td>\n",
       "      <td>What A Wonderful World - Single Version</td>\n",
       "      <td>2pp3RfqX5cb1BAnmNi4Nej</td>\n",
       "      <td>0.388</td>\n",
       "      <td>0.327</td>\n",
       "      <td>5</td>\n",
       "      <td>-12.522</td>\n",
       "      <td>1</td>\n",
       "      <td>0.0317</td>\n",
       "      <td>0.00103</td>\n",
       "      <td>0.1500</td>\n",
       "      <td>0.222</td>\n",
       "      <td>107.894</td>\n",
       "      <td>140333</td>\n",
       "      <td>3</td>\n",
       "    </tr>\n",
       "  </tbody>\n",
       "</table>\n",
       "</div>"
      ],
      "text/plain": [
       "                    artist                                             album  \\\n",
       "0              The Muppets  The Muppets (Original Motion Picture Soundtrack)   \n",
       "1    Israel Kamakawiwo'ole                                     Facing Future   \n",
       "2              Joey Ramone                              Don't Worry About Me   \n",
       "3  Asaf Avidan & the Mojos        One Day / Reckoning Song (Wankelmut Remix)   \n",
       "4          Louis Armstrong                            All Time Greatest Hits   \n",
       "\n",
       "                                          track_name                track_id  \\\n",
       "0                                 Rainbow Connection  1SJ4ycWow4yz6z4oFz8NAG   \n",
       "1  Somewhere Over The Rainbow_What A Wonderful World  25U7raB3ZSszayTYClh4hF   \n",
       "2                             What a Wonderful World  04cdEVbQPb8BJb7593e5fO   \n",
       "3  One Day / Reckoning Song (Wankelmut Remix) [Ra...  5HSkycOEtb9iQ7cg1Oyqmu   \n",
       "4            What A Wonderful World - Single Version  2pp3RfqX5cb1BAnmNi4Nej   \n",
       "\n",
       "   danceability  energy key  loudness mode  speechiness instrumentalness  \\\n",
       "0         0.526   0.413   9    -7.674    1       0.0278                0   \n",
       "1         0.663   0.168   0   -13.725    1       0.0448         0.000057   \n",
       "2         0.422   0.878   5    -4.863    1       0.0442            0.332   \n",
       "3         0.821   0.676   3    -6.366    0       0.0547           0.0001   \n",
       "4         0.388   0.327   5   -12.522    1       0.0317          0.00103   \n",
       "\n",
       "   liveness  valence    tempo duration_ms time_signature  \n",
       "0    0.1260    0.211  115.936      188933              3  \n",
       "1    0.3610    0.678   85.005      308027              4  \n",
       "2    0.2010    0.496   84.044      143360              4  \n",
       "3    0.0927    0.559  119.012      212360              4  \n",
       "4    0.1500    0.222  107.894      140333              3  "
      ]
     },
     "execution_count": 23,
     "metadata": {},
     "output_type": "execute_result"
    }
   ],
   "source": [
    "def call_playlist(creator, playlist_id):\n",
    "    \n",
    "    #step1\n",
    "\n",
    "    playlist_features_list = [\"artist\",\"album\",\"track_name\",  \"track_id\",\"danceability\",\"energy\",\"key\",\"loudness\",\"mode\", \"speechiness\",\"instrumentalness\",\"liveness\",\"valence\",\"tempo\", \"duration_ms\",\"time_signature\"]\n",
    "    \n",
    "    playlist_df = pd.DataFrame(columns = playlist_features_list)\n",
    "    \n",
    "    #step2\n",
    "    \n",
    "    playlist = sp.user_playlist_tracks(creator, playlist_id)[\"items\"]\n",
    "    for track in playlist:\n",
    "        # Create empty dict\n",
    "        playlist_features = {}\n",
    "        # Get metadata\n",
    "        playlist_features[\"artist\"] = track[\"track\"][\"album\"][\"artists\"][0][\"name\"]\n",
    "        playlist_features[\"album\"] = track[\"track\"][\"album\"][\"name\"]\n",
    "        playlist_features[\"track_name\"] = track[\"track\"][\"name\"]\n",
    "        playlist_features[\"track_id\"] = track[\"track\"][\"id\"]\n",
    "        \n",
    "        # Get audio features\n",
    "        audio_features = sp.audio_features(playlist_features[\"track_id\"])[0]\n",
    "        for feature in playlist_features_list[4:]:\n",
    "            playlist_features[feature] = audio_features[feature]\n",
    "        \n",
    "        # Concat the dfs\n",
    "        track_df = pd.DataFrame(playlist_features, index = [0])\n",
    "        playlist_df = pd.concat([playlist_df, track_df], ignore_index = True)\n",
    "\n",
    "    #Step 3\n",
    "        \n",
    "    return playlist_df\n",
    "\n",
    "call_playlist(\"spotify\",\"0BUNSGihi2mrhQu3fPcVim\").head()"
   ]
  },
  {
   "cell_type": "code",
   "execution_count": null,
   "id": "31fb976d",
   "metadata": {},
   "outputs": [],
   "source": []
  }
 ],
 "metadata": {
  "kernelspec": {
   "display_name": "Python 3 (ipykernel)",
   "language": "python",
   "name": "python3"
  },
  "language_info": {
   "codemirror_mode": {
    "name": "ipython",
    "version": 3
   },
   "file_extension": ".py",
   "mimetype": "text/x-python",
   "name": "python",
   "nbconvert_exporter": "python",
   "pygments_lexer": "ipython3",
   "version": "3.9.7"
  }
 },
 "nbformat": 4,
 "nbformat_minor": 5
}

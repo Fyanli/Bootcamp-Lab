{
 "cells": [
  {
   "cell_type": "code",
   "execution_count": 1,
   "id": "90bbcfd2",
   "metadata": {},
   "outputs": [],
   "source": [
    "from bs4 import BeautifulSoup\n",
    "import requests\n",
    "import pandas as pd"
   ]
  },
  {
   "cell_type": "code",
   "execution_count": 2,
   "id": "37eb050f",
   "metadata": {},
   "outputs": [],
   "source": [
    "url = \"http://www.popvortex.com/music/netherlands/top-songs.php\""
   ]
  },
  {
   "cell_type": "code",
   "execution_count": 3,
   "id": "357a2f09",
   "metadata": {},
   "outputs": [
    {
     "data": {
      "text/plain": [
       "200"
      ]
     },
     "execution_count": 3,
     "metadata": {},
     "output_type": "execute_result"
    }
   ],
   "source": [
    "response = requests.get(url)\n",
    "response.status_code"
   ]
  },
  {
   "cell_type": "code",
   "execution_count": 4,
   "id": "8340ee2e",
   "metadata": {},
   "outputs": [],
   "source": [
    "soup = BeautifulSoup(response.content, \"html.parser\")"
   ]
  },
  {
   "cell_type": "code",
   "execution_count": 5,
   "id": "8223f7cf",
   "metadata": {},
   "outputs": [
    {
     "data": {
      "text/plain": [
       "[<cite class=\"title\">Cold Heart (PNAU Remix)</cite>]"
      ]
     },
     "execution_count": 5,
     "metadata": {},
     "output_type": "execute_result"
    }
   ],
   "source": [
    "soup.select(\"#chart-position-1 > div.chart-content.col-xs-12.col-sm-8 > p > cite\")"
   ]
  },
  {
   "cell_type": "code",
   "execution_count": 6,
   "id": "72ca7026",
   "metadata": {},
   "outputs": [
    {
     "data": {
      "text/plain": [
       "'Easy On Me'"
      ]
     },
     "execution_count": 6,
     "metadata": {},
     "output_type": "execute_result"
    }
   ],
   "source": [
    "soup.select(\"p > cite\")[1].get_text()"
   ]
  },
  {
   "cell_type": "code",
   "execution_count": 7,
   "id": "5df723cb",
   "metadata": {},
   "outputs": [
    {
     "name": "stdout",
     "output_type": "stream",
     "text": [
      "['Cold Heart (PNAU Remix)', 'Easy On Me', 'Ons Moeder Zeej Nog', 'Only You', 'Do It To It (feat. Cherish)', 'Dat Heb Jij Gedaan', 'Coming Home With Santa', 'The Motto', 'Christmas On My Doorstep', \"Non Stop Vol D'r Op\", 'Schiddi Widdi Witt', 'Ja Wie Niet Springt (Die Moet Betalen)', 'Hold On', 'All I Want For Christmas Is You', 'Ik Ga Zwemmen', 'Misschien Huil Ik Niet Hard Genoeg', 'Thunder', 'Amsterdam', 'Baby Lekker Ding', 'Everybody Needs Somebody To Love', 'Mañana', 'Where Are You Now', 'To Be Loved', 'Wij Gaan Door', 'My Universe', 'Alle Remmen Los', 'Can I Get It', \"Don't Break the Heart\", 'Little Bit of Love', 'In De Nacht', 'Specularisatie', 'When We Were Young', 'Mercy', 'Pepas', 'Bad Habits', 'Shivers', 'Moth To A Flame', \"Tot Over M'n Oren\", 'Overpass Graffiti', 'Nooit Meer Alcohol', 'Have I Told You Lately', 'We Are the People (feat. Bono & The Edge)', 'Better Days', 'Dopamine (feat. Eyelar)', 'I Drink Wine', 'Soundgasm', 'Ik Ben Kachel', 'The Haves', 'Strangers By Nature', 'Goodbye Ciao Ciao', 'I AM WOMAN', 'Enemy (From the series \"Arcane League of Legends\")', 'We Made It (Extended Mix)', 'Hallow Fate', 'Substitution', 'Common Yellowthroat', 'Dans Met Me', 'Goodbye - Cinematic Version (from Arcane League of Legends) (feat. Sorah)', 'Jetpack (feat. ibbigang & Valter)', 'Cheers', 'Vanilla', 'Povedz to nahlas!', 'RAPINBOX Vol.1', 'Palauk Manęs', 'If I Said', 'Let it Go (Extended Mix)', 'Tranquilo', 'Watching the Waves (Extended Mix)', 'mesec (feat. DVN)', 'The Greater Light to Rule the Night', 'Hawaii', 'Sylvia (Remastered)', 'Teşekkürler Öğretmenim - Öğretmenler Günü Şarkısı', 'Bleed for This', 'Jij Bent Mijn Lieveling', 'Sweetie', 'Andamento', 'Não É Mais Segredo (feat. Gabriel Iglesias)', 'Nutcracker Suite 8 - Waltz of the Flowers - Tchaikovsky', '1 Rebel (feat. MC UD)', 'Across the Border', 'Antidote', 'Nyoka Musango', 'A Strong Intelligent Woman', 'I Follow Rivers (Live @ Giel! - Vara/3fm)', 'Skyfall', 'Dat Ik Je Mis', 'Happiness', 'Rolling In the Deep', 'Waka Waka (This Time for Africa) [The Official 2010 FIFA World Cup (TM) Song] [feat. Freshlyground]', 'Ik Neem Je Mee (Instrumental Version)', 'Balada', 'All of Me', 'More (From The Voice of Holland)', 'This Is What It Feels Like (feat. Trevor Guthrie)', 'Papaoutai', 'Just Give Me a Reason (feat. Nate Ruess)', 'Beauty & de Brains', 'Someone Like You', 'Get Lucky (feat. Pharrell Williams) [Radio Edit]']\n"
     ]
    }
   ],
   "source": [
    "song = []\n",
    "num_iter = len(soup.select(\"p > cite\"))\n",
    "\n",
    "for i in range(num_iter):\n",
    "    song.append(soup.select(\"p > cite\")[i].get_text())\n",
    "    \n",
    "print(song)\n",
    "\n",
    "top100_song = pd.DataFrame({\"song\":song})"
   ]
  },
  {
   "cell_type": "code",
   "execution_count": 8,
   "id": "9a3b35dd",
   "metadata": {},
   "outputs": [
    {
     "data": {
      "text/html": [
       "<div>\n",
       "<style scoped>\n",
       "    .dataframe tbody tr th:only-of-type {\n",
       "        vertical-align: middle;\n",
       "    }\n",
       "\n",
       "    .dataframe tbody tr th {\n",
       "        vertical-align: top;\n",
       "    }\n",
       "\n",
       "    .dataframe thead th {\n",
       "        text-align: right;\n",
       "    }\n",
       "</style>\n",
       "<table border=\"1\" class=\"dataframe\">\n",
       "  <thead>\n",
       "    <tr style=\"text-align: right;\">\n",
       "      <th></th>\n",
       "      <th>song</th>\n",
       "    </tr>\n",
       "  </thead>\n",
       "  <tbody>\n",
       "    <tr>\n",
       "      <th>0</th>\n",
       "      <td>Cold Heart (PNAU Remix)</td>\n",
       "    </tr>\n",
       "    <tr>\n",
       "      <th>1</th>\n",
       "      <td>Easy On Me</td>\n",
       "    </tr>\n",
       "    <tr>\n",
       "      <th>2</th>\n",
       "      <td>Ons Moeder Zeej Nog</td>\n",
       "    </tr>\n",
       "    <tr>\n",
       "      <th>3</th>\n",
       "      <td>Only You</td>\n",
       "    </tr>\n",
       "    <tr>\n",
       "      <th>4</th>\n",
       "      <td>Do It To It (feat. Cherish)</td>\n",
       "    </tr>\n",
       "  </tbody>\n",
       "</table>\n",
       "</div>"
      ],
      "text/plain": [
       "                          song\n",
       "0      Cold Heart (PNAU Remix)\n",
       "1                   Easy On Me\n",
       "2          Ons Moeder Zeej Nog\n",
       "3                     Only You\n",
       "4  Do It To It (feat. Cherish)"
      ]
     },
     "execution_count": 8,
     "metadata": {},
     "output_type": "execute_result"
    }
   ],
   "source": [
    "top100_song.head()"
   ]
  },
  {
   "cell_type": "code",
   "execution_count": 9,
   "id": "afb8006a",
   "metadata": {},
   "outputs": [
    {
     "data": {
      "text/plain": [
       "[<em class=\"artist\">Elton John &amp; Dua Lipa</em>]"
      ]
     },
     "execution_count": 9,
     "metadata": {},
     "output_type": "execute_result"
    }
   ],
   "source": [
    "soup.select(\"#chart-position-1 > div.chart-content.col-xs-12.col-sm-8 > p > em\")"
   ]
  },
  {
   "cell_type": "code",
   "execution_count": 10,
   "id": "53c243f2",
   "metadata": {},
   "outputs": [
    {
     "data": {
      "text/plain": [
       "[<em class=\"artist\">Elton John &amp; Dua Lipa</em>,\n",
       " <em class=\"artist\">Adele</em>,\n",
       " <em class=\"artist\">Jan Biggel</em>,\n",
       " <em class=\"artist\">Rene Le Blanc</em>,\n",
       " <em class=\"artist\">Acraze</em>,\n",
       " <em class=\"artist\">MEAU</em>,\n",
       " <em class=\"artist\">OG3NE</em>,\n",
       " <em class=\"artist\">Tiësto &amp; Ava Max</em>,\n",
       " <em class=\"artist\">OG3NE</em>,\n",
       " <em class=\"artist\">Snollebollekes</em>,\n",
       " <em class=\"artist\">Gino Graus</em>,\n",
       " <em class=\"artist\">Gebroeders Ko</em>,\n",
       " <em class=\"artist\">Adele</em>,\n",
       " <em class=\"artist\">Mariah Carey</em>,\n",
       " <em class=\"artist\">Mart Hoogkamer</em>,\n",
       " <em class=\"artist\">Bolland &amp; Bolland</em>,\n",
       " <em class=\"artist\">Gabry Ponte, LUM!X &amp; Prezioso</em>,\n",
       " <em class=\"artist\">FLEMMING</em>,\n",
       " <em class=\"artist\">Jeffrey Heesen</em>,\n",
       " <em class=\"artist\">Danny Froger &amp; Wesley Klein</em>,\n",
       " <em class=\"artist\">Evert Van Huygevoort</em>,\n",
       " <em class=\"artist\">Lost Frequencies &amp; Calum Scott</em>,\n",
       " <em class=\"artist\">Adele</em>,\n",
       " <em class=\"artist\">Django Wagner &amp; Wolter Kroes</em>,\n",
       " <em class=\"artist\">Coldplay X BTS</em>,\n",
       " <em class=\"artist\">Helemaal Hollands</em>,\n",
       " <em class=\"artist\">Adele</em>,\n",
       " <em class=\"artist\">Tom Grennan</em>,\n",
       " <em class=\"artist\">Tom Grennan</em>,\n",
       " <em class=\"artist\">Yade Lauren</em>,\n",
       " <em class=\"artist\">Bernd van den Bos</em>,\n",
       " <em class=\"artist\">Adele</em>,\n",
       " <em class=\"artist\">Duffy</em>,\n",
       " <em class=\"artist\">Farruko</em>,\n",
       " <em class=\"artist\">Ed Sheeran</em>,\n",
       " <em class=\"artist\">Ed Sheeran</em>,\n",
       " <em class=\"artist\">Swedish House Mafia &amp; The Weeknd</em>,\n",
       " <em class=\"artist\">Bob Offenberg</em>,\n",
       " <em class=\"artist\">Ed Sheeran</em>,\n",
       " <em class=\"artist\">Lawineboys</em>,\n",
       " <em class=\"artist\">Van Morrison</em>,\n",
       " <em class=\"artist\">Martin Garrix</em>,\n",
       " <em class=\"artist\">Dermot Kennedy</em>,\n",
       " <em class=\"artist\">Purple Disco Machine</em>,\n",
       " <em class=\"artist\">Adele</em>,\n",
       " <em class=\"artist\">Rema</em>,\n",
       " <em class=\"artist\">OBZ</em>,\n",
       " <em class=\"artist\">Eddie Vedder</em>,\n",
       " <em class=\"artist\">Adele</em>,\n",
       " <em class=\"artist\">Vinzzent</em>,\n",
       " <em class=\"artist\">Emmy Meli</em>,\n",
       " <em class=\"artist\">Imagine Dragons, JID &amp; League of Legends</em>,\n",
       " <em class=\"artist\">M.I.K.E. Push</em>,\n",
       " <em class=\"artist\">Gin Wigmore</em>,\n",
       " <em class=\"artist\">Silversun Pickups</em>,\n",
       " <em class=\"artist\">Dan Gibson's Solitudes</em>,\n",
       " <em class=\"artist\">Dimi Schoemaker</em>,\n",
       " <em class=\"artist\">Samuel Kim</em>,\n",
       " <em class=\"artist\">Atka</em>,\n",
       " <em class=\"artist\">Rytmus &amp; Viktor Sheen</em>,\n",
       " <em class=\"artist\">Kakauko King</em>,\n",
       " <em class=\"artist\">Jana Kirschner &amp; Separ</em>,\n",
       " <em class=\"artist\">Gleb</em>,\n",
       " <em class=\"artist\">Jovita</em>,\n",
       " <em class=\"artist\">Mhammed El Alami, Bigtopo, The Old Guard &amp; Gid Sedgwick</em>,\n",
       " <em class=\"artist\">Made of Light</em>,\n",
       " <em class=\"artist\">Isadora Pompeo</em>,\n",
       " <em class=\"artist\">Paul Denton</em>,\n",
       " <em class=\"artist\">Ba$ha</em>,\n",
       " <em class=\"artist\">Armin van Buuren &amp; Rank 1</em>,\n",
       " <em class=\"artist\">Old Dominion</em>,\n",
       " <em class=\"artist\">Focus</em>,\n",
       " <em class=\"artist\">Pırıl</em>,\n",
       " <em class=\"artist\">Scarecrow Hill, Jared Gomes &amp; Nikki Smalls</em>,\n",
       " <em class=\"artist\">Danny Brendo</em>,\n",
       " <em class=\"artist\">Jah Signal</em>,\n",
       " <em class=\"artist\">Afrikan Beatz</em>,\n",
       " <em class=\"artist\">Paulo Nazareth &amp; Marcos Almeida</em>,\n",
       " <em class=\"artist\">VGM Library</em>,\n",
       " <em class=\"artist\">No 1 Left Standing</em>,\n",
       " <em class=\"artist\">Tom Russell</em>,\n",
       " <em class=\"artist\">Emily Wells</em>,\n",
       " <em class=\"artist\">Thomas Mapfumo</em>,\n",
       " <em class=\"artist\">Poet of Peace</em>,\n",
       " <em class=\"artist\">Triggerfinger</em>,\n",
       " <em class=\"artist\">Adele</em>,\n",
       " <em class=\"artist\">Maaike Ouboter</em>,\n",
       " <em class=\"artist\">Alexis Jordan</em>,\n",
       " <em class=\"artist\">Adele</em>,\n",
       " <em class=\"artist\">Shakira</em>,\n",
       " <em class=\"artist\">Gers Pardoel</em>,\n",
       " <em class=\"artist\">Gusttavo Lima</em>,\n",
       " <em class=\"artist\">John Legend</em>,\n",
       " <em class=\"artist\">Sandra van Nieuwland</em>,\n",
       " <em class=\"artist\">Armin van Buuren</em>,\n",
       " <em class=\"artist\">Stromae</em>,\n",
       " <em class=\"artist\">P!nk</em>,\n",
       " <em class=\"artist\">Nielson</em>,\n",
       " <em class=\"artist\">Adele</em>,\n",
       " <em class=\"artist\">Daft Punk</em>]"
      ]
     },
     "execution_count": 10,
     "metadata": {},
     "output_type": "execute_result"
    }
   ],
   "source": [
    "soup.select(\"p > em\")"
   ]
  },
  {
   "cell_type": "code",
   "execution_count": 11,
   "id": "d2a801ed",
   "metadata": {},
   "outputs": [
    {
     "name": "stdout",
     "output_type": "stream",
     "text": [
      "['Elton John & Dua Lipa', 'Adele', 'Jan Biggel', 'Rene Le Blanc', 'Acraze', 'MEAU', 'OG3NE', 'Tiësto & Ava Max', 'OG3NE', 'Snollebollekes', 'Gino Graus', 'Gebroeders Ko', 'Adele', 'Mariah Carey', 'Mart Hoogkamer', 'Bolland & Bolland', 'Gabry Ponte, LUM!X & Prezioso', 'FLEMMING', 'Jeffrey Heesen', 'Danny Froger & Wesley Klein', 'Evert Van Huygevoort', 'Lost Frequencies & Calum Scott', 'Adele', 'Django Wagner & Wolter Kroes', 'Coldplay X BTS', 'Helemaal Hollands', 'Adele', 'Tom Grennan', 'Tom Grennan', 'Yade Lauren', 'Bernd van den Bos', 'Adele', 'Duffy', 'Farruko', 'Ed Sheeran', 'Ed Sheeran', 'Swedish House Mafia & The Weeknd', 'Bob Offenberg', 'Ed Sheeran', 'Lawineboys', 'Van Morrison', 'Martin Garrix', 'Dermot Kennedy', 'Purple Disco Machine', 'Adele', 'Rema', 'OBZ', 'Eddie Vedder', 'Adele', 'Vinzzent', 'Emmy Meli', 'Imagine Dragons, JID & League of Legends', 'M.I.K.E. Push', 'Gin Wigmore', 'Silversun Pickups', \"Dan Gibson's Solitudes\", 'Dimi Schoemaker', 'Samuel Kim', 'Atka', 'Rytmus & Viktor Sheen', 'Kakauko King', 'Jana Kirschner & Separ', 'Gleb', 'Jovita', 'Mhammed El Alami, Bigtopo, The Old Guard & Gid Sedgwick', 'Made of Light', 'Isadora Pompeo', 'Paul Denton', 'Ba$ha', 'Armin van Buuren & Rank 1', 'Old Dominion', 'Focus', 'Pırıl', 'Scarecrow Hill, Jared Gomes & Nikki Smalls', 'Danny Brendo', 'Jah Signal', 'Afrikan Beatz', 'Paulo Nazareth & Marcos Almeida', 'VGM Library', 'No 1 Left Standing', 'Tom Russell', 'Emily Wells', 'Thomas Mapfumo', 'Poet of Peace', 'Triggerfinger', 'Adele', 'Maaike Ouboter', 'Alexis Jordan', 'Adele', 'Shakira', 'Gers Pardoel', 'Gusttavo Lima', 'John Legend', 'Sandra van Nieuwland', 'Armin van Buuren', 'Stromae', 'P!nk', 'Nielson', 'Adele', 'Daft Punk']\n"
     ]
    }
   ],
   "source": [
    "artist = []\n",
    "num_iter = len(soup.select(\"p > em\"))\n",
    "\n",
    "for i in range(num_iter):\n",
    "    artist.append(soup.select(\"p > em\")[i].get_text())\n",
    "    \n",
    "print(artist)\n",
    "\n",
    "top100_artist = pd.DataFrame({\"artist\":artist})"
   ]
  },
  {
   "cell_type": "code",
   "execution_count": 12,
   "id": "b49bee90",
   "metadata": {},
   "outputs": [
    {
     "data": {
      "text/html": [
       "<div>\n",
       "<style scoped>\n",
       "    .dataframe tbody tr th:only-of-type {\n",
       "        vertical-align: middle;\n",
       "    }\n",
       "\n",
       "    .dataframe tbody tr th {\n",
       "        vertical-align: top;\n",
       "    }\n",
       "\n",
       "    .dataframe thead th {\n",
       "        text-align: right;\n",
       "    }\n",
       "</style>\n",
       "<table border=\"1\" class=\"dataframe\">\n",
       "  <thead>\n",
       "    <tr style=\"text-align: right;\">\n",
       "      <th></th>\n",
       "      <th>artist</th>\n",
       "    </tr>\n",
       "  </thead>\n",
       "  <tbody>\n",
       "    <tr>\n",
       "      <th>0</th>\n",
       "      <td>Elton John &amp; Dua Lipa</td>\n",
       "    </tr>\n",
       "    <tr>\n",
       "      <th>1</th>\n",
       "      <td>Adele</td>\n",
       "    </tr>\n",
       "    <tr>\n",
       "      <th>2</th>\n",
       "      <td>Jan Biggel</td>\n",
       "    </tr>\n",
       "    <tr>\n",
       "      <th>3</th>\n",
       "      <td>Rene Le Blanc</td>\n",
       "    </tr>\n",
       "    <tr>\n",
       "      <th>4</th>\n",
       "      <td>Acraze</td>\n",
       "    </tr>\n",
       "  </tbody>\n",
       "</table>\n",
       "</div>"
      ],
      "text/plain": [
       "                  artist\n",
       "0  Elton John & Dua Lipa\n",
       "1                  Adele\n",
       "2             Jan Biggel\n",
       "3          Rene Le Blanc\n",
       "4                 Acraze"
      ]
     },
     "execution_count": 12,
     "metadata": {},
     "output_type": "execute_result"
    }
   ],
   "source": [
    "top100_artist.head()"
   ]
  },
  {
   "cell_type": "code",
   "execution_count": 13,
   "id": "f7e34c2e",
   "metadata": {
    "scrolled": true
   },
   "outputs": [
    {
     "data": {
      "text/html": [
       "<div>\n",
       "<style scoped>\n",
       "    .dataframe tbody tr th:only-of-type {\n",
       "        vertical-align: middle;\n",
       "    }\n",
       "\n",
       "    .dataframe tbody tr th {\n",
       "        vertical-align: top;\n",
       "    }\n",
       "\n",
       "    .dataframe thead th {\n",
       "        text-align: right;\n",
       "    }\n",
       "</style>\n",
       "<table border=\"1\" class=\"dataframe\">\n",
       "  <thead>\n",
       "    <tr style=\"text-align: right;\">\n",
       "      <th></th>\n",
       "      <th>artist</th>\n",
       "      <th>song</th>\n",
       "    </tr>\n",
       "  </thead>\n",
       "  <tbody>\n",
       "    <tr>\n",
       "      <th>0</th>\n",
       "      <td>Elton John &amp; Dua Lipa</td>\n",
       "      <td>Cold Heart (PNAU Remix)</td>\n",
       "    </tr>\n",
       "    <tr>\n",
       "      <th>1</th>\n",
       "      <td>Adele</td>\n",
       "      <td>Easy On Me</td>\n",
       "    </tr>\n",
       "    <tr>\n",
       "      <th>2</th>\n",
       "      <td>Jan Biggel</td>\n",
       "      <td>Ons Moeder Zeej Nog</td>\n",
       "    </tr>\n",
       "    <tr>\n",
       "      <th>3</th>\n",
       "      <td>Rene Le Blanc</td>\n",
       "      <td>Only You</td>\n",
       "    </tr>\n",
       "    <tr>\n",
       "      <th>4</th>\n",
       "      <td>Acraze</td>\n",
       "      <td>Do It To It (feat. Cherish)</td>\n",
       "    </tr>\n",
       "    <tr>\n",
       "      <th>...</th>\n",
       "      <td>...</td>\n",
       "      <td>...</td>\n",
       "    </tr>\n",
       "    <tr>\n",
       "      <th>95</th>\n",
       "      <td>Stromae</td>\n",
       "      <td>Papaoutai</td>\n",
       "    </tr>\n",
       "    <tr>\n",
       "      <th>96</th>\n",
       "      <td>P!nk</td>\n",
       "      <td>Just Give Me a Reason (feat. Nate Ruess)</td>\n",
       "    </tr>\n",
       "    <tr>\n",
       "      <th>97</th>\n",
       "      <td>Nielson</td>\n",
       "      <td>Beauty &amp; de Brains</td>\n",
       "    </tr>\n",
       "    <tr>\n",
       "      <th>98</th>\n",
       "      <td>Adele</td>\n",
       "      <td>Someone Like You</td>\n",
       "    </tr>\n",
       "    <tr>\n",
       "      <th>99</th>\n",
       "      <td>Daft Punk</td>\n",
       "      <td>Get Lucky (feat. Pharrell Williams) [Radio Edit]</td>\n",
       "    </tr>\n",
       "  </tbody>\n",
       "</table>\n",
       "<p>100 rows × 2 columns</p>\n",
       "</div>"
      ],
      "text/plain": [
       "                   artist                                              song\n",
       "0   Elton John & Dua Lipa                           Cold Heart (PNAU Remix)\n",
       "1                   Adele                                        Easy On Me\n",
       "2              Jan Biggel                               Ons Moeder Zeej Nog\n",
       "3           Rene Le Blanc                                          Only You\n",
       "4                  Acraze                       Do It To It (feat. Cherish)\n",
       "..                    ...                                               ...\n",
       "95                Stromae                                         Papaoutai\n",
       "96                   P!nk          Just Give Me a Reason (feat. Nate Ruess)\n",
       "97                Nielson                                Beauty & de Brains\n",
       "98                  Adele                                  Someone Like You\n",
       "99              Daft Punk  Get Lucky (feat. Pharrell Williams) [Radio Edit]\n",
       "\n",
       "[100 rows x 2 columns]"
      ]
     },
     "execution_count": 13,
     "metadata": {},
     "output_type": "execute_result"
    }
   ],
   "source": [
    "top100=pd.concat([top100_artist,top100_song],axis=1)\n",
    "top100"
   ]
  },
  {
   "cell_type": "markdown",
   "id": "092cbcd5",
   "metadata": {},
   "source": [
    "# lab.web_scraping_multiple"
   ]
  },
  {
   "cell_type": "code",
   "execution_count": 14,
   "id": "a0914eb6",
   "metadata": {},
   "outputs": [],
   "source": [
    "url='https://en.wikipedia.org/wiki/List_of_languages_by_number_of_native_speakers'"
   ]
  },
  {
   "cell_type": "code",
   "execution_count": 15,
   "id": "b96fd1d4",
   "metadata": {},
   "outputs": [],
   "source": [
    "response = requests.get(url)"
   ]
  },
  {
   "cell_type": "code",
   "execution_count": 16,
   "id": "d0cf0548",
   "metadata": {},
   "outputs": [],
   "source": [
    "html = response.content"
   ]
  },
  {
   "cell_type": "code",
   "execution_count": 17,
   "id": "a9f84773",
   "metadata": {},
   "outputs": [],
   "source": [
    "soup1= BeautifulSoup(response.content, \"html.parser\")"
   ]
  },
  {
   "cell_type": "code",
   "execution_count": 18,
   "id": "c6d38d42",
   "metadata": {},
   "outputs": [],
   "source": [
    "list_languages = soup1.select('table.wikitable > tbody > tr > td > a')"
   ]
  },
  {
   "cell_type": "code",
   "execution_count": 19,
   "id": "d5145bdf",
   "metadata": {},
   "outputs": [],
   "source": [
    "language_speakers = soup1.select(\"table.wikitable > tbody > tr > td\")"
   ]
  },
  {
   "cell_type": "code",
   "execution_count": 20,
   "id": "5dc13004",
   "metadata": {},
   "outputs": [],
   "source": [
    "actual_speakers=[speaker.text for speaker in language_speakers]"
   ]
  },
  {
   "cell_type": "code",
   "execution_count": 21,
   "id": "c4b2926b",
   "metadata": {},
   "outputs": [],
   "source": [
    "count = 0 #initialize to zero\n",
    "\n",
    "rank= []\n",
    "lang = []\n",
    "speak = []\n",
    "percent = []\n",
    "family = []\n",
    "branch = []\n",
    "\n",
    "while count < 100:\n",
    "    rank.append(actual_speakers[count][:-1])\n",
    "    count = count + 1\n",
    "    lang.append(actual_speakers[count][:-1])\n",
    "    count = count + 1\n",
    "    speak.append(actual_speakers[count][:-1])\n",
    "    count = count + 1\n",
    "    percent.append(actual_speakers[count][:-1])\n",
    "    count = count + 1\n",
    "    family.append(actual_speakers[count][:-1])\n",
    "    count = count + 1\n",
    "    branch.append(actual_speakers[count][:-1])\n",
    "    count = count + 1"
   ]
  },
  {
   "cell_type": "code",
   "execution_count": 22,
   "id": "914c655c",
   "metadata": {},
   "outputs": [],
   "source": [
    "final_languages=pd.DataFrame({\"rank\":rank,\n",
    "                             \"language\":lang,\n",
    "                             \"speakers\":speak,\n",
    "                             \"percentage\":percent,\n",
    "                             \"language_family\":family,\n",
    "                             \"branch\":branch})"
   ]
  },
  {
   "cell_type": "code",
   "execution_count": 23,
   "id": "8b65fdbf",
   "metadata": {},
   "outputs": [
    {
     "data": {
      "text/html": [
       "<div>\n",
       "<style scoped>\n",
       "    .dataframe tbody tr th:only-of-type {\n",
       "        vertical-align: middle;\n",
       "    }\n",
       "\n",
       "    .dataframe tbody tr th {\n",
       "        vertical-align: top;\n",
       "    }\n",
       "\n",
       "    .dataframe thead th {\n",
       "        text-align: right;\n",
       "    }\n",
       "</style>\n",
       "<table border=\"1\" class=\"dataframe\">\n",
       "  <thead>\n",
       "    <tr style=\"text-align: right;\">\n",
       "      <th></th>\n",
       "      <th>rank</th>\n",
       "      <th>language</th>\n",
       "      <th>speakers</th>\n",
       "      <th>percentage</th>\n",
       "      <th>language_family</th>\n",
       "      <th>branch</th>\n",
       "    </tr>\n",
       "  </thead>\n",
       "  <tbody>\n",
       "    <tr>\n",
       "      <th>0</th>\n",
       "      <td>1</td>\n",
       "      <td>Mandarin Chinese</td>\n",
       "      <td>918</td>\n",
       "      <td>11.922%</td>\n",
       "      <td>Sino-Tibetan</td>\n",
       "      <td>Sinitic</td>\n",
       "    </tr>\n",
       "    <tr>\n",
       "      <th>1</th>\n",
       "      <td>2</td>\n",
       "      <td>Spanish</td>\n",
       "      <td>480</td>\n",
       "      <td>5.994%</td>\n",
       "      <td>Indo-European</td>\n",
       "      <td>Romance</td>\n",
       "    </tr>\n",
       "    <tr>\n",
       "      <th>2</th>\n",
       "      <td>3</td>\n",
       "      <td>English</td>\n",
       "      <td>379</td>\n",
       "      <td>4.922%</td>\n",
       "      <td>Indo-European</td>\n",
       "      <td>Germanic</td>\n",
       "    </tr>\n",
       "    <tr>\n",
       "      <th>3</th>\n",
       "      <td>4</td>\n",
       "      <td>Hindi (sanskritised Hindustani)[9]</td>\n",
       "      <td>341</td>\n",
       "      <td>4.429%</td>\n",
       "      <td>Indo-European</td>\n",
       "      <td>Indo-Aryan</td>\n",
       "    </tr>\n",
       "    <tr>\n",
       "      <th>4</th>\n",
       "      <td>5</td>\n",
       "      <td>Bengali</td>\n",
       "      <td>300</td>\n",
       "      <td>4.000%</td>\n",
       "      <td>Indo-European</td>\n",
       "      <td>Indo-Aryan</td>\n",
       "    </tr>\n",
       "    <tr>\n",
       "      <th>5</th>\n",
       "      <td>6</td>\n",
       "      <td>Portuguese</td>\n",
       "      <td>221</td>\n",
       "      <td>2.870%</td>\n",
       "      <td>Indo-European</td>\n",
       "      <td>Romance</td>\n",
       "    </tr>\n",
       "    <tr>\n",
       "      <th>6</th>\n",
       "      <td>7</td>\n",
       "      <td>Russian</td>\n",
       "      <td>154</td>\n",
       "      <td>2.000%</td>\n",
       "      <td>Indo-European</td>\n",
       "      <td>Balto-Slavic</td>\n",
       "    </tr>\n",
       "    <tr>\n",
       "      <th>7</th>\n",
       "      <td>8</td>\n",
       "      <td>Japanese</td>\n",
       "      <td>128</td>\n",
       "      <td>1.662%</td>\n",
       "      <td>Japonic</td>\n",
       "      <td>Japanese</td>\n",
       "    </tr>\n",
       "    <tr>\n",
       "      <th>8</th>\n",
       "      <td>9</td>\n",
       "      <td>Western Punjabi[10]</td>\n",
       "      <td>92.7</td>\n",
       "      <td>1.204%</td>\n",
       "      <td>Indo-European</td>\n",
       "      <td>Indo-Aryan</td>\n",
       "    </tr>\n",
       "    <tr>\n",
       "      <th>9</th>\n",
       "      <td>10</td>\n",
       "      <td>Marathi</td>\n",
       "      <td>83.1</td>\n",
       "      <td>1.079%</td>\n",
       "      <td>Indo-European</td>\n",
       "      <td>Indo-Aryan</td>\n",
       "    </tr>\n",
       "    <tr>\n",
       "      <th>10</th>\n",
       "      <td>11</td>\n",
       "      <td>Telugu</td>\n",
       "      <td>82.0</td>\n",
       "      <td>1.065%</td>\n",
       "      <td>Dravidian</td>\n",
       "      <td>South-Central</td>\n",
       "    </tr>\n",
       "    <tr>\n",
       "      <th>11</th>\n",
       "      <td>12</td>\n",
       "      <td>Wu Chinese</td>\n",
       "      <td>81.4</td>\n",
       "      <td>1.057%</td>\n",
       "      <td>Sino-Tibetan</td>\n",
       "      <td>Sinitic</td>\n",
       "    </tr>\n",
       "    <tr>\n",
       "      <th>12</th>\n",
       "      <td>13</td>\n",
       "      <td>Turkish</td>\n",
       "      <td>79.4</td>\n",
       "      <td>1.031%</td>\n",
       "      <td>Turkic</td>\n",
       "      <td>Oghuz</td>\n",
       "    </tr>\n",
       "    <tr>\n",
       "      <th>13</th>\n",
       "      <td>14</td>\n",
       "      <td>Korean</td>\n",
       "      <td>77.3</td>\n",
       "      <td>1.004%</td>\n",
       "      <td>Koreanic</td>\n",
       "      <td>language isolate</td>\n",
       "    </tr>\n",
       "    <tr>\n",
       "      <th>14</th>\n",
       "      <td>15</td>\n",
       "      <td>French</td>\n",
       "      <td>77.2</td>\n",
       "      <td>1.003%</td>\n",
       "      <td>Indo-European</td>\n",
       "      <td>Romance</td>\n",
       "    </tr>\n",
       "    <tr>\n",
       "      <th>15</th>\n",
       "      <td>16</td>\n",
       "      <td>German (only Standard German)</td>\n",
       "      <td>76.1</td>\n",
       "      <td>0.988%</td>\n",
       "      <td>Indo-European</td>\n",
       "      <td>Germanic</td>\n",
       "    </tr>\n",
       "    <tr>\n",
       "      <th>16</th>\n",
       "      <td>17</td>\n",
       "      <td>Vietnamese</td>\n",
       "      <td>76.0</td>\n",
       "      <td>0.987%</td>\n",
       "      <td>Austroasiatic</td>\n",
       "      <td>Vietic</td>\n",
       "    </tr>\n",
       "  </tbody>\n",
       "</table>\n",
       "</div>"
      ],
      "text/plain": [
       "   rank                            language speakers percentage  \\\n",
       "0     1                    Mandarin Chinese      918    11.922%   \n",
       "1     2                             Spanish      480     5.994%   \n",
       "2     3                             English      379     4.922%   \n",
       "3     4  Hindi (sanskritised Hindustani)[9]      341     4.429%   \n",
       "4     5                             Bengali      300     4.000%   \n",
       "5     6                          Portuguese      221     2.870%   \n",
       "6     7                             Russian      154     2.000%   \n",
       "7     8                            Japanese      128     1.662%   \n",
       "8     9                 Western Punjabi[10]     92.7     1.204%   \n",
       "9    10                             Marathi     83.1     1.079%   \n",
       "10   11                              Telugu     82.0     1.065%   \n",
       "11   12                          Wu Chinese     81.4     1.057%   \n",
       "12   13                             Turkish     79.4     1.031%   \n",
       "13   14                              Korean     77.3     1.004%   \n",
       "14   15                              French     77.2     1.003%   \n",
       "15   16       German (only Standard German)     76.1     0.988%   \n",
       "16   17                          Vietnamese     76.0     0.987%   \n",
       "\n",
       "   language_family            branch  \n",
       "0     Sino-Tibetan           Sinitic  \n",
       "1    Indo-European           Romance  \n",
       "2    Indo-European          Germanic  \n",
       "3    Indo-European        Indo-Aryan  \n",
       "4    Indo-European        Indo-Aryan  \n",
       "5    Indo-European           Romance  \n",
       "6    Indo-European      Balto-Slavic  \n",
       "7          Japonic          Japanese  \n",
       "8    Indo-European        Indo-Aryan  \n",
       "9    Indo-European        Indo-Aryan  \n",
       "10       Dravidian     South-Central  \n",
       "11    Sino-Tibetan           Sinitic  \n",
       "12          Turkic             Oghuz  \n",
       "13        Koreanic  language isolate  \n",
       "14   Indo-European           Romance  \n",
       "15   Indo-European          Germanic  \n",
       "16   Austroasiatic            Vietic  "
      ]
     },
     "execution_count": 23,
     "metadata": {},
     "output_type": "execute_result"
    }
   ],
   "source": [
    "final_languages"
   ]
  },
  {
   "cell_type": "code",
   "execution_count": 25,
   "id": "ba652aea",
   "metadata": {},
   "outputs": [],
   "source": [
    "url=\"https://www.fbi.gov/wanted/topten\""
   ]
  },
  {
   "cell_type": "code",
   "execution_count": 26,
   "id": "af899639",
   "metadata": {},
   "outputs": [
    {
     "data": {
      "text/plain": [
       "200"
      ]
     },
     "execution_count": 26,
     "metadata": {},
     "output_type": "execute_result"
    }
   ],
   "source": [
    "response = requests.get(url)\n",
    "response.status_code"
   ]
  },
  {
   "cell_type": "code",
   "execution_count": 27,
   "id": "338b7147",
   "metadata": {},
   "outputs": [],
   "source": [
    "soup2=BeautifulSoup(response.content, \"html.parser\")"
   ]
  },
  {
   "cell_type": "code",
   "execution_count": 28,
   "id": "d4e375c4",
   "metadata": {},
   "outputs": [
    {
     "data": {
      "text/plain": [
       "[<a href=\"https://www.fbi.gov/wanted/topten/rafael-caro-quintero\">RAFAEL CARO-QUINTERO</a>,\n",
       " <a href=\"https://www.fbi.gov/wanted/topten/yulan-adonay-archaga-carias\">YULAN ADONAY ARCHAGA CARIAS</a>,\n",
       " <a href=\"https://www.fbi.gov/wanted/topten/eugene-palmer\">EUGENE PALMER</a>,\n",
       " <a href=\"https://www.fbi.gov/wanted/topten/bhadreshkumar-chetanbhai-patel\">BHADRESHKUMAR CHETANBHAI PATEL</a>,\n",
       " <a href=\"https://www.fbi.gov/wanted/topten/alejandro-castillo\">ALEJANDRO ROSALES CASTILLO</a>,\n",
       " <a href=\"https://www.fbi.gov/wanted/topten/arnoldo-jimenez\">ARNOLDO JIMENEZ</a>,\n",
       " <a href=\"https://www.fbi.gov/wanted/topten/jason-derek-brown\">JASON DEREK BROWN</a>,\n",
       " <a href=\"https://www.fbi.gov/wanted/topten/alexis-flores\">ALEXIS FLORES</a>,\n",
       " <a href=\"https://www.fbi.gov/wanted/topten/jose-rodolfo-villarreal-hernandez\">JOSE RODOLFO VILLARREAL-HERNANDEZ</a>,\n",
       " <a href=\"https://www.fbi.gov/wanted/topten/octaviano-juarez-corro\">OCTAVIANO JUAREZ-CORRO</a>]"
      ]
     },
     "execution_count": 28,
     "metadata": {},
     "output_type": "execute_result"
    }
   ],
   "source": [
    "top_10=soup2.select(\"li.portal-type-person > h3 > a\")\n",
    "top_10"
   ]
  },
  {
   "cell_type": "code",
   "execution_count": 29,
   "id": "2f4df5c7",
   "metadata": {
    "scrolled": true
   },
   "outputs": [
    {
     "data": {
      "text/plain": [
       "['RAFAEL CARO-QUINTERO',\n",
       " 'YULAN ADONAY ARCHAGA CARIAS',\n",
       " 'EUGENE PALMER',\n",
       " 'BHADRESHKUMAR CHETANBHAI PATEL',\n",
       " 'ALEJANDRO ROSALES CASTILLO',\n",
       " 'ARNOLDO JIMENEZ',\n",
       " 'JASON DEREK BROWN',\n",
       " 'ALEXIS FLORES',\n",
       " 'JOSE RODOLFO VILLARREAL-HERNANDEZ',\n",
       " 'OCTAVIANO JUAREZ-CORRO']"
      ]
     },
     "execution_count": 29,
     "metadata": {},
     "output_type": "execute_result"
    }
   ],
   "source": [
    "top_name=[]\n",
    "for i in top_10:\n",
    "    top_name.append(i.text)\n",
    "\n",
    "top_name\n",
    "    "
   ]
  },
  {
   "cell_type": "code",
   "execution_count": 30,
   "id": "3bd1df46",
   "metadata": {},
   "outputs": [],
   "source": [
    "url = \"https://www.wikipedia.org/\""
   ]
  },
  {
   "cell_type": "code",
   "execution_count": 31,
   "id": "87fa9f01",
   "metadata": {},
   "outputs": [
    {
     "data": {
      "text/plain": [
       "200"
      ]
     },
     "execution_count": 31,
     "metadata": {},
     "output_type": "execute_result"
    }
   ],
   "source": [
    "response = requests.get(url)\n",
    "response.status_code"
   ]
  },
  {
   "cell_type": "code",
   "execution_count": 32,
   "id": "ba4e79b4",
   "metadata": {},
   "outputs": [],
   "source": [
    "soup = BeautifulSoup(response.content, \"html.parser\")"
   ]
  },
  {
   "cell_type": "code",
   "execution_count": 33,
   "id": "5de8059e",
   "metadata": {},
   "outputs": [
    {
     "data": {
      "text/plain": [
       "<div class=\"central-featured-lang lang1\" dir=\"ltr\" lang=\"en\">\n",
       "<a class=\"link-box\" data-slogan=\"The Free Encyclopedia\" href=\"//en.wikipedia.org/\" id=\"js-link-box-en\" title=\"English — Wikipedia — The Free Encyclopedia\">\n",
       "<strong>English</strong>\n",
       "<small><bdi dir=\"ltr\">6 383 000+</bdi> <span>articles</span></small>\n",
       "</a>\n",
       "</div>"
      ]
     },
     "execution_count": 33,
     "metadata": {},
     "output_type": "execute_result"
    }
   ],
   "source": [
    "soup.select(\"div.central-featured-lang\")[0]"
   ]
  },
  {
   "cell_type": "code",
   "execution_count": 34,
   "id": "35873b36",
   "metadata": {},
   "outputs": [
    {
     "data": {
      "text/html": [
       "<div>\n",
       "<style scoped>\n",
       "    .dataframe tbody tr th:only-of-type {\n",
       "        vertical-align: middle;\n",
       "    }\n",
       "\n",
       "    .dataframe tbody tr th {\n",
       "        vertical-align: top;\n",
       "    }\n",
       "\n",
       "    .dataframe thead th {\n",
       "        text-align: right;\n",
       "    }\n",
       "</style>\n",
       "<table border=\"1\" class=\"dataframe\">\n",
       "  <thead>\n",
       "    <tr style=\"text-align: right;\">\n",
       "      <th></th>\n",
       "      <th>language</th>\n",
       "      <th>articles</th>\n",
       "    </tr>\n",
       "  </thead>\n",
       "  <tbody>\n",
       "    <tr>\n",
       "      <th>0</th>\n",
       "      <td>English</td>\n",
       "      <td>6 383 000+</td>\n",
       "    </tr>\n",
       "    <tr>\n",
       "      <th>1</th>\n",
       "      <td>日本語</td>\n",
       "      <td>1 292 000+</td>\n",
       "    </tr>\n",
       "    <tr>\n",
       "      <th>2</th>\n",
       "      <td>Русский</td>\n",
       "      <td>1 756 000+</td>\n",
       "    </tr>\n",
       "    <tr>\n",
       "      <th>3</th>\n",
       "      <td>Deutsch</td>\n",
       "      <td>2 617 000+</td>\n",
       "    </tr>\n",
       "    <tr>\n",
       "      <th>4</th>\n",
       "      <td>Español</td>\n",
       "      <td>1 717 000+</td>\n",
       "    </tr>\n",
       "    <tr>\n",
       "      <th>5</th>\n",
       "      <td>Français</td>\n",
       "      <td>2 362 000+</td>\n",
       "    </tr>\n",
       "    <tr>\n",
       "      <th>6</th>\n",
       "      <td>中文</td>\n",
       "      <td>1 231 000+</td>\n",
       "    </tr>\n",
       "    <tr>\n",
       "      <th>7</th>\n",
       "      <td>Italiano</td>\n",
       "      <td>1 718 000+</td>\n",
       "    </tr>\n",
       "    <tr>\n",
       "      <th>8</th>\n",
       "      <td>Português</td>\n",
       "      <td>1 074 000+</td>\n",
       "    </tr>\n",
       "    <tr>\n",
       "      <th>9</th>\n",
       "      <td>Polski</td>\n",
       "      <td>1 490 000+</td>\n",
       "    </tr>\n",
       "  </tbody>\n",
       "</table>\n",
       "</div>"
      ],
      "text/plain": [
       "    language    articles\n",
       "0    English  6 383 000+\n",
       "1        日本語  1 292 000+\n",
       "2    Русский  1 756 000+\n",
       "3    Deutsch  2 617 000+\n",
       "4    Español  1 717 000+\n",
       "5   Français  2 362 000+\n",
       "6         中文  1 231 000+\n",
       "7   Italiano  1 718 000+\n",
       "8  Português  1 074 000+\n",
       "9     Polski  1 490 000+"
      ]
     },
     "execution_count": 34,
     "metadata": {},
     "output_type": "execute_result"
    }
   ],
   "source": [
    "languages=[]\n",
    "articles=[]\n",
    "for language in soup.select(\"div.central-featured-lang\"):\n",
    "    languages.append(language.select(\"strong\")[0].get_text())\n",
    "    articles.append(language.select(\"bdi\")[0].get_text().replace(u'\\xa0', u' '))\n",
    "    \n",
    "languages_articles = pd.DataFrame({\"language\":languages,\n",
    "                       \"articles\":articles})\n",
    "\n",
    "languages_articles"
   ]
  },
  {
   "cell_type": "code",
   "execution_count": null,
   "id": "7e54d7f2",
   "metadata": {},
   "outputs": [],
   "source": []
  }
 ],
 "metadata": {
  "kernelspec": {
   "display_name": "Python 3 (ipykernel)",
   "language": "python",
   "name": "python3"
  },
  "language_info": {
   "codemirror_mode": {
    "name": "ipython",
    "version": 3
   },
   "file_extension": ".py",
   "mimetype": "text/x-python",
   "name": "python",
   "nbconvert_exporter": "python",
   "pygments_lexer": "ipython3",
   "version": "3.9.7"
  }
 },
 "nbformat": 4,
 "nbformat_minor": 5
}

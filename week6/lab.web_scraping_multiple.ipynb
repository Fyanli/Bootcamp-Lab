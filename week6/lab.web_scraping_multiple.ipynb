{
 "cells": [
  {
   "cell_type": "code",
   "execution_count": 1,
   "id": "90bbcfd2",
   "metadata": {},
   "outputs": [],
   "source": [
    "from bs4 import BeautifulSoup\n",
    "import requests\n",
    "import pandas as pd"
   ]
  },
  {
   "cell_type": "code",
   "execution_count": 2,
   "id": "37eb050f",
   "metadata": {},
   "outputs": [],
   "source": [
    "url = \"http://www.popvortex.com/music/netherlands/top-songs.php\""
   ]
  },
  {
   "cell_type": "code",
   "execution_count": 3,
   "id": "357a2f09",
   "metadata": {},
   "outputs": [
    {
     "data": {
      "text/plain": [
       "200"
      ]
     },
     "execution_count": 3,
     "metadata": {},
     "output_type": "execute_result"
    }
   ],
   "source": [
    "response = requests.get(url)\n",
    "response.status_code"
   ]
  },
  {
   "cell_type": "code",
   "execution_count": 4,
   "id": "8340ee2e",
   "metadata": {},
   "outputs": [],
   "source": [
    "soup = BeautifulSoup(response.content, \"html.parser\")"
   ]
  },
  {
   "cell_type": "code",
   "execution_count": 5,
   "id": "8223f7cf",
   "metadata": {},
   "outputs": [
    {
     "data": {
      "text/plain": [
       "[<cite class=\"title\">Cold Heart (PNAU Remix)</cite>]"
      ]
     },
     "execution_count": 5,
     "metadata": {},
     "output_type": "execute_result"
    }
   ],
   "source": [
    "soup.select(\"#chart-position-1 > div.chart-content.col-xs-12.col-sm-8 > p > cite\")"
   ]
  },
  {
   "cell_type": "code",
   "execution_count": 6,
   "id": "72ca7026",
   "metadata": {},
   "outputs": [
    {
     "data": {
      "text/plain": [
       "'Easy On Me'"
      ]
     },
     "execution_count": 6,
     "metadata": {},
     "output_type": "execute_result"
    }
   ],
   "source": [
    "soup.select(\"p > cite\")[1].get_text()"
   ]
  },
  {
   "cell_type": "code",
   "execution_count": 7,
   "id": "5df723cb",
   "metadata": {},
   "outputs": [
    {
     "name": "stdout",
     "output_type": "stream",
     "text": [
      "['Cold Heart (PNAU Remix)', 'Easy On Me', 'Christmas On My Doorstep', 'Schiddi Widdi Witt', 'Coming Home With Santa', 'Do It To It (feat. Cherish)', 'The Motto', 'Alle Remmen Los', 'Ons Moeder Zeej Nog', 'Baby Lekker Ding', 'Everybody Needs Somebody To Love', 'Mañana', 'Dat Heb Jij Gedaan', 'Only You', 'Misschien Huil Ik Niet Hard Genoeg', 'To Be Loved', 'Amsterdam', 'Bad Habits', 'Shivers', 'Moth To A Flame', \"Tot Over M'n Oren\", 'Ja Wie Niet Springt (Die Moet Betalen)', 'Hold On', 'Ik Ga Zwemmen', 'Pepas', \"Non Stop Vol D'r Op\", 'Thunder', 'Nooit Meer Alcohol', 'Where Are You Now', 'Cover Me In Sunshine', 'Hard To Say Goodbye', 'Can I Get It', 'All Night Parking (with Erroll Garner) Interlude', 'All I Want For Christmas Is You', 'When We Were Young', 'Door De Wind', 'Más Más Más', \"It's Beginning To Look a Lot Like Christmas\", 'Overpass Graffiti', 'Talk About', 'love nwantiti (feat. Axel & DJ Yo) [Remix]', 'Wij Gaan Door', 'Vrijmibo', 'Axel F (Radio Edit)', 'I Drink Wine', 'Love Tonight (David Guetta Remix)', 'Ghost', 'The Haves', 'Heat Waves', 'Streken Van Een Duivel (feat. Frenna)', 'In De Nacht', 'Café Biljart', 'Calling', 'Champion Sound', 'Hello', 'Woman In Love', 'Iko Iko (My Bestie) [feat. Small Jam]', \"You'll Never Walk Alone\", 'Leave The Door Open', 'Rise Up', 'Bon Gepakt (feat. Rene Froger)', 'Trompetisto', 'My Universe', 'Time To Say Goodbye (Con te partirò)', 'Kleine Jongen', \"Let's Dance (Single Version) [2002 Remaster]\", 'Love in the Dark', 'Santé', 'Better Days', 'One Right Now', 'Dopamine (feat. Eyelar)', 'Ooh Ahh (My Life Be Like) [feat. Tobymac]', \"Red (Taylor's Version)\", 'Cherish', 'Take My Breath', 'Soundgasm', \"Don't You Want Me (Purple Disco Machine Remix)\", 'Anywhere With You', 'Foto Van Vroeger', \"Don't Break the Heart\", 'Intimidated (feat. H.E.R.)', 'Hurricane', 'Alcoholist', 'Everywhere (BBC Children In Need)', 'Strangers By Nature', 'Love Tonight (David Guetta Remix Edit)', 'Samen (feat. Yade Lauren)', 'Don’t Cry Me A River', 'Mijn Schat Mijn Vrouw', 'On My Way (Marry Me)', 'Goodbye Ciao Ciao', 'A Little Greener', 'All That You Are', 'Enemy (From the series \"Arcane League of Legends\")', 'Bedankt Voor Alles', 'Words', 'Steal My Soul', 'Love nwantiti (French Remix)', 'What Goes, Let Go', 'Happy (From \"Despicable Me 2\")']\n"
     ]
    }
   ],
   "source": [
    "song = []\n",
    "num_iter = len(soup.select(\"p > cite\"))\n",
    "\n",
    "for i in range(num_iter):\n",
    "    song.append(soup.select(\"p > cite\")[i].get_text())\n",
    "    \n",
    "print(song)\n",
    "\n",
    "top100_song = pd.DataFrame({\"song\":song})"
   ]
  },
  {
   "cell_type": "code",
   "execution_count": 8,
   "id": "9a3b35dd",
   "metadata": {},
   "outputs": [
    {
     "data": {
      "text/html": [
       "<div>\n",
       "<style scoped>\n",
       "    .dataframe tbody tr th:only-of-type {\n",
       "        vertical-align: middle;\n",
       "    }\n",
       "\n",
       "    .dataframe tbody tr th {\n",
       "        vertical-align: top;\n",
       "    }\n",
       "\n",
       "    .dataframe thead th {\n",
       "        text-align: right;\n",
       "    }\n",
       "</style>\n",
       "<table border=\"1\" class=\"dataframe\">\n",
       "  <thead>\n",
       "    <tr style=\"text-align: right;\">\n",
       "      <th></th>\n",
       "      <th>song</th>\n",
       "    </tr>\n",
       "  </thead>\n",
       "  <tbody>\n",
       "    <tr>\n",
       "      <th>0</th>\n",
       "      <td>Cold Heart (PNAU Remix)</td>\n",
       "    </tr>\n",
       "    <tr>\n",
       "      <th>1</th>\n",
       "      <td>Easy On Me</td>\n",
       "    </tr>\n",
       "    <tr>\n",
       "      <th>2</th>\n",
       "      <td>Christmas On My Doorstep</td>\n",
       "    </tr>\n",
       "    <tr>\n",
       "      <th>3</th>\n",
       "      <td>Schiddi Widdi Witt</td>\n",
       "    </tr>\n",
       "    <tr>\n",
       "      <th>4</th>\n",
       "      <td>Coming Home With Santa</td>\n",
       "    </tr>\n",
       "  </tbody>\n",
       "</table>\n",
       "</div>"
      ],
      "text/plain": [
       "                       song\n",
       "0   Cold Heart (PNAU Remix)\n",
       "1                Easy On Me\n",
       "2  Christmas On My Doorstep\n",
       "3        Schiddi Widdi Witt\n",
       "4    Coming Home With Santa"
      ]
     },
     "execution_count": 8,
     "metadata": {},
     "output_type": "execute_result"
    }
   ],
   "source": [
    "top100_song.head()"
   ]
  },
  {
   "cell_type": "code",
   "execution_count": 9,
   "id": "afb8006a",
   "metadata": {},
   "outputs": [
    {
     "data": {
      "text/plain": [
       "[<em class=\"artist\">Elton John &amp; Dua Lipa</em>]"
      ]
     },
     "execution_count": 9,
     "metadata": {},
     "output_type": "execute_result"
    }
   ],
   "source": [
    "soup.select(\"#chart-position-1 > div.chart-content.col-xs-12.col-sm-8 > p > em\")"
   ]
  },
  {
   "cell_type": "code",
   "execution_count": 10,
   "id": "53c243f2",
   "metadata": {},
   "outputs": [
    {
     "data": {
      "text/plain": [
       "[<em class=\"artist\">Elton John &amp; Dua Lipa</em>,\n",
       " <em class=\"artist\">Adele</em>,\n",
       " <em class=\"artist\">OG3NE</em>,\n",
       " <em class=\"artist\">Gino Graus</em>,\n",
       " <em class=\"artist\">OG3NE</em>,\n",
       " <em class=\"artist\">Acraze</em>,\n",
       " <em class=\"artist\">Tiësto &amp; Ava Max</em>,\n",
       " <em class=\"artist\">Helemaal Hollands</em>,\n",
       " <em class=\"artist\">Jan Biggel</em>,\n",
       " <em class=\"artist\">Jeffrey Heesen</em>,\n",
       " <em class=\"artist\">Danny Froger &amp; Wesley Klein</em>,\n",
       " <em class=\"artist\">Evert Van Huygevoort</em>,\n",
       " <em class=\"artist\">MEAU</em>,\n",
       " <em class=\"artist\">Rene Le Blanc</em>,\n",
       " <em class=\"artist\">Bolland &amp; Bolland</em>,\n",
       " <em class=\"artist\">Adele</em>,\n",
       " <em class=\"artist\">FLEMMING</em>,\n",
       " <em class=\"artist\">Ed Sheeran</em>,\n",
       " <em class=\"artist\">Ed Sheeran</em>,\n",
       " <em class=\"artist\">Swedish House Mafia &amp; The Weeknd</em>,\n",
       " <em class=\"artist\">Bob Offenberg</em>,\n",
       " <em class=\"artist\">Gebroeders Ko</em>,\n",
       " <em class=\"artist\">Adele</em>,\n",
       " <em class=\"artist\">Mart Hoogkamer</em>,\n",
       " <em class=\"artist\">Farruko</em>,\n",
       " <em class=\"artist\">Snollebollekes</em>,\n",
       " <em class=\"artist\">Gabry Ponte, LUM!X &amp; Prezioso</em>,\n",
       " <em class=\"artist\">Lawineboys</em>,\n",
       " <em class=\"artist\">Lost Frequencies &amp; Calum Scott</em>,\n",
       " <em class=\"artist\">P!nk &amp; Willow Sage Hart</em>,\n",
       " <em class=\"artist\">RONDÉ</em>,\n",
       " <em class=\"artist\">Adele</em>,\n",
       " <em class=\"artist\">Adele</em>,\n",
       " <em class=\"artist\">Mariah Carey</em>,\n",
       " <em class=\"artist\">Adele</em>,\n",
       " <em class=\"artist\">Beste Zangers &amp; Miss Montreal</em>,\n",
       " <em class=\"artist\">Rolf Sanchez</em>,\n",
       " <em class=\"artist\">Michael Bublé</em>,\n",
       " <em class=\"artist\">Ed Sheeran</em>,\n",
       " <em class=\"artist\">Rain Radio &amp; DJ Craig Gorman</em>,\n",
       " <em class=\"artist\">CKay</em>,\n",
       " <em class=\"artist\">Django Wagner &amp; Wolter Kroes</em>,\n",
       " <em class=\"artist\">Arjon Oostrom</em>,\n",
       " <em class=\"artist\">Crazy Frog</em>,\n",
       " <em class=\"artist\">Adele</em>,\n",
       " <em class=\"artist\">Shouse &amp; David Guetta</em>,\n",
       " <em class=\"artist\">Justin Bieber</em>,\n",
       " <em class=\"artist\">Eddie Vedder</em>,\n",
       " <em class=\"artist\">Glass Animals</em>,\n",
       " <em class=\"artist\">Bilal Wahib</em>,\n",
       " <em class=\"artist\">Yade Lauren</em>,\n",
       " <em class=\"artist\">Toon Hermans</em>,\n",
       " <em class=\"artist\">Elephant</em>,\n",
       " <em class=\"artist\">Davido &amp; Focalistic</em>,\n",
       " <em class=\"artist\">Adele</em>,\n",
       " <em class=\"artist\">Barbra Streisand</em>,\n",
       " <em class=\"artist\">Justin Wellington</em>,\n",
       " <em class=\"artist\">Gerry &amp; The Pacemakers</em>,\n",
       " <em class=\"artist\">Bruno Mars, Anderson .Paak &amp; Silk Sonic</em>,\n",
       " <em class=\"artist\">Andra Day</em>,\n",
       " <em class=\"artist\">Donnie</em>,\n",
       " <em class=\"artist\">Sjaak</em>,\n",
       " <em class=\"artist\">Coldplay X BTS</em>,\n",
       " <em class=\"artist\">André Rieu, Mirusia Louwerse &amp; Johann Strauss Orchestra</em>,\n",
       " <em class=\"artist\">André Hazes</em>,\n",
       " <em class=\"artist\">David Bowie</em>,\n",
       " <em class=\"artist\">Adele</em>,\n",
       " <em class=\"artist\">Stromae</em>,\n",
       " <em class=\"artist\">Dermot Kennedy</em>,\n",
       " <em class=\"artist\">Post Malone &amp; The Weeknd</em>,\n",
       " <em class=\"artist\">Purple Disco Machine</em>,\n",
       " <em class=\"artist\">Grits</em>,\n",
       " <em class=\"artist\">Taylor Swift</em>,\n",
       " <em class=\"artist\">Kool &amp; The Gang</em>,\n",
       " <em class=\"artist\">The Weeknd</em>,\n",
       " <em class=\"artist\">Rema</em>,\n",
       " <em class=\"artist\">The Human League</em>,\n",
       " <em class=\"artist\">Afrojack, Lucas &amp; Steve &amp; DubVision</em>,\n",
       " <em class=\"artist\">Rob de Nijs</em>,\n",
       " <em class=\"artist\">Tom Grennan</em>,\n",
       " <em class=\"artist\">KAYTRANADA</em>,\n",
       " <em class=\"artist\">Ofenbach &amp; Ella Henderson</em>,\n",
       " <em class=\"artist\">Dopebwoy</em>,\n",
       " <em class=\"artist\">Niall Horan &amp; Anne-Marie</em>,\n",
       " <em class=\"artist\">Adele</em>,\n",
       " <em class=\"artist\">Shouse &amp; David Guetta</em>,\n",
       " <em class=\"artist\">Kevin</em>,\n",
       " <em class=\"artist\">Nona</em>,\n",
       " <em class=\"artist\">John West &amp; Zonzo Basily</em>,\n",
       " <em class=\"artist\">Jennifer Lopez</em>,\n",
       " <em class=\"artist\">Vinzzent</em>,\n",
       " <em class=\"artist\">Jeangu Macrooy &amp; Pete Philly</em>,\n",
       " <em class=\"artist\">Bear's Den</em>,\n",
       " <em class=\"artist\">Imagine Dragons, JID &amp; League of Legends</em>,\n",
       " <em class=\"artist\">鍾鎮濤 &amp; Metropole Orkest</em>,\n",
       " <em class=\"artist\">Stefania</em>,\n",
       " <em class=\"artist\">Airbag</em>,\n",
       " <em class=\"artist\">Yacouboss &amp; CKay</em>,\n",
       " <em class=\"artist\">De Staat</em>,\n",
       " <em class=\"artist\">Pharrell Williams</em>]"
      ]
     },
     "execution_count": 10,
     "metadata": {},
     "output_type": "execute_result"
    }
   ],
   "source": [
    "soup.select(\"p > em\")"
   ]
  },
  {
   "cell_type": "code",
   "execution_count": 11,
   "id": "d2a801ed",
   "metadata": {},
   "outputs": [
    {
     "name": "stdout",
     "output_type": "stream",
     "text": [
      "['Elton John & Dua Lipa', 'Adele', 'OG3NE', 'Gino Graus', 'OG3NE', 'Acraze', 'Tiësto & Ava Max', 'Helemaal Hollands', 'Jan Biggel', 'Jeffrey Heesen', 'Danny Froger & Wesley Klein', 'Evert Van Huygevoort', 'MEAU', 'Rene Le Blanc', 'Bolland & Bolland', 'Adele', 'FLEMMING', 'Ed Sheeran', 'Ed Sheeran', 'Swedish House Mafia & The Weeknd', 'Bob Offenberg', 'Gebroeders Ko', 'Adele', 'Mart Hoogkamer', 'Farruko', 'Snollebollekes', 'Gabry Ponte, LUM!X & Prezioso', 'Lawineboys', 'Lost Frequencies & Calum Scott', 'P!nk & Willow Sage Hart', 'RONDÉ', 'Adele', 'Adele', 'Mariah Carey', 'Adele', 'Beste Zangers & Miss Montreal', 'Rolf Sanchez', 'Michael Bublé', 'Ed Sheeran', 'Rain Radio & DJ Craig Gorman', 'CKay', 'Django Wagner & Wolter Kroes', 'Arjon Oostrom', 'Crazy Frog', 'Adele', 'Shouse & David Guetta', 'Justin Bieber', 'Eddie Vedder', 'Glass Animals', 'Bilal Wahib', 'Yade Lauren', 'Toon Hermans', 'Elephant', 'Davido & Focalistic', 'Adele', 'Barbra Streisand', 'Justin Wellington', 'Gerry & The Pacemakers', 'Bruno Mars, Anderson .Paak & Silk Sonic', 'Andra Day', 'Donnie', 'Sjaak', 'Coldplay X BTS', 'André Rieu, Mirusia Louwerse & Johann Strauss Orchestra', 'André Hazes', 'David Bowie', 'Adele', 'Stromae', 'Dermot Kennedy', 'Post Malone & The Weeknd', 'Purple Disco Machine', 'Grits', 'Taylor Swift', 'Kool & The Gang', 'The Weeknd', 'Rema', 'The Human League', 'Afrojack, Lucas & Steve & DubVision', 'Rob de Nijs', 'Tom Grennan', 'KAYTRANADA', 'Ofenbach & Ella Henderson', 'Dopebwoy', 'Niall Horan & Anne-Marie', 'Adele', 'Shouse & David Guetta', 'Kevin', 'Nona', 'John West & Zonzo Basily', 'Jennifer Lopez', 'Vinzzent', 'Jeangu Macrooy & Pete Philly', \"Bear's Den\", 'Imagine Dragons, JID & League of Legends', '鍾鎮濤 & Metropole Orkest', 'Stefania', 'Airbag', 'Yacouboss & CKay', 'De Staat', 'Pharrell Williams']\n"
     ]
    }
   ],
   "source": [
    "artist = []\n",
    "num_iter = len(soup.select(\"p > em\"))\n",
    "\n",
    "for i in range(num_iter):\n",
    "    artist.append(soup.select(\"p > em\")[i].get_text())\n",
    "    \n",
    "print(artist)\n",
    "\n",
    "top100_artist = pd.DataFrame({\"artist\":artist})"
   ]
  },
  {
   "cell_type": "code",
   "execution_count": 12,
   "id": "b49bee90",
   "metadata": {},
   "outputs": [
    {
     "data": {
      "text/html": [
       "<div>\n",
       "<style scoped>\n",
       "    .dataframe tbody tr th:only-of-type {\n",
       "        vertical-align: middle;\n",
       "    }\n",
       "\n",
       "    .dataframe tbody tr th {\n",
       "        vertical-align: top;\n",
       "    }\n",
       "\n",
       "    .dataframe thead th {\n",
       "        text-align: right;\n",
       "    }\n",
       "</style>\n",
       "<table border=\"1\" class=\"dataframe\">\n",
       "  <thead>\n",
       "    <tr style=\"text-align: right;\">\n",
       "      <th></th>\n",
       "      <th>artist</th>\n",
       "    </tr>\n",
       "  </thead>\n",
       "  <tbody>\n",
       "    <tr>\n",
       "      <th>0</th>\n",
       "      <td>Elton John &amp; Dua Lipa</td>\n",
       "    </tr>\n",
       "    <tr>\n",
       "      <th>1</th>\n",
       "      <td>Adele</td>\n",
       "    </tr>\n",
       "    <tr>\n",
       "      <th>2</th>\n",
       "      <td>OG3NE</td>\n",
       "    </tr>\n",
       "    <tr>\n",
       "      <th>3</th>\n",
       "      <td>Gino Graus</td>\n",
       "    </tr>\n",
       "    <tr>\n",
       "      <th>4</th>\n",
       "      <td>OG3NE</td>\n",
       "    </tr>\n",
       "  </tbody>\n",
       "</table>\n",
       "</div>"
      ],
      "text/plain": [
       "                  artist\n",
       "0  Elton John & Dua Lipa\n",
       "1                  Adele\n",
       "2                  OG3NE\n",
       "3             Gino Graus\n",
       "4                  OG3NE"
      ]
     },
     "execution_count": 12,
     "metadata": {},
     "output_type": "execute_result"
    }
   ],
   "source": [
    "top100_artist.head()"
   ]
  },
  {
   "cell_type": "code",
   "execution_count": 13,
   "id": "f7e34c2e",
   "metadata": {
    "scrolled": true
   },
   "outputs": [
    {
     "data": {
      "text/html": [
       "<div>\n",
       "<style scoped>\n",
       "    .dataframe tbody tr th:only-of-type {\n",
       "        vertical-align: middle;\n",
       "    }\n",
       "\n",
       "    .dataframe tbody tr th {\n",
       "        vertical-align: top;\n",
       "    }\n",
       "\n",
       "    .dataframe thead th {\n",
       "        text-align: right;\n",
       "    }\n",
       "</style>\n",
       "<table border=\"1\" class=\"dataframe\">\n",
       "  <thead>\n",
       "    <tr style=\"text-align: right;\">\n",
       "      <th></th>\n",
       "      <th>artist</th>\n",
       "      <th>song</th>\n",
       "    </tr>\n",
       "  </thead>\n",
       "  <tbody>\n",
       "    <tr>\n",
       "      <th>0</th>\n",
       "      <td>Elton John &amp; Dua Lipa</td>\n",
       "      <td>Cold Heart (PNAU Remix)</td>\n",
       "    </tr>\n",
       "    <tr>\n",
       "      <th>1</th>\n",
       "      <td>Adele</td>\n",
       "      <td>Easy On Me</td>\n",
       "    </tr>\n",
       "    <tr>\n",
       "      <th>2</th>\n",
       "      <td>OG3NE</td>\n",
       "      <td>Christmas On My Doorstep</td>\n",
       "    </tr>\n",
       "    <tr>\n",
       "      <th>3</th>\n",
       "      <td>Gino Graus</td>\n",
       "      <td>Schiddi Widdi Witt</td>\n",
       "    </tr>\n",
       "    <tr>\n",
       "      <th>4</th>\n",
       "      <td>OG3NE</td>\n",
       "      <td>Coming Home With Santa</td>\n",
       "    </tr>\n",
       "    <tr>\n",
       "      <th>...</th>\n",
       "      <td>...</td>\n",
       "      <td>...</td>\n",
       "    </tr>\n",
       "    <tr>\n",
       "      <th>95</th>\n",
       "      <td>Stefania</td>\n",
       "      <td>Words</td>\n",
       "    </tr>\n",
       "    <tr>\n",
       "      <th>96</th>\n",
       "      <td>Airbag</td>\n",
       "      <td>Steal My Soul</td>\n",
       "    </tr>\n",
       "    <tr>\n",
       "      <th>97</th>\n",
       "      <td>Yacouboss &amp; CKay</td>\n",
       "      <td>Love nwantiti (French Remix)</td>\n",
       "    </tr>\n",
       "    <tr>\n",
       "      <th>98</th>\n",
       "      <td>De Staat</td>\n",
       "      <td>What Goes, Let Go</td>\n",
       "    </tr>\n",
       "    <tr>\n",
       "      <th>99</th>\n",
       "      <td>Pharrell Williams</td>\n",
       "      <td>Happy (From \"Despicable Me 2\")</td>\n",
       "    </tr>\n",
       "  </tbody>\n",
       "</table>\n",
       "<p>100 rows × 2 columns</p>\n",
       "</div>"
      ],
      "text/plain": [
       "                   artist                            song\n",
       "0   Elton John & Dua Lipa         Cold Heart (PNAU Remix)\n",
       "1                   Adele                      Easy On Me\n",
       "2                   OG3NE        Christmas On My Doorstep\n",
       "3              Gino Graus              Schiddi Widdi Witt\n",
       "4                   OG3NE          Coming Home With Santa\n",
       "..                    ...                             ...\n",
       "95               Stefania                           Words\n",
       "96                 Airbag                   Steal My Soul\n",
       "97       Yacouboss & CKay    Love nwantiti (French Remix)\n",
       "98               De Staat               What Goes, Let Go\n",
       "99      Pharrell Williams  Happy (From \"Despicable Me 2\")\n",
       "\n",
       "[100 rows x 2 columns]"
      ]
     },
     "execution_count": 13,
     "metadata": {},
     "output_type": "execute_result"
    }
   ],
   "source": [
    "top100=pd.concat([top100_artist,top100_song],axis=1)\n",
    "top100"
   ]
  },
  {
   "cell_type": "markdown",
   "id": "092cbcd5",
   "metadata": {},
   "source": [
    "# lab.web_scraping_multiple"
   ]
  },
  {
   "cell_type": "code",
   "execution_count": 46,
   "id": "a0914eb6",
   "metadata": {},
   "outputs": [],
   "source": [
    "url='https://en.wikipedia.org/wiki/List_of_languages_by_number_of_native_speakers'"
   ]
  },
  {
   "cell_type": "code",
   "execution_count": 47,
   "id": "b96fd1d4",
   "metadata": {},
   "outputs": [],
   "source": [
    "response = requests.get(url)"
   ]
  },
  {
   "cell_type": "code",
   "execution_count": 48,
   "id": "d0cf0548",
   "metadata": {},
   "outputs": [],
   "source": [
    "html = response.content"
   ]
  },
  {
   "cell_type": "code",
   "execution_count": 49,
   "id": "a9f84773",
   "metadata": {},
   "outputs": [],
   "source": [
    "soup1= BeautifulSoup(response.content, \"html.parser\")"
   ]
  },
  {
   "cell_type": "code",
   "execution_count": 50,
   "id": "c6d38d42",
   "metadata": {},
   "outputs": [],
   "source": [
    "list_languages = soup1.select('table.wikitable > tbody > tr > td > a')"
   ]
  },
  {
   "cell_type": "code",
   "execution_count": 51,
   "id": "d5145bdf",
   "metadata": {},
   "outputs": [],
   "source": [
    "language_speakers = soup1.select(\"table.wikitable > tbody > tr > td\")"
   ]
  },
  {
   "cell_type": "code",
   "execution_count": 52,
   "id": "5dc13004",
   "metadata": {},
   "outputs": [],
   "source": [
    "actual_speakers=[speaker.text for speaker in language_speakers]"
   ]
  },
  {
   "cell_type": "code",
   "execution_count": 53,
   "id": "c4b2926b",
   "metadata": {},
   "outputs": [],
   "source": [
    "count = 0 #initialize to zero\n",
    "\n",
    "rank= []\n",
    "lang = []\n",
    "speak = []\n",
    "percent = []\n",
    "family = []\n",
    "branch = []\n",
    "\n",
    "while count < 100:\n",
    "    rank.append(actual_speakers[count][:-1])\n",
    "    count = count + 1\n",
    "    lang.append(actual_speakers[count][:-1])\n",
    "    count = count + 1\n",
    "    speak.append(actual_speakers[count][:-1])\n",
    "    count = count + 1\n",
    "    percent.append(actual_speakers[count][:-1])\n",
    "    count = count + 1\n",
    "    family.append(actual_speakers[count][:-1])\n",
    "    count = count + 1\n",
    "    branch.append(actual_speakers[count][:-1])\n",
    "    count = count + 1"
   ]
  },
  {
   "cell_type": "code",
   "execution_count": 56,
   "id": "914c655c",
   "metadata": {},
   "outputs": [],
   "source": [
    "final_languages=pd.DataFrame({\"rank\":rank,\n",
    "                             \"language\":lang,\n",
    "                             \"speakers\":speak,\n",
    "                             \"percentage\":percent,\n",
    "                             \"language_family\":family,\n",
    "                             \"branch\":branch})"
   ]
  },
  {
   "cell_type": "code",
   "execution_count": 57,
   "id": "8b65fdbf",
   "metadata": {},
   "outputs": [
    {
     "data": {
      "text/html": [
       "<div>\n",
       "<style scoped>\n",
       "    .dataframe tbody tr th:only-of-type {\n",
       "        vertical-align: middle;\n",
       "    }\n",
       "\n",
       "    .dataframe tbody tr th {\n",
       "        vertical-align: top;\n",
       "    }\n",
       "\n",
       "    .dataframe thead th {\n",
       "        text-align: right;\n",
       "    }\n",
       "</style>\n",
       "<table border=\"1\" class=\"dataframe\">\n",
       "  <thead>\n",
       "    <tr style=\"text-align: right;\">\n",
       "      <th></th>\n",
       "      <th>rank</th>\n",
       "      <th>language</th>\n",
       "      <th>speakers</th>\n",
       "      <th>percentage</th>\n",
       "      <th>language_family</th>\n",
       "      <th>branch</th>\n",
       "    </tr>\n",
       "  </thead>\n",
       "  <tbody>\n",
       "    <tr>\n",
       "      <th>0</th>\n",
       "      <td>1</td>\n",
       "      <td>Mandarin Chinese</td>\n",
       "      <td>918</td>\n",
       "      <td>11.922%</td>\n",
       "      <td>Sino-Tibetan</td>\n",
       "      <td>Sinitic</td>\n",
       "    </tr>\n",
       "    <tr>\n",
       "      <th>1</th>\n",
       "      <td>2</td>\n",
       "      <td>Spanish</td>\n",
       "      <td>480</td>\n",
       "      <td>5.994%</td>\n",
       "      <td>Indo-European</td>\n",
       "      <td>Romance</td>\n",
       "    </tr>\n",
       "    <tr>\n",
       "      <th>2</th>\n",
       "      <td>3</td>\n",
       "      <td>English</td>\n",
       "      <td>379</td>\n",
       "      <td>4.922%</td>\n",
       "      <td>Indo-European</td>\n",
       "      <td>Germanic</td>\n",
       "    </tr>\n",
       "    <tr>\n",
       "      <th>3</th>\n",
       "      <td>4</td>\n",
       "      <td>Hindi (sanskritised Hindustani)[9]</td>\n",
       "      <td>341</td>\n",
       "      <td>4.429%</td>\n",
       "      <td>Indo-European</td>\n",
       "      <td>Indo-Aryan</td>\n",
       "    </tr>\n",
       "    <tr>\n",
       "      <th>4</th>\n",
       "      <td>5</td>\n",
       "      <td>Bengali</td>\n",
       "      <td>300</td>\n",
       "      <td>4.000%</td>\n",
       "      <td>Indo-European</td>\n",
       "      <td>Indo-Aryan</td>\n",
       "    </tr>\n",
       "    <tr>\n",
       "      <th>5</th>\n",
       "      <td>6</td>\n",
       "      <td>Portuguese</td>\n",
       "      <td>221</td>\n",
       "      <td>2.870%</td>\n",
       "      <td>Indo-European</td>\n",
       "      <td>Romance</td>\n",
       "    </tr>\n",
       "    <tr>\n",
       "      <th>6</th>\n",
       "      <td>7</td>\n",
       "      <td>Russian</td>\n",
       "      <td>154</td>\n",
       "      <td>2.000%</td>\n",
       "      <td>Indo-European</td>\n",
       "      <td>Balto-Slavic</td>\n",
       "    </tr>\n",
       "    <tr>\n",
       "      <th>7</th>\n",
       "      <td>8</td>\n",
       "      <td>Japanese</td>\n",
       "      <td>128</td>\n",
       "      <td>1.662%</td>\n",
       "      <td>Japonic</td>\n",
       "      <td>Japanese</td>\n",
       "    </tr>\n",
       "    <tr>\n",
       "      <th>8</th>\n",
       "      <td>9</td>\n",
       "      <td>Western Punjabi[10]</td>\n",
       "      <td>92.7</td>\n",
       "      <td>1.204%</td>\n",
       "      <td>Indo-European</td>\n",
       "      <td>Indo-Aryan</td>\n",
       "    </tr>\n",
       "    <tr>\n",
       "      <th>9</th>\n",
       "      <td>10</td>\n",
       "      <td>Marathi</td>\n",
       "      <td>83.1</td>\n",
       "      <td>1.079%</td>\n",
       "      <td>Indo-European</td>\n",
       "      <td>Indo-Aryan</td>\n",
       "    </tr>\n",
       "    <tr>\n",
       "      <th>10</th>\n",
       "      <td>11</td>\n",
       "      <td>Telugu</td>\n",
       "      <td>82.0</td>\n",
       "      <td>1.065%</td>\n",
       "      <td>Dravidian</td>\n",
       "      <td>South-Central</td>\n",
       "    </tr>\n",
       "    <tr>\n",
       "      <th>11</th>\n",
       "      <td>12</td>\n",
       "      <td>Wu Chinese</td>\n",
       "      <td>81.4</td>\n",
       "      <td>1.057%</td>\n",
       "      <td>Sino-Tibetan</td>\n",
       "      <td>Sinitic</td>\n",
       "    </tr>\n",
       "    <tr>\n",
       "      <th>12</th>\n",
       "      <td>13</td>\n",
       "      <td>Turkish</td>\n",
       "      <td>79.4</td>\n",
       "      <td>1.031%</td>\n",
       "      <td>Turkic</td>\n",
       "      <td>Oghuz</td>\n",
       "    </tr>\n",
       "    <tr>\n",
       "      <th>13</th>\n",
       "      <td>14</td>\n",
       "      <td>Korean</td>\n",
       "      <td>77.3</td>\n",
       "      <td>1.004%</td>\n",
       "      <td>Koreanic</td>\n",
       "      <td>language isolate</td>\n",
       "    </tr>\n",
       "    <tr>\n",
       "      <th>14</th>\n",
       "      <td>15</td>\n",
       "      <td>French</td>\n",
       "      <td>77.2</td>\n",
       "      <td>1.003%</td>\n",
       "      <td>Indo-European</td>\n",
       "      <td>Romance</td>\n",
       "    </tr>\n",
       "    <tr>\n",
       "      <th>15</th>\n",
       "      <td>16</td>\n",
       "      <td>German (only Standard German)</td>\n",
       "      <td>76.1</td>\n",
       "      <td>0.988%</td>\n",
       "      <td>Indo-European</td>\n",
       "      <td>Germanic</td>\n",
       "    </tr>\n",
       "    <tr>\n",
       "      <th>16</th>\n",
       "      <td>17</td>\n",
       "      <td>Vietnamese</td>\n",
       "      <td>76.0</td>\n",
       "      <td>0.987%</td>\n",
       "      <td>Austroasiatic</td>\n",
       "      <td>Vietic</td>\n",
       "    </tr>\n",
       "  </tbody>\n",
       "</table>\n",
       "</div>"
      ],
      "text/plain": [
       "   rank                            language speakers percentage  \\\n",
       "0     1                    Mandarin Chinese      918    11.922%   \n",
       "1     2                             Spanish      480     5.994%   \n",
       "2     3                             English      379     4.922%   \n",
       "3     4  Hindi (sanskritised Hindustani)[9]      341     4.429%   \n",
       "4     5                             Bengali      300     4.000%   \n",
       "5     6                          Portuguese      221     2.870%   \n",
       "6     7                             Russian      154     2.000%   \n",
       "7     8                            Japanese      128     1.662%   \n",
       "8     9                 Western Punjabi[10]     92.7     1.204%   \n",
       "9    10                             Marathi     83.1     1.079%   \n",
       "10   11                              Telugu     82.0     1.065%   \n",
       "11   12                          Wu Chinese     81.4     1.057%   \n",
       "12   13                             Turkish     79.4     1.031%   \n",
       "13   14                              Korean     77.3     1.004%   \n",
       "14   15                              French     77.2     1.003%   \n",
       "15   16       German (only Standard German)     76.1     0.988%   \n",
       "16   17                          Vietnamese     76.0     0.987%   \n",
       "\n",
       "   language_family            branch  \n",
       "0     Sino-Tibetan           Sinitic  \n",
       "1    Indo-European           Romance  \n",
       "2    Indo-European          Germanic  \n",
       "3    Indo-European        Indo-Aryan  \n",
       "4    Indo-European        Indo-Aryan  \n",
       "5    Indo-European           Romance  \n",
       "6    Indo-European      Balto-Slavic  \n",
       "7          Japonic          Japanese  \n",
       "8    Indo-European        Indo-Aryan  \n",
       "9    Indo-European        Indo-Aryan  \n",
       "10       Dravidian     South-Central  \n",
       "11    Sino-Tibetan           Sinitic  \n",
       "12          Turkic             Oghuz  \n",
       "13        Koreanic  language isolate  \n",
       "14   Indo-European           Romance  \n",
       "15   Indo-European          Germanic  \n",
       "16   Austroasiatic            Vietic  "
      ]
     },
     "execution_count": 57,
     "metadata": {},
     "output_type": "execute_result"
    }
   ],
   "source": [
    "final_languages"
   ]
  },
  {
   "cell_type": "code",
   "execution_count": 64,
   "id": "42b019a8",
   "metadata": {},
   "outputs": [],
   "source": [
    "#main-content > div > div:nth-child(1) > div > div\n",
    "#visual-wrapper > div.top-nav-bar\n",
    "#visual-wrapper > div.main-wrapper"
   ]
  },
  {
   "cell_type": "code",
   "execution_count": 65,
   "id": "ba652aea",
   "metadata": {},
   "outputs": [],
   "source": [
    "url=\"https://www.fbi.gov/wanted/topten\""
   ]
  },
  {
   "cell_type": "code",
   "execution_count": 66,
   "id": "af899639",
   "metadata": {},
   "outputs": [
    {
     "data": {
      "text/plain": [
       "200"
      ]
     },
     "execution_count": 66,
     "metadata": {},
     "output_type": "execute_result"
    }
   ],
   "source": [
    "response = requests.get(url)\n",
    "response.status_code"
   ]
  },
  {
   "cell_type": "code",
   "execution_count": 67,
   "id": "338b7147",
   "metadata": {},
   "outputs": [],
   "source": [
    "soup2=BeautifulSoup(response.content, \"html.parser\")"
   ]
  },
  {
   "cell_type": "code",
   "execution_count": 68,
   "id": "d4e375c4",
   "metadata": {},
   "outputs": [
    {
     "data": {
      "text/plain": [
       "[<a href=\"https://www.fbi.gov/wanted/topten/rafael-caro-quintero\">RAFAEL CARO-QUINTERO</a>,\n",
       " <a href=\"https://www.fbi.gov/wanted/topten/yulan-adonay-archaga-carias\">YULAN ADONAY ARCHAGA CARIAS</a>,\n",
       " <a href=\"https://www.fbi.gov/wanted/topten/eugene-palmer\">EUGENE PALMER</a>,\n",
       " <a href=\"https://www.fbi.gov/wanted/topten/bhadreshkumar-chetanbhai-patel\">BHADRESHKUMAR CHETANBHAI PATEL</a>,\n",
       " <a href=\"https://www.fbi.gov/wanted/topten/alejandro-castillo\">ALEJANDRO ROSALES CASTILLO</a>,\n",
       " <a href=\"https://www.fbi.gov/wanted/topten/arnoldo-jimenez\">ARNOLDO JIMENEZ</a>,\n",
       " <a href=\"https://www.fbi.gov/wanted/topten/jason-derek-brown\">JASON DEREK BROWN</a>,\n",
       " <a href=\"https://www.fbi.gov/wanted/topten/alexis-flores\">ALEXIS FLORES</a>,\n",
       " <a href=\"https://www.fbi.gov/wanted/topten/jose-rodolfo-villarreal-hernandez\">JOSE RODOLFO VILLARREAL-HERNANDEZ</a>,\n",
       " <a href=\"https://www.fbi.gov/wanted/topten/octaviano-juarez-corro\">OCTAVIANO JUAREZ-CORRO</a>]"
      ]
     },
     "execution_count": 68,
     "metadata": {},
     "output_type": "execute_result"
    }
   ],
   "source": [
    "top_10=soup2.select(\"li.portal-type-person > h3 > a\")\n",
    "top_10"
   ]
  },
  {
   "cell_type": "code",
   "execution_count": 70,
   "id": "2f4df5c7",
   "metadata": {},
   "outputs": [
    {
     "data": {
      "text/plain": [
       "['RAFAEL CARO-QUINTERO',\n",
       " 'YULAN ADONAY ARCHAGA CARIAS',\n",
       " 'EUGENE PALMER',\n",
       " 'BHADRESHKUMAR CHETANBHAI PATEL',\n",
       " 'ALEJANDRO ROSALES CASTILLO',\n",
       " 'ARNOLDO JIMENEZ',\n",
       " 'JASON DEREK BROWN',\n",
       " 'ALEXIS FLORES',\n",
       " 'JOSE RODOLFO VILLARREAL-HERNANDEZ',\n",
       " 'OCTAVIANO JUAREZ-CORRO']"
      ]
     },
     "execution_count": 70,
     "metadata": {},
     "output_type": "execute_result"
    }
   ],
   "source": [
    "top_name=[]\n",
    "for i in top_10:\n",
    "    top_name.append(i.text)\n",
    "\n",
    "top_name\n",
    "    "
   ]
  }
 ],
 "metadata": {
  "kernelspec": {
   "display_name": "Python 3 (ipykernel)",
   "language": "python",
   "name": "python3"
  },
  "language_info": {
   "codemirror_mode": {
    "name": "ipython",
    "version": 3
   },
   "file_extension": ".py",
   "mimetype": "text/x-python",
   "name": "python",
   "nbconvert_exporter": "python",
   "pygments_lexer": "ipython3",
   "version": "3.9.7"
  }
 },
 "nbformat": 4,
 "nbformat_minor": 5
}

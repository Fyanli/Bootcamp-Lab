{
 "cells": [
  {
   "cell_type": "code",
   "execution_count": 6,
   "id": "072ed9d4",
   "metadata": {},
   "outputs": [],
   "source": [
    "from bs4 import BeautifulSoup\n",
    "import requests\n",
    "import pandas as pd"
   ]
  },
  {
   "cell_type": "code",
   "execution_count": 31,
   "id": "aac04f62",
   "metadata": {},
   "outputs": [],
   "source": [
    "url = \"http://www.popvortex.com/music/netherlands/top-songs.php\""
   ]
  },
  {
   "cell_type": "code",
   "execution_count": 32,
   "id": "440c777b",
   "metadata": {},
   "outputs": [
    {
     "data": {
      "text/plain": [
       "200"
      ]
     },
     "execution_count": 32,
     "metadata": {},
     "output_type": "execute_result"
    }
   ],
   "source": [
    "response = requests.get(url)\n",
    "response.status_code"
   ]
  },
  {
   "cell_type": "code",
   "execution_count": 33,
   "id": "778e578f",
   "metadata": {},
   "outputs": [],
   "source": [
    "soup = BeautifulSoup(response.content, \"html.parser\")"
   ]
  },
  {
   "cell_type": "code",
   "execution_count": 34,
   "id": "73f5851f",
   "metadata": {},
   "outputs": [
    {
     "data": {
      "text/plain": [
       "[<cite class=\"title\">Cold Heart (PNAU Remix)</cite>]"
      ]
     },
     "execution_count": 34,
     "metadata": {},
     "output_type": "execute_result"
    }
   ],
   "source": [
    "soup.select(\"#chart-position-1 > div.chart-content.col-xs-12.col-sm-8 > p > cite\")"
   ]
  },
  {
   "cell_type": "code",
   "execution_count": 35,
   "id": "73857c68",
   "metadata": {},
   "outputs": [
    {
     "data": {
      "text/plain": [
       "'Easy On Me'"
      ]
     },
     "execution_count": 35,
     "metadata": {},
     "output_type": "execute_result"
    }
   ],
   "source": [
    "soup.select(\"p > cite\")[1].get_text()"
   ]
  },
  {
   "cell_type": "code",
   "execution_count": 36,
   "id": "082b9bf5",
   "metadata": {},
   "outputs": [
    {
     "name": "stdout",
     "output_type": "stream",
     "text": [
      "['Cold Heart (PNAU Remix)', 'Easy On Me', 'Christmas On My Doorstep', 'Coming Home With Santa', 'Schiddi Widdi Witt', 'Do It To It (feat. Cherish)', 'Alle Remmen Los', 'Ons Moeder Zeej Nog', 'The Motto', 'Only You', 'Baby Lekker Ding', 'Everybody Needs Somebody To Love', 'Mañana', 'Dat Heb Jij Gedaan', 'To Be Loved', 'Misschien Huil Ik Niet Hard Genoeg', 'Bad Habits', 'Amsterdam', 'Moth To A Flame', 'Hold On', 'Thunder', 'Shivers', \"Tot Over M'n Oren\", 'Ja Wie Niet Springt (Die Moet Betalen)', 'Ik Ga Zwemmen', 'Pepas', \"Non Stop Vol D'r Op\", 'Nooit Meer Alcohol', 'Where Are You Now', 'Hard To Say Goodbye', 'I Drink Wine', 'Can I Get It', 'All Night Parking (with Erroll Garner) Interlude', 'When We Were Young', \"It's Beginning To Look a Lot Like Christmas\", 'Cover Me In Sunshine', 'Ghost', 'Streken Van Een Duivel (feat. Frenna)', 'Hello', 'All I Want For Christmas Is You', 'Door De Wind', 'Más Más Más', 'Leave The Door Open', 'Overpass Graffiti', 'Talk About', 'love nwantiti (feat. Axel & DJ Yo) [Remix]', 'Wij Gaan Door', 'Vrijmibo', 'Santé', 'Axel F (Radio Edit)', 'Love Tonight (David Guetta Remix)', 'Take My Breath', 'The Haves', 'Strangers By Nature', 'Heat Waves', 'In De Nacht', 'Goodbye Ciao Ciao', 'Little Bit of Love', 'Café Biljart', 'Calling', 'Moments', 'Champion Sound', 'Skyfall', 'Thriller', 'Woman In Love', 'Iko Iko (My Bestie) [feat. Small Jam]', \"You'll Never Walk Alone\", 'Unstoppable', 'Rise Up', 'Bon Gepakt (feat. Rene Froger)', 'Trompetisto', 'My Universe', 'Time To Say Goodbye (Con te partirò)', 'Smokin Out The Window', 'Kleine Jongen', \"Let's Dance (Single Version) [2002 Remaster]\", 'Love in the Dark', 'Better Days', 'One Right Now', 'Dopamine (feat. Eyelar)', 'Ooh Ahh (My Life Be Like) [feat. Tobymac]', \"Red (Taylor's Version)\", 'Cherish', 'Soundgasm', \"Don't You Want Me (Purple Disco Machine Remix)\", 'My Little Love', 'Anywhere With You', 'Foto Van Vroeger', \"Don't Break the Heart\", 'Intimidated (feat. H.E.R.)', 'Hurricane', 'Alcoholist', 'Everywhere (BBC Children In Need)', 'LA FAMA (feat. The Weeknd)', 'Tell Me Something Good', 'Love Tonight (David Guetta Remix Edit)', 'Samen (feat. Yade Lauren)', 'Skate', 'Don’t Cry Me A River', 'I Will Survive (Single Version)']\n"
     ]
    }
   ],
   "source": [
    "song = []\n",
    "num_iter = len(soup.select(\"p > cite\"))\n",
    "\n",
    "for i in range(num_iter):\n",
    "    song.append(soup.select(\"p > cite\")[i].get_text())\n",
    "    \n",
    "print(song)\n",
    "\n",
    "top100_song = pd.DataFrame({\"song\":song})"
   ]
  },
  {
   "cell_type": "code",
   "execution_count": 37,
   "id": "a98faa27",
   "metadata": {},
   "outputs": [
    {
     "data": {
      "text/html": [
       "<div>\n",
       "<style scoped>\n",
       "    .dataframe tbody tr th:only-of-type {\n",
       "        vertical-align: middle;\n",
       "    }\n",
       "\n",
       "    .dataframe tbody tr th {\n",
       "        vertical-align: top;\n",
       "    }\n",
       "\n",
       "    .dataframe thead th {\n",
       "        text-align: right;\n",
       "    }\n",
       "</style>\n",
       "<table border=\"1\" class=\"dataframe\">\n",
       "  <thead>\n",
       "    <tr style=\"text-align: right;\">\n",
       "      <th></th>\n",
       "      <th>song</th>\n",
       "    </tr>\n",
       "  </thead>\n",
       "  <tbody>\n",
       "    <tr>\n",
       "      <th>0</th>\n",
       "      <td>Cold Heart (PNAU Remix)</td>\n",
       "    </tr>\n",
       "    <tr>\n",
       "      <th>1</th>\n",
       "      <td>Easy On Me</td>\n",
       "    </tr>\n",
       "    <tr>\n",
       "      <th>2</th>\n",
       "      <td>Christmas On My Doorstep</td>\n",
       "    </tr>\n",
       "    <tr>\n",
       "      <th>3</th>\n",
       "      <td>Coming Home With Santa</td>\n",
       "    </tr>\n",
       "    <tr>\n",
       "      <th>4</th>\n",
       "      <td>Schiddi Widdi Witt</td>\n",
       "    </tr>\n",
       "  </tbody>\n",
       "</table>\n",
       "</div>"
      ],
      "text/plain": [
       "                       song\n",
       "0   Cold Heart (PNAU Remix)\n",
       "1                Easy On Me\n",
       "2  Christmas On My Doorstep\n",
       "3    Coming Home With Santa\n",
       "4        Schiddi Widdi Witt"
      ]
     },
     "execution_count": 37,
     "metadata": {},
     "output_type": "execute_result"
    }
   ],
   "source": [
    "top100_song.head()"
   ]
  },
  {
   "cell_type": "code",
   "execution_count": 38,
   "id": "7b2d4266",
   "metadata": {},
   "outputs": [
    {
     "data": {
      "text/plain": [
       "[<em class=\"artist\">Elton John &amp; Dua Lipa</em>]"
      ]
     },
     "execution_count": 38,
     "metadata": {},
     "output_type": "execute_result"
    }
   ],
   "source": [
    "soup.select(\"#chart-position-1 > div.chart-content.col-xs-12.col-sm-8 > p > em\")"
   ]
  },
  {
   "cell_type": "code",
   "execution_count": 39,
   "id": "627d27be",
   "metadata": {},
   "outputs": [
    {
     "data": {
      "text/plain": [
       "[<em class=\"artist\">Elton John &amp; Dua Lipa</em>,\n",
       " <em class=\"artist\">Adele</em>,\n",
       " <em class=\"artist\">OG3NE</em>,\n",
       " <em class=\"artist\">OG3NE</em>,\n",
       " <em class=\"artist\">Gino Graus</em>,\n",
       " <em class=\"artist\">Acraze</em>,\n",
       " <em class=\"artist\">Helemaal Hollands</em>,\n",
       " <em class=\"artist\">Jan Biggel</em>,\n",
       " <em class=\"artist\">Tiësto &amp; Ava Max</em>,\n",
       " <em class=\"artist\">Rene Le Blanc</em>,\n",
       " <em class=\"artist\">Jeffrey Heesen</em>,\n",
       " <em class=\"artist\">Danny Froger &amp; Wesley Klein</em>,\n",
       " <em class=\"artist\">Evert Van Huygevoort</em>,\n",
       " <em class=\"artist\">MEAU</em>,\n",
       " <em class=\"artist\">Adele</em>,\n",
       " <em class=\"artist\">Bolland &amp; Bolland</em>,\n",
       " <em class=\"artist\">Ed Sheeran</em>,\n",
       " <em class=\"artist\">FLEMMING</em>,\n",
       " <em class=\"artist\">Swedish House Mafia &amp; The Weeknd</em>,\n",
       " <em class=\"artist\">Adele</em>,\n",
       " <em class=\"artist\">Gabry Ponte, LUM!X &amp; Prezioso</em>,\n",
       " <em class=\"artist\">Ed Sheeran</em>,\n",
       " <em class=\"artist\">Bob Offenberg</em>,\n",
       " <em class=\"artist\">Gebroeders Ko</em>,\n",
       " <em class=\"artist\">Mart Hoogkamer</em>,\n",
       " <em class=\"artist\">Farruko</em>,\n",
       " <em class=\"artist\">Snollebollekes</em>,\n",
       " <em class=\"artist\">Lawineboys</em>,\n",
       " <em class=\"artist\">Lost Frequencies &amp; Calum Scott</em>,\n",
       " <em class=\"artist\">RONDÉ</em>,\n",
       " <em class=\"artist\">Adele</em>,\n",
       " <em class=\"artist\">Adele</em>,\n",
       " <em class=\"artist\">Adele</em>,\n",
       " <em class=\"artist\">Adele</em>,\n",
       " <em class=\"artist\">Michael Bublé</em>,\n",
       " <em class=\"artist\">P!nk &amp; Willow Sage Hart</em>,\n",
       " <em class=\"artist\">Justin Bieber</em>,\n",
       " <em class=\"artist\">Bilal Wahib</em>,\n",
       " <em class=\"artist\">Adele</em>,\n",
       " <em class=\"artist\">Mariah Carey</em>,\n",
       " <em class=\"artist\">Beste Zangers &amp; Miss Montreal</em>,\n",
       " <em class=\"artist\">Rolf Sanchez</em>,\n",
       " <em class=\"artist\">Bruno Mars, Anderson .Paak &amp; Silk Sonic</em>,\n",
       " <em class=\"artist\">Ed Sheeran</em>,\n",
       " <em class=\"artist\">Rain Radio &amp; DJ Craig Gorman</em>,\n",
       " <em class=\"artist\">CKay</em>,\n",
       " <em class=\"artist\">Django Wagner &amp; Wolter Kroes</em>,\n",
       " <em class=\"artist\">Arjon Oostrom</em>,\n",
       " <em class=\"artist\">Stromae</em>,\n",
       " <em class=\"artist\">Crazy Frog</em>,\n",
       " <em class=\"artist\">Shouse &amp; David Guetta</em>,\n",
       " <em class=\"artist\">The Weeknd</em>,\n",
       " <em class=\"artist\">Eddie Vedder</em>,\n",
       " <em class=\"artist\">Adele</em>,\n",
       " <em class=\"artist\">Glass Animals</em>,\n",
       " <em class=\"artist\">Yade Lauren</em>,\n",
       " <em class=\"artist\">Vinzzent</em>,\n",
       " <em class=\"artist\">Tom Grennan</em>,\n",
       " <em class=\"artist\">Toon Hermans</em>,\n",
       " <em class=\"artist\">Elephant</em>,\n",
       " <em class=\"artist\">Hollow Coves</em>,\n",
       " <em class=\"artist\">Davido &amp; Focalistic</em>,\n",
       " <em class=\"artist\">Adele</em>,\n",
       " <em class=\"artist\">Michael Jackson</em>,\n",
       " <em class=\"artist\">Barbra Streisand</em>,\n",
       " <em class=\"artist\">Justin Wellington</em>,\n",
       " <em class=\"artist\">Gerry &amp; The Pacemakers</em>,\n",
       " <em class=\"artist\">Sia</em>,\n",
       " <em class=\"artist\">Andra Day</em>,\n",
       " <em class=\"artist\">Donnie</em>,\n",
       " <em class=\"artist\">Sjaak</em>,\n",
       " <em class=\"artist\">Coldplay X BTS</em>,\n",
       " <em class=\"artist\">André Rieu, Mirusia Louwerse &amp; Johann Strauss Orchestra</em>,\n",
       " <em class=\"artist\">Bruno Mars, Anderson .Paak &amp; Silk Sonic</em>,\n",
       " <em class=\"artist\">André Hazes</em>,\n",
       " <em class=\"artist\">David Bowie</em>,\n",
       " <em class=\"artist\">Adele</em>,\n",
       " <em class=\"artist\">Dermot Kennedy</em>,\n",
       " <em class=\"artist\">Post Malone &amp; The Weeknd</em>,\n",
       " <em class=\"artist\">Purple Disco Machine</em>,\n",
       " <em class=\"artist\">Grits</em>,\n",
       " <em class=\"artist\">Taylor Swift</em>,\n",
       " <em class=\"artist\">Kool &amp; The Gang</em>,\n",
       " <em class=\"artist\">Rema</em>,\n",
       " <em class=\"artist\">The Human League</em>,\n",
       " <em class=\"artist\">Adele</em>,\n",
       " <em class=\"artist\">Afrojack, Lucas &amp; Steve &amp; DubVision</em>,\n",
       " <em class=\"artist\">Rob de Nijs</em>,\n",
       " <em class=\"artist\">Tom Grennan</em>,\n",
       " <em class=\"artist\">KAYTRANADA</em>,\n",
       " <em class=\"artist\">Ofenbach &amp; Ella Henderson</em>,\n",
       " <em class=\"artist\">Dopebwoy</em>,\n",
       " <em class=\"artist\">Niall Horan &amp; Anne-Marie</em>,\n",
       " <em class=\"artist\">ROSALÍA</em>,\n",
       " <em class=\"artist\">Ewan McVicar</em>,\n",
       " <em class=\"artist\">Shouse &amp; David Guetta</em>,\n",
       " <em class=\"artist\">Kevin</em>,\n",
       " <em class=\"artist\">Bruno Mars, Anderson .Paak &amp; Silk Sonic</em>,\n",
       " <em class=\"artist\">Nona</em>,\n",
       " <em class=\"artist\">Gloria Gaynor</em>]"
      ]
     },
     "execution_count": 39,
     "metadata": {},
     "output_type": "execute_result"
    }
   ],
   "source": [
    "soup.select(\"p > em\")"
   ]
  },
  {
   "cell_type": "code",
   "execution_count": 40,
   "id": "4de8e002",
   "metadata": {},
   "outputs": [
    {
     "name": "stdout",
     "output_type": "stream",
     "text": [
      "['Elton John & Dua Lipa', 'Adele', 'OG3NE', 'OG3NE', 'Gino Graus', 'Acraze', 'Helemaal Hollands', 'Jan Biggel', 'Tiësto & Ava Max', 'Rene Le Blanc', 'Jeffrey Heesen', 'Danny Froger & Wesley Klein', 'Evert Van Huygevoort', 'MEAU', 'Adele', 'Bolland & Bolland', 'Ed Sheeran', 'FLEMMING', 'Swedish House Mafia & The Weeknd', 'Adele', 'Gabry Ponte, LUM!X & Prezioso', 'Ed Sheeran', 'Bob Offenberg', 'Gebroeders Ko', 'Mart Hoogkamer', 'Farruko', 'Snollebollekes', 'Lawineboys', 'Lost Frequencies & Calum Scott', 'RONDÉ', 'Adele', 'Adele', 'Adele', 'Adele', 'Michael Bublé', 'P!nk & Willow Sage Hart', 'Justin Bieber', 'Bilal Wahib', 'Adele', 'Mariah Carey', 'Beste Zangers & Miss Montreal', 'Rolf Sanchez', 'Bruno Mars, Anderson .Paak & Silk Sonic', 'Ed Sheeran', 'Rain Radio & DJ Craig Gorman', 'CKay', 'Django Wagner & Wolter Kroes', 'Arjon Oostrom', 'Stromae', 'Crazy Frog', 'Shouse & David Guetta', 'The Weeknd', 'Eddie Vedder', 'Adele', 'Glass Animals', 'Yade Lauren', 'Vinzzent', 'Tom Grennan', 'Toon Hermans', 'Elephant', 'Hollow Coves', 'Davido & Focalistic', 'Adele', 'Michael Jackson', 'Barbra Streisand', 'Justin Wellington', 'Gerry & The Pacemakers', 'Sia', 'Andra Day', 'Donnie', 'Sjaak', 'Coldplay X BTS', 'André Rieu, Mirusia Louwerse & Johann Strauss Orchestra', 'Bruno Mars, Anderson .Paak & Silk Sonic', 'André Hazes', 'David Bowie', 'Adele', 'Dermot Kennedy', 'Post Malone & The Weeknd', 'Purple Disco Machine', 'Grits', 'Taylor Swift', 'Kool & The Gang', 'Rema', 'The Human League', 'Adele', 'Afrojack, Lucas & Steve & DubVision', 'Rob de Nijs', 'Tom Grennan', 'KAYTRANADA', 'Ofenbach & Ella Henderson', 'Dopebwoy', 'Niall Horan & Anne-Marie', 'ROSALÍA', 'Ewan McVicar', 'Shouse & David Guetta', 'Kevin', 'Bruno Mars, Anderson .Paak & Silk Sonic', 'Nona', 'Gloria Gaynor']\n"
     ]
    }
   ],
   "source": [
    "artist = []\n",
    "num_iter = len(soup.select(\"p > em\"))\n",
    "\n",
    "for i in range(num_iter):\n",
    "    artist.append(soup.select(\"p > em\")[i].get_text())\n",
    "    \n",
    "print(artist)\n",
    "\n",
    "top100_artist = pd.DataFrame({\"artist\":artist})"
   ]
  },
  {
   "cell_type": "code",
   "execution_count": 41,
   "id": "796d0c34",
   "metadata": {},
   "outputs": [
    {
     "data": {
      "text/html": [
       "<div>\n",
       "<style scoped>\n",
       "    .dataframe tbody tr th:only-of-type {\n",
       "        vertical-align: middle;\n",
       "    }\n",
       "\n",
       "    .dataframe tbody tr th {\n",
       "        vertical-align: top;\n",
       "    }\n",
       "\n",
       "    .dataframe thead th {\n",
       "        text-align: right;\n",
       "    }\n",
       "</style>\n",
       "<table border=\"1\" class=\"dataframe\">\n",
       "  <thead>\n",
       "    <tr style=\"text-align: right;\">\n",
       "      <th></th>\n",
       "      <th>artist</th>\n",
       "    </tr>\n",
       "  </thead>\n",
       "  <tbody>\n",
       "    <tr>\n",
       "      <th>0</th>\n",
       "      <td>Elton John &amp; Dua Lipa</td>\n",
       "    </tr>\n",
       "    <tr>\n",
       "      <th>1</th>\n",
       "      <td>Adele</td>\n",
       "    </tr>\n",
       "    <tr>\n",
       "      <th>2</th>\n",
       "      <td>OG3NE</td>\n",
       "    </tr>\n",
       "    <tr>\n",
       "      <th>3</th>\n",
       "      <td>OG3NE</td>\n",
       "    </tr>\n",
       "    <tr>\n",
       "      <th>4</th>\n",
       "      <td>Gino Graus</td>\n",
       "    </tr>\n",
       "  </tbody>\n",
       "</table>\n",
       "</div>"
      ],
      "text/plain": [
       "                  artist\n",
       "0  Elton John & Dua Lipa\n",
       "1                  Adele\n",
       "2                  OG3NE\n",
       "3                  OG3NE\n",
       "4             Gino Graus"
      ]
     },
     "execution_count": 41,
     "metadata": {},
     "output_type": "execute_result"
    }
   ],
   "source": [
    "top100_artist.head()"
   ]
  },
  {
   "cell_type": "code",
   "execution_count": 42,
   "id": "4297db63",
   "metadata": {},
   "outputs": [
    {
     "data": {
      "text/html": [
       "<div>\n",
       "<style scoped>\n",
       "    .dataframe tbody tr th:only-of-type {\n",
       "        vertical-align: middle;\n",
       "    }\n",
       "\n",
       "    .dataframe tbody tr th {\n",
       "        vertical-align: top;\n",
       "    }\n",
       "\n",
       "    .dataframe thead th {\n",
       "        text-align: right;\n",
       "    }\n",
       "</style>\n",
       "<table border=\"1\" class=\"dataframe\">\n",
       "  <thead>\n",
       "    <tr style=\"text-align: right;\">\n",
       "      <th></th>\n",
       "      <th>artist</th>\n",
       "      <th>song</th>\n",
       "    </tr>\n",
       "  </thead>\n",
       "  <tbody>\n",
       "    <tr>\n",
       "      <th>0</th>\n",
       "      <td>Elton John &amp; Dua Lipa</td>\n",
       "      <td>Cold Heart (PNAU Remix)</td>\n",
       "    </tr>\n",
       "    <tr>\n",
       "      <th>1</th>\n",
       "      <td>Adele</td>\n",
       "      <td>Easy On Me</td>\n",
       "    </tr>\n",
       "    <tr>\n",
       "      <th>2</th>\n",
       "      <td>OG3NE</td>\n",
       "      <td>Christmas On My Doorstep</td>\n",
       "    </tr>\n",
       "    <tr>\n",
       "      <th>3</th>\n",
       "      <td>OG3NE</td>\n",
       "      <td>Coming Home With Santa</td>\n",
       "    </tr>\n",
       "    <tr>\n",
       "      <th>4</th>\n",
       "      <td>Gino Graus</td>\n",
       "      <td>Schiddi Widdi Witt</td>\n",
       "    </tr>\n",
       "    <tr>\n",
       "      <th>...</th>\n",
       "      <td>...</td>\n",
       "      <td>...</td>\n",
       "    </tr>\n",
       "    <tr>\n",
       "      <th>95</th>\n",
       "      <td>Shouse &amp; David Guetta</td>\n",
       "      <td>Love Tonight (David Guetta Remix Edit)</td>\n",
       "    </tr>\n",
       "    <tr>\n",
       "      <th>96</th>\n",
       "      <td>Kevin</td>\n",
       "      <td>Samen (feat. Yade Lauren)</td>\n",
       "    </tr>\n",
       "    <tr>\n",
       "      <th>97</th>\n",
       "      <td>Bruno Mars, Anderson .Paak &amp; Silk Sonic</td>\n",
       "      <td>Skate</td>\n",
       "    </tr>\n",
       "    <tr>\n",
       "      <th>98</th>\n",
       "      <td>Nona</td>\n",
       "      <td>Don’t Cry Me A River</td>\n",
       "    </tr>\n",
       "    <tr>\n",
       "      <th>99</th>\n",
       "      <td>Gloria Gaynor</td>\n",
       "      <td>I Will Survive (Single Version)</td>\n",
       "    </tr>\n",
       "  </tbody>\n",
       "</table>\n",
       "<p>100 rows × 2 columns</p>\n",
       "</div>"
      ],
      "text/plain": [
       "                                     artist  \\\n",
       "0                     Elton John & Dua Lipa   \n",
       "1                                     Adele   \n",
       "2                                     OG3NE   \n",
       "3                                     OG3NE   \n",
       "4                                Gino Graus   \n",
       "..                                      ...   \n",
       "95                    Shouse & David Guetta   \n",
       "96                                    Kevin   \n",
       "97  Bruno Mars, Anderson .Paak & Silk Sonic   \n",
       "98                                     Nona   \n",
       "99                            Gloria Gaynor   \n",
       "\n",
       "                                      song  \n",
       "0                  Cold Heart (PNAU Remix)  \n",
       "1                               Easy On Me  \n",
       "2                 Christmas On My Doorstep  \n",
       "3                   Coming Home With Santa  \n",
       "4                       Schiddi Widdi Witt  \n",
       "..                                     ...  \n",
       "95  Love Tonight (David Guetta Remix Edit)  \n",
       "96               Samen (feat. Yade Lauren)  \n",
       "97                                   Skate  \n",
       "98                    Don’t Cry Me A River  \n",
       "99         I Will Survive (Single Version)  \n",
       "\n",
       "[100 rows x 2 columns]"
      ]
     },
     "execution_count": 42,
     "metadata": {},
     "output_type": "execute_result"
    }
   ],
   "source": [
    "top100=pd.concat([top100_artist,top100_song],axis=1)\n",
    "top100"
   ]
  },
  {
   "cell_type": "code",
   "execution_count": null,
   "id": "fe0773f5",
   "metadata": {},
   "outputs": [],
   "source": []
  }
 ],
 "metadata": {
  "kernelspec": {
   "display_name": "Python 3 (ipykernel)",
   "language": "python",
   "name": "python3"
  },
  "language_info": {
   "codemirror_mode": {
    "name": "ipython",
    "version": 3
   },
   "file_extension": ".py",
   "mimetype": "text/x-python",
   "name": "python",
   "nbconvert_exporter": "python",
   "pygments_lexer": "ipython3",
   "version": "3.9.7"
  }
 },
 "nbformat": 4,
 "nbformat_minor": 5
}

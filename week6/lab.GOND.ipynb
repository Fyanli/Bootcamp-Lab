{
 "cells": [
  {
   "cell_type": "code",
   "execution_count": 1,
   "id": "26ef97ef",
   "metadata": {},
   "outputs": [],
   "source": [
    "from bs4 import BeautifulSoup\n",
    "import requests\n",
    "import pandas as pd"
   ]
  },
  {
   "cell_type": "code",
   "execution_count": 2,
   "id": "7391889a",
   "metadata": {},
   "outputs": [],
   "source": [
    "url = 'http://www.popvortex.com/music/netherlands/top-songs.php'"
   ]
  },
  {
   "cell_type": "code",
   "execution_count": 3,
   "id": "77dde424",
   "metadata": {},
   "outputs": [
    {
     "data": {
      "text/plain": [
       "200"
      ]
     },
     "execution_count": 3,
     "metadata": {},
     "output_type": "execute_result"
    }
   ],
   "source": [
    "response = requests.get(url)\n",
    "response.status_code"
   ]
  },
  {
   "cell_type": "code",
   "execution_count": 4,
   "id": "be39957e",
   "metadata": {},
   "outputs": [],
   "source": [
    "soup = BeautifulSoup(response.content, \"html.parser\")"
   ]
  },
  {
   "cell_type": "code",
   "execution_count": 5,
   "id": "6cf51741",
   "metadata": {},
   "outputs": [
    {
     "data": {
      "text/plain": [
       "[<div class=\"chart-content col-xs-12 col-sm-8\"><p class=\"title-artist\"><cite class=\"title\">Neem Er Één Van Mij</cite><em class=\"artist\">Mart Hoogkamer</em></p><ul><li class=\"new-release\"><a href=\"top-new-songs.php\"><em>New Release</em></a></li><li><strong>Genre</strong>: Pop</li><li><strong>Release Date</strong>: 24-11-2021</li></ul><a aria-label=\"Stream Neem Er Één Van Mij - Mart Hoogkamer on Apple Music\" class=\"buy-button button\" href=\"https://music.apple.com/nl/album/neem-er-%C3%A9%C3%A9n-van-mij/1596519845?i=1596520091&amp;uo=2&amp;partnerId=11&amp;at=10l4UI&amp;app=music&amp;ct=music-songs\" rel=\"nofollow noopener\">Listen on Apple Music</a> <a aria-label=\"Buy Neem Er Één Van Mij - Mart Hoogkamer on iTunes\" class=\"buy-button button\" href=\"https://music.apple.com/nl/album/neem-er-%C3%A9%C3%A9n-van-mij/1596519845?i=1596520091&amp;uo=2&amp;partnerId=11&amp;at=10l4UI&amp;app=itunes&amp;ct=music-songs\" rel=\"nofollow noopener\">Buy on iTunes</a> <a aria-label=\"Buy Neem Er Één Van Mij - Mart Hoogkamer on Amazon\" class=\"amazon-buy button\" href=\"https://www.amazon.com/gp/search?ie=UTF8&amp;keywords=Neem+Er+%C3%89%C3%A9n+Van+Mij+Mart+Hoogkamer&amp;tag=popv0f-20&amp;search-alias=digital-music\" rel=\"nofollow noopener\" target=\"_blank\">Buy on Amazon</a> <div class=\"social-share\"><a class=\"facebook-share-button\" href=\"javascript: void(0)\" onclick=\"window.open('https://www.facebook.com/dialog/feed?app_id=178831188827052&amp;display=popup&amp;description=Neem+Er+%C3%89%C3%A9n+Van+Mij+by+Mart+Hoogkamer+is+currently+at+number+1+on+the+iTunes+Netherlands+top+100+songs+chart.&amp;link=http%3A%2F%2Fwww.popvortex.com%2Fmusic%2Fnetherlands%2Ftop-songs.php&amp;redirect_uri=http%3A%2F%2Fwww.popvortex.com%2Fpopup-close.html&amp;picture=https%3A%2F%2Fis4-ssl.mzstatic.com%2Fimage%2Fthumb%2FMusic116%2Fv4%2F0a%2F5f%2F05%2F0a5f0506-cd4d-ee22-230c-8a0e15233270%2FB721002374.jpg%2F170x170bb.png','sharer','toolbar=0,status=0,width=548,height=325');\"><img alt=\"Share on Facebook\" height=\"20\" src=\"../../images/facebook-share.png\" width=\"55\"/></a> <a class=\"pinterest-share-button\" data-pin-config=\"none\" data-pin-do=\"buttonPin\" href=\"//pinterest.com/pin/create/button/?url=http%3A%2F%2Fwww.popvortex.com%2Fmusic%2Fnetherlands%2Ftop-songs.php&amp;media=https%3A%2F%2Fis4-ssl.mzstatic.com%2Fimage%2Fthumb%2FMusic116%2Fv4%2F0a%2F5f%2F05%2F0a5f0506-cd4d-ee22-230c-8a0e15233270%2FB721002374.jpg%2F1200x1200bb.png&amp;description=Neem Er Één Van Mij - Mart Hoogkamer\"><img alt=\"Pinterest Button\" src=\"//assets.pinterest.com/images/pidgets/pin_it_button.png\"/></a> <a class=\"tweet-button\" href=\"https://twitter.com/intent/tweet?text=Neem+Er+%C3%89%C3%A9n+Van+Mij+by+Mart+Hoogkamer+is+%231+on+iTunes+Netherlands+top+100+songs+chart.&amp;hashtags=iTunes&amp;url=http://www.popvortex.com/music/netherlands/top-songs.php\"><span></span>Tweet</a></div></div>]"
      ]
     },
     "execution_count": 5,
     "metadata": {},
     "output_type": "execute_result"
    }
   ],
   "source": [
    "soup.select('#chart-position-1 > div.chart-content.col-xs-12.col-sm-8')"
   ]
  },
  {
   "cell_type": "code",
   "execution_count": 6,
   "id": "c041aaed",
   "metadata": {},
   "outputs": [
    {
     "data": {
      "text/plain": [
       "'Neem Er Één Van Mij'"
      ]
     },
     "execution_count": 6,
     "metadata": {},
     "output_type": "execute_result"
    }
   ],
   "source": [
    "soup.cite.get_text()"
   ]
  },
  {
   "cell_type": "code",
   "execution_count": 7,
   "id": "ac5bef15",
   "metadata": {},
   "outputs": [
    {
     "data": {
      "text/plain": [
       "'Mart Hoogkamer'"
      ]
     },
     "execution_count": 7,
     "metadata": {},
     "output_type": "execute_result"
    }
   ],
   "source": [
    "soup.em.get_text()"
   ]
  },
  {
   "cell_type": "code",
   "execution_count": 8,
   "id": "762fcce6",
   "metadata": {},
   "outputs": [
    {
     "data": {
      "text/plain": [
       "<cite class=\"title\">Neem Er Één Van Mij</cite>"
      ]
     },
     "execution_count": 8,
     "metadata": {},
     "output_type": "execute_result"
    }
   ],
   "source": [
    "soup.select('cite.title')[0]"
   ]
  },
  {
   "cell_type": "code",
   "execution_count": 9,
   "id": "ba05998c",
   "metadata": {},
   "outputs": [
    {
     "data": {
      "text/plain": [
       "'Neem Er Één Van Mij'"
      ]
     },
     "execution_count": 9,
     "metadata": {},
     "output_type": "execute_result"
    }
   ],
   "source": [
    "soup.select('cite.title')[0].get_text()"
   ]
  },
  {
   "cell_type": "code",
   "execution_count": 10,
   "id": "39d61ceb",
   "metadata": {},
   "outputs": [
    {
     "data": {
      "text/plain": [
       "<em class=\"artist\">Mart Hoogkamer</em>"
      ]
     },
     "execution_count": 10,
     "metadata": {},
     "output_type": "execute_result"
    }
   ],
   "source": [
    "soup.select('em.artist')[0]"
   ]
  },
  {
   "cell_type": "code",
   "execution_count": 11,
   "id": "7dbb5bb7",
   "metadata": {},
   "outputs": [
    {
     "name": "stdout",
     "output_type": "stream",
     "text": [
      "['Neem Er Één Van Mij', 'Easy On Me', 'Waterval', 'Do It To It (feat. Cherish)', 'Cold Heart (PNAU Remix)', 'New Tattoo', 'Wishes Come True', 'Dat Heb Jij Gedaan', 'Amsterdam', 'Thunder', \"Non Stop Vol D'r Op\", 'Only You', 'Vluchtstrook', 'Pepas', 'Ons Moeder Zeej Nog', 'Shivers', 'Misschien Huil Ik Niet Hard Genoeg', 'The Motto', 'Baby Lekker Ding', 'Overpass Graffiti', 'Where Are You Now', 'My Universe', 'Hard To Say Goodbye', 'Hold Me', 'Sweet Talker', 'Voor Je Van Me Houdt', 'Nothing Else Matters', 'Una Mattina', 'Always Remember Us This Way', 'Ik Ga Zwemmen', 'Bad Habits', 'Blijven Slapen', 'Schiddi Widdi Witt', 'Bon Gepakt (feat. Rene Froger)', 'Mañana', 'Everybody Needs Somebody To Love', 'Sebastian', 'Alle Remmen Los', 'Everywhere (BBC Children In Need)', 'Visiting Hours', 'Talk About', 'Hold On', 'Wij Gaan Door', 'Santé', 'Sunshine', 'Grind (feat. Chivv & Murda)', 'Instructie', 'Hello Santa', 'Someone Like You', 'Hello', 'All I Want For Christmas Is You', 'Sorry', 'Happy Birthday', \"Do They Know It's Christmas?\", 'Door De Wind', 'Last Christmas (Single Version)', 'Hallelujah', 'Moth To A Flame', 'Better Days', 'I Drink Wine', 'Love Tonight (Edit)', 'Only Time', 'Love Tonight (David Guetta Remix)', 'Hold On', \"Don't Go Yet\", 'Love Is A Game', 'My Universe', 'Love Tonight', 'Impossible (Orchestral Version) [Live at Abbey Road]', 'abcdefu', 'Hurricane', 'Africa (Single Version)', \"Can't Get Over You (feat. Aloe Blacc)\", 'The New Now', 'One Right Now', 'Blijf Je bij Me Slapen', 'Tell Me Something Good', 'Strangers By Nature', 'Tuyo', \"Ieder Afscheid Kent 'N Traan\", 'Talamanca', 'Starman (2002 Remaster)', \"It's Beginning To Look a Lot Like Christmas\", 'Oh My God', 'Pepas (Tiësto Remix)', 'Threw It On the Ground', '3 Soldaten', \"You're Not Alone\", 'Winter Wonderland', 'Mon Ami La Rose', 'Save It For a Rainy Day', 'And I Say to Myself', 'Een Zoon', 'American Tune', 'Steamboat Willie (From Mickey’s Toontown)', 'Franse Auto', 'The Defenders Main Title', \"Love Till It's Over (Hit the Bass Remix) [feat. Helena Paparizou]\", 'Asteroid 4179 - Toutatis', 'Lightning']\n",
      "['Mart Hoogkamer', 'Adele', 'K3', 'Acraze', 'Elton John & Dua Lipa', 'Brian Dunne', 'Duncan Laurence', 'MEAU', 'FLEMMING', 'Gabry Ponte, LUM!X & Prezioso', 'Snollebollekes', 'Rene Le Blanc', 'Kris Kross Amsterdam, Antoon & Sigourney K', 'Farruko', 'Jan Biggel', 'Ed Sheeran', 'Bolland & Bolland', 'Tiësto & Ava Max', 'Jeffrey Heesen', 'Ed Sheeran', 'Lost Frequencies & Calum Scott', 'Coldplay X BTS', 'RONDÉ', 'The Teskey Brothers', 'Years & Years & Galantis', 'Jaap Reesema', 'Metallica', 'Ludovico Einaudi', 'Lady Gaga', 'Mart Hoogkamer', 'Ed Sheeran', 'Snelle & Maan', 'Gino Graus', 'Donnie', 'Evert Van Huygevoort', 'Danny Froger & Wesley Klein', 'Cockney Rebel', 'Helemaal Hollands', 'Niall Horan & Anne-Marie', 'Ed Sheeran', 'Rain Radio & DJ Craig Gorman', 'Adele', 'Django Wagner & Wolter Kroes', 'Stromae', 'OneRepublic', 'Jandro', 'DJ D-Train, Hansie & Kalibwoy', 'Claudia Jung & Patrick Lindner', 'Adele', 'Adele', 'Mariah Carey', 'Kensington', 'Stevie Wonder', 'Band Aid', 'Beste Zangers & Miss Montreal', 'Wham!', 'Jeff Buckley', 'Swedish House Mafia & The Weeknd', 'Dermot Kennedy', 'Adele', 'Shouse', 'Enya', 'Shouse & David Guetta', 'Armin van Buuren & Davina Michelle', 'Camila Cabello', 'Adele', 'Coldplay X BTS', 'Shouse', 'Nothing But Thieves', 'GAYLE', 'Ofenbach & Ella Henderson', 'Toto', 'Gabry Ponte', 'Danny Vera', 'Post Malone & The Weeknd', 'Brian Voet', 'Ewan McVicar', 'Adele', 'Rodrigo Amarante', 'Jannes', 'BURNS', 'David Bowie', 'Michael Bublé', 'Adele', 'Farruko & Tiësto', 'The Lonely Island', 'Hef, Adje & Crooks', 'Norah Jones', 'Norah Jones', 'Jarvis Cocker', 'The Jayhawks', 'David Bowie', 'Herman van Veen', 'Shawn Colvin', 'Lewis Bertram', 'Het Goede Doel', 'John Paesano', 'Housetwins', 'Berliner Philharmoniker & Sir Simon Rattle', 'Helena Paparizou & Levianth']\n"
     ]
    }
   ],
   "source": [
    "title = []\n",
    "artist = []\n",
    "\n",
    "num_iter = len(soup.select('cite.title'))\n",
    "\n",
    "for i in range(num_iter):\n",
    "    title.append(soup.select('cite.title')[i].get_text())\n",
    "    artist.append(soup.select('em.artist')[i].get_text())\n",
    "    \n",
    "print(title)\n",
    "print(artist)\n",
    "\n",
    "# each list becomes a column\n",
    "songs = pd.DataFrame({\"title\":title,\n",
    "                       \"artist\":artist,\n",
    "                      })\n"
   ]
  },
  {
   "cell_type": "code",
   "execution_count": 12,
   "id": "39252610",
   "metadata": {},
   "outputs": [],
   "source": [
    "url = 'http://www.popvortex.com/charts/australia.php'\n",
    "# top 100 songs in Australia"
   ]
  },
  {
   "cell_type": "code",
   "execution_count": 13,
   "id": "97dbf09b",
   "metadata": {},
   "outputs": [
    {
     "data": {
      "text/plain": [
       "200"
      ]
     },
     "execution_count": 13,
     "metadata": {},
     "output_type": "execute_result"
    }
   ],
   "source": [
    "response1 = requests.get(url)\n",
    "response1.status_code"
   ]
  },
  {
   "cell_type": "code",
   "execution_count": 14,
   "id": "77b97882",
   "metadata": {},
   "outputs": [
    {
     "data": {
      "text/plain": [
       "[]"
      ]
     },
     "execution_count": 14,
     "metadata": {},
     "output_type": "execute_result"
    }
   ],
   "source": [
    "spoon = BeautifulSoup(response1.content, \"html.parser\")\n",
    "spoon.select('#chart-position-1 > div.chart-content.col-xs-12.col-sm-8')"
   ]
  },
  {
   "cell_type": "code",
   "execution_count": 15,
   "id": "f56a0136",
   "metadata": {},
   "outputs": [
    {
     "name": "stdout",
     "output_type": "stream",
     "text": [
      "[]\n",
      "[]\n"
     ]
    }
   ],
   "source": [
    "title1 = []\n",
    "artist1 = []\n",
    "\n",
    "num_iter = len(spoon.select('cite.title'))\n",
    "\n",
    "for i in range(num_iter):\n",
    "    title1.append(spoon.select('cite.title')[i].get_text())\n",
    "    artist1.append(spoon.select('em.artist')[i].get_text())\n",
    "    \n",
    "print(title1)\n",
    "print(artist1)\n",
    "\n",
    "# each list becomes a column\n",
    "songs1 = pd.DataFrame({\"title\":title1,\n",
    "                       \"artist\":artist1,\n",
    "                      })"
   ]
  },
  {
   "cell_type": "code",
   "execution_count": 16,
   "id": "0b53bbeb",
   "metadata": {},
   "outputs": [
    {
     "data": {
      "text/html": [
       "<div>\n",
       "<style scoped>\n",
       "    .dataframe tbody tr th:only-of-type {\n",
       "        vertical-align: middle;\n",
       "    }\n",
       "\n",
       "    .dataframe tbody tr th {\n",
       "        vertical-align: top;\n",
       "    }\n",
       "\n",
       "    .dataframe thead th {\n",
       "        text-align: right;\n",
       "    }\n",
       "</style>\n",
       "<table border=\"1\" class=\"dataframe\">\n",
       "  <thead>\n",
       "    <tr style=\"text-align: right;\">\n",
       "      <th></th>\n",
       "      <th>title</th>\n",
       "      <th>artist</th>\n",
       "    </tr>\n",
       "  </thead>\n",
       "  <tbody>\n",
       "  </tbody>\n",
       "</table>\n",
       "</div>"
      ],
      "text/plain": [
       "Empty DataFrame\n",
       "Columns: [title, artist]\n",
       "Index: []"
      ]
     },
     "execution_count": 16,
     "metadata": {},
     "output_type": "execute_result"
    }
   ],
   "source": [
    "songs1.head(5)"
   ]
  },
  {
   "cell_type": "code",
   "execution_count": 17,
   "id": "12e168bf",
   "metadata": {},
   "outputs": [
    {
     "data": {
      "text/html": [
       "<div>\n",
       "<style scoped>\n",
       "    .dataframe tbody tr th:only-of-type {\n",
       "        vertical-align: middle;\n",
       "    }\n",
       "\n",
       "    .dataframe tbody tr th {\n",
       "        vertical-align: top;\n",
       "    }\n",
       "\n",
       "    .dataframe thead th {\n",
       "        text-align: right;\n",
       "    }\n",
       "</style>\n",
       "<table border=\"1\" class=\"dataframe\">\n",
       "  <thead>\n",
       "    <tr style=\"text-align: right;\">\n",
       "      <th></th>\n",
       "      <th>index</th>\n",
       "      <th>title</th>\n",
       "      <th>artist</th>\n",
       "    </tr>\n",
       "  </thead>\n",
       "  <tbody>\n",
       "    <tr>\n",
       "      <th>0</th>\n",
       "      <td>0</td>\n",
       "      <td>Neem Er Één Van Mij</td>\n",
       "      <td>Mart Hoogkamer</td>\n",
       "    </tr>\n",
       "    <tr>\n",
       "      <th>1</th>\n",
       "      <td>1</td>\n",
       "      <td>Easy On Me</td>\n",
       "      <td>Adele</td>\n",
       "    </tr>\n",
       "    <tr>\n",
       "      <th>2</th>\n",
       "      <td>2</td>\n",
       "      <td>Waterval</td>\n",
       "      <td>K3</td>\n",
       "    </tr>\n",
       "    <tr>\n",
       "      <th>3</th>\n",
       "      <td>3</td>\n",
       "      <td>Do It To It (feat. Cherish)</td>\n",
       "      <td>Acraze</td>\n",
       "    </tr>\n",
       "    <tr>\n",
       "      <th>4</th>\n",
       "      <td>4</td>\n",
       "      <td>Cold Heart (PNAU Remix)</td>\n",
       "      <td>Elton John &amp; Dua Lipa</td>\n",
       "    </tr>\n",
       "    <tr>\n",
       "      <th>...</th>\n",
       "      <td>...</td>\n",
       "      <td>...</td>\n",
       "      <td>...</td>\n",
       "    </tr>\n",
       "    <tr>\n",
       "      <th>95</th>\n",
       "      <td>95</td>\n",
       "      <td>Franse Auto</td>\n",
       "      <td>Het Goede Doel</td>\n",
       "    </tr>\n",
       "    <tr>\n",
       "      <th>96</th>\n",
       "      <td>96</td>\n",
       "      <td>The Defenders Main Title</td>\n",
       "      <td>John Paesano</td>\n",
       "    </tr>\n",
       "    <tr>\n",
       "      <th>97</th>\n",
       "      <td>97</td>\n",
       "      <td>Love Till It's Over (Hit the Bass Remix) [feat...</td>\n",
       "      <td>Housetwins</td>\n",
       "    </tr>\n",
       "    <tr>\n",
       "      <th>98</th>\n",
       "      <td>98</td>\n",
       "      <td>Asteroid 4179 - Toutatis</td>\n",
       "      <td>Berliner Philharmoniker &amp; Sir Simon Rattle</td>\n",
       "    </tr>\n",
       "    <tr>\n",
       "      <th>99</th>\n",
       "      <td>99</td>\n",
       "      <td>Lightning</td>\n",
       "      <td>Helena Paparizou &amp; Levianth</td>\n",
       "    </tr>\n",
       "  </tbody>\n",
       "</table>\n",
       "<p>100 rows × 3 columns</p>\n",
       "</div>"
      ],
      "text/plain": [
       "    index                                              title  \\\n",
       "0       0                                Neem Er Één Van Mij   \n",
       "1       1                                         Easy On Me   \n",
       "2       2                                           Waterval   \n",
       "3       3                        Do It To It (feat. Cherish)   \n",
       "4       4                            Cold Heart (PNAU Remix)   \n",
       "..    ...                                                ...   \n",
       "95     95                                        Franse Auto   \n",
       "96     96                           The Defenders Main Title   \n",
       "97     97  Love Till It's Over (Hit the Bass Remix) [feat...   \n",
       "98     98                           Asteroid 4179 - Toutatis   \n",
       "99     99                                          Lightning   \n",
       "\n",
       "                                        artist  \n",
       "0                               Mart Hoogkamer  \n",
       "1                                        Adele  \n",
       "2                                           K3  \n",
       "3                                       Acraze  \n",
       "4                        Elton John & Dua Lipa  \n",
       "..                                         ...  \n",
       "95                              Het Goede Doel  \n",
       "96                                John Paesano  \n",
       "97                                  Housetwins  \n",
       "98  Berliner Philharmoniker & Sir Simon Rattle  \n",
       "99                 Helena Paparizou & Levianth  \n",
       "\n",
       "[100 rows x 3 columns]"
      ]
     },
     "execution_count": 17,
     "metadata": {},
     "output_type": "execute_result"
    }
   ],
   "source": [
    "top_songs = pd.concat([songs, songs1], axis=0).reset_index()\n",
    "top_songs"
   ]
  },
  {
   "cell_type": "code",
   "execution_count": 18,
   "id": "75dcdb4e",
   "metadata": {},
   "outputs": [],
   "source": [
    "top_songs = top_songs.drop(['index'], axis=1)"
   ]
  },
  {
   "cell_type": "code",
   "execution_count": 19,
   "id": "f9d7690c",
   "metadata": {},
   "outputs": [
    {
     "data": {
      "text/html": [
       "<div>\n",
       "<style scoped>\n",
       "    .dataframe tbody tr th:only-of-type {\n",
       "        vertical-align: middle;\n",
       "    }\n",
       "\n",
       "    .dataframe tbody tr th {\n",
       "        vertical-align: top;\n",
       "    }\n",
       "\n",
       "    .dataframe thead th {\n",
       "        text-align: right;\n",
       "    }\n",
       "</style>\n",
       "<table border=\"1\" class=\"dataframe\">\n",
       "  <thead>\n",
       "    <tr style=\"text-align: right;\">\n",
       "      <th></th>\n",
       "      <th>title</th>\n",
       "      <th>artist</th>\n",
       "    </tr>\n",
       "  </thead>\n",
       "  <tbody>\n",
       "    <tr>\n",
       "      <th>0</th>\n",
       "      <td>Neem Er Één Van Mij</td>\n",
       "      <td>Mart Hoogkamer</td>\n",
       "    </tr>\n",
       "    <tr>\n",
       "      <th>1</th>\n",
       "      <td>Easy On Me</td>\n",
       "      <td>Adele</td>\n",
       "    </tr>\n",
       "    <tr>\n",
       "      <th>2</th>\n",
       "      <td>Waterval</td>\n",
       "      <td>K3</td>\n",
       "    </tr>\n",
       "    <tr>\n",
       "      <th>3</th>\n",
       "      <td>Do It To It (feat. Cherish)</td>\n",
       "      <td>Acraze</td>\n",
       "    </tr>\n",
       "    <tr>\n",
       "      <th>4</th>\n",
       "      <td>Cold Heart (PNAU Remix)</td>\n",
       "      <td>Elton John &amp; Dua Lipa</td>\n",
       "    </tr>\n",
       "    <tr>\n",
       "      <th>...</th>\n",
       "      <td>...</td>\n",
       "      <td>...</td>\n",
       "    </tr>\n",
       "    <tr>\n",
       "      <th>95</th>\n",
       "      <td>Franse Auto</td>\n",
       "      <td>Het Goede Doel</td>\n",
       "    </tr>\n",
       "    <tr>\n",
       "      <th>96</th>\n",
       "      <td>The Defenders Main Title</td>\n",
       "      <td>John Paesano</td>\n",
       "    </tr>\n",
       "    <tr>\n",
       "      <th>97</th>\n",
       "      <td>Love Till It's Over (Hit the Bass Remix) [feat...</td>\n",
       "      <td>Housetwins</td>\n",
       "    </tr>\n",
       "    <tr>\n",
       "      <th>98</th>\n",
       "      <td>Asteroid 4179 - Toutatis</td>\n",
       "      <td>Berliner Philharmoniker &amp; Sir Simon Rattle</td>\n",
       "    </tr>\n",
       "    <tr>\n",
       "      <th>99</th>\n",
       "      <td>Lightning</td>\n",
       "      <td>Helena Paparizou &amp; Levianth</td>\n",
       "    </tr>\n",
       "  </tbody>\n",
       "</table>\n",
       "<p>100 rows × 2 columns</p>\n",
       "</div>"
      ],
      "text/plain": [
       "                                                title  \\\n",
       "0                                 Neem Er Één Van Mij   \n",
       "1                                          Easy On Me   \n",
       "2                                            Waterval   \n",
       "3                         Do It To It (feat. Cherish)   \n",
       "4                             Cold Heart (PNAU Remix)   \n",
       "..                                                ...   \n",
       "95                                        Franse Auto   \n",
       "96                           The Defenders Main Title   \n",
       "97  Love Till It's Over (Hit the Bass Remix) [feat...   \n",
       "98                           Asteroid 4179 - Toutatis   \n",
       "99                                          Lightning   \n",
       "\n",
       "                                        artist  \n",
       "0                               Mart Hoogkamer  \n",
       "1                                        Adele  \n",
       "2                                           K3  \n",
       "3                                       Acraze  \n",
       "4                        Elton John & Dua Lipa  \n",
       "..                                         ...  \n",
       "95                              Het Goede Doel  \n",
       "96                                John Paesano  \n",
       "97                                  Housetwins  \n",
       "98  Berliner Philharmoniker & Sir Simon Rattle  \n",
       "99                 Helena Paparizou & Levianth  \n",
       "\n",
       "[100 rows x 2 columns]"
      ]
     },
     "execution_count": 19,
     "metadata": {},
     "output_type": "execute_result"
    }
   ],
   "source": [
    "top_songs"
   ]
  },
  {
   "cell_type": "code",
   "execution_count": 20,
   "id": "4e97f966",
   "metadata": {},
   "outputs": [
    {
     "name": "stdout",
     "output_type": "stream",
     "text": [
      "search songs or artist you are intrested: Adele\n",
      "I would recommend you to listen to: \" Visiting Hours \" by Ed Sheeran\n"
     ]
    }
   ],
   "source": [
    "from random import randint\n",
    "\n",
    "def songs (data=top_songs):\n",
    "    song =  str(input(\"search songs or artist you are intrested: \"))\n",
    "    for i in range(len(top_songs)):\n",
    "        # if it is a song and it's in our list, then recommend another song from the list\n",
    "        if top_songs['title'][i] == song:\n",
    "            rand_number = randint(0,len(top_songs))\n",
    "            return(print(\"I would recommend you to listen to: \\\"\", top_songs['title'][rand_number], \"\\\" by\", top_songs['artist'][rand_number]))\n",
    "        # if it is an artist and it's in our list, then recommend another song from the list\n",
    "        elif top_songs['artist'][i] == song:\n",
    "            rand_number = randint(0,len(top_songs))\n",
    "            return(print(\"I would recommend you to listen to: \\\"\", top_songs['title'][rand_number], \"\\\" by\", top_songs['artist'][rand_number]))\n",
    "    return (\"Not in the list\")\n",
    "songs()"
   ]
  },
  {
   "cell_type": "code",
   "execution_count": 21,
   "id": "378461f3",
   "metadata": {},
   "outputs": [],
   "source": [
    "#import spotipy\n",
    "#from spotipy.oauth2 import SpotifyClientCredentials\n",
    "#Initialize SpotiPy with user credentials\n",
    "#sp = spotipy.Spotify(auth_manager=SpotifyClientCredentials(client_id='<your client id here>',\n",
    "#                                                           client_secret='<your client secret here>'))\n"
   ]
  },
  {
   "cell_type": "code",
   "execution_count": 22,
   "id": "bbc4669a",
   "metadata": {},
   "outputs": [],
   "source": [
    "playlist = sp.user_playlist_tracks(\"spotify\", \"0BUNSGihi2mrhQu3fPcVim\")"
   ]
  },
  {
   "cell_type": "code",
   "execution_count": 23,
   "id": "5e40ac40",
   "metadata": {},
   "outputs": [
    {
     "data": {
      "text/plain": [
       "dict_keys(['href', 'items', 'limit', 'next', 'offset', 'previous', 'total'])"
      ]
     },
     "execution_count": 23,
     "metadata": {},
     "output_type": "execute_result"
    }
   ],
   "source": [
    "playlist.keys()"
   ]
  },
  {
   "cell_type": "code",
   "execution_count": 24,
   "id": "2af14561",
   "metadata": {},
   "outputs": [
    {
     "data": {
      "text/plain": [
       "'Rainbow Connection'"
      ]
     },
     "execution_count": 24,
     "metadata": {},
     "output_type": "execute_result"
    }
   ],
   "source": [
    "playlist[\"items\"][0][\"track\"][\"name\"]"
   ]
  },
  {
   "cell_type": "code",
   "execution_count": 25,
   "id": "aa254b40",
   "metadata": {},
   "outputs": [
    {
     "data": {
      "text/plain": [
       "815"
      ]
     },
     "execution_count": 25,
     "metadata": {},
     "output_type": "execute_result"
    }
   ],
   "source": [
    "playlist['total']"
   ]
  },
  {
   "cell_type": "code",
   "execution_count": 26,
   "id": "095b7be1",
   "metadata": {},
   "outputs": [],
   "source": [
    "from random import randint\n",
    "from time import sleep\n",
    "\n",
    "def get_playlist_tracks(playlist_id):\n",
    "    results = sp.user_playlist_tracks(\"spotify\",playlist_id)\n",
    "    tracks = results['items']\n",
    "    while results['next']!=None:\n",
    "        results = sp.next(results)\n",
    "        tracks = tracks + results['items']\n",
    "        sleep(randint(1,3))\n",
    "    return tracks"
   ]
  },
  {
   "cell_type": "code",
   "execution_count": 28,
   "id": "6c1b41fd",
   "metadata": {},
   "outputs": [
    {
     "data": {
      "text/plain": [
       "815"
      ]
     },
     "execution_count": 28,
     "metadata": {},
     "output_type": "execute_result"
    }
   ],
   "source": [
    "all_tracks = get_playlist_tracks(\"0BUNSGihi2mrhQu3fPcVim\")\n",
    "len(all_tracks)"
   ]
  },
  {
   "cell_type": "code",
   "execution_count": 29,
   "id": "f3559ecc",
   "metadata": {},
   "outputs": [],
   "source": [
    "def uri(all_tracks):\n",
    "    uri=[all_tracks[i]['track']['uri'] for i in range(len(all_tracks))]\n",
    "    return uri\n",
    "all_uri = uri(all_tracks)"
   ]
  },
  {
   "cell_type": "code",
   "execution_count": 30,
   "id": "565077fb",
   "metadata": {},
   "outputs": [],
   "source": [
    "complete_all_uri = pd.DataFrame(all_uri, columns=['uri'])"
   ]
  },
  {
   "cell_type": "code",
   "execution_count": 31,
   "id": "2b228331",
   "metadata": {},
   "outputs": [
    {
     "data": {
      "text/plain": [
       "(815, 1)"
      ]
     },
     "execution_count": 31,
     "metadata": {},
     "output_type": "execute_result"
    }
   ],
   "source": [
    "complete_all_uri.shape"
   ]
  },
  {
   "cell_type": "code",
   "execution_count": 32,
   "id": "4098cf6d",
   "metadata": {},
   "outputs": [],
   "source": [
    "def artists(all_tracks):\n",
    "    uri=[all_tracks[i]['track']['artists'][0]['name'] for i in range(len(all_tracks))]\n",
    "    return artist\n",
    "all_artists = artists(all_tracks)"
   ]
  },
  {
   "cell_type": "code",
   "execution_count": 33,
   "id": "1e13afcf",
   "metadata": {},
   "outputs": [],
   "source": [
    "complete_all_artists= pd.DataFrame(all_artists, columns=['artist'])\n",
    "# complete_all_artists"
   ]
  },
  {
   "cell_type": "code",
   "execution_count": 34,
   "id": "a87d43f9",
   "metadata": {},
   "outputs": [],
   "source": [
    "def track_names(all_tracks):\n",
    "    names=[all_tracks[i]['track']['name'] for i in range(len(all_tracks))]\n",
    "    return names\n",
    "all_track_names = track_names(all_tracks)"
   ]
  },
  {
   "cell_type": "code",
   "execution_count": 35,
   "id": "647627d5",
   "metadata": {},
   "outputs": [],
   "source": [
    "complete_track_names= pd.DataFrame(all_track_names, columns=['album'])"
   ]
  },
  {
   "cell_type": "code",
   "execution_count": 36,
   "id": "b552ff9e",
   "metadata": {},
   "outputs": [],
   "source": [
    "audio_features = [sp.audio_features(i) for i in (all_uri)]"
   ]
  },
  {
   "cell_type": "code",
   "execution_count": 37,
   "id": "4d52478a",
   "metadata": {},
   "outputs": [],
   "source": [
    "def flatten(input_list):\n",
    "    return [item for sublist in input_list for item in sublist]"
   ]
  },
  {
   "cell_type": "code",
   "execution_count": 38,
   "id": "a237adf1",
   "metadata": {},
   "outputs": [],
   "source": [
    "features_new = flatten(audio_features)"
   ]
  },
  {
   "cell_type": "code",
   "execution_count": 39,
   "id": "84834911",
   "metadata": {},
   "outputs": [],
   "source": [
    "danceability = [features_new[i]['danceability'] for i in range(len(features_new))]\n",
    "energy = [features_new[i]['energy'] for i in range(len(features_new))]\n",
    "key = [features_new[i]['key'] for i in range(len(features_new))]\n",
    "loudness = [features_new[i]['loudness'] for i in range(len(features_new))]\n",
    "mode = [features_new[i]['mode'] for i in range(len(features_new))]\n",
    "speechiness = [features_new[i]['speechiness'] for i in range(len(features_new))]\n",
    "acousticness = [features_new[i]['acousticness'] for i in range(len(features_new))]\n",
    "instrumentalness = [features_new[i]['instrumentalness'] for i in range(len(features_new))]\n",
    "liveness = [features_new[i]['liveness'] for i in range(len(features_new))]\n",
    "valence = [features_new[i]['valence'] for i in range(len(features_new))]\n",
    "tempo = [features_new[i]['tempo'] for i in range(len(features_new))]"
   ]
  },
  {
   "cell_type": "code",
   "execution_count": 40,
   "id": "08aad41a",
   "metadata": {},
   "outputs": [],
   "source": [
    "complete_features = pd.DataFrame.from_dict({'danceability':danceability, 'energy':energy, 'key':key, 'loudness':loudness, 'mode':mode, 'speechiness':speechiness, 'acousticness':acousticness, 'instrumentalness':instrumentalness, 'liveness':liveness, 'valence':valence, 'tempo':tempo})\n",
    "# complete_features"
   ]
  },
  {
   "cell_type": "code",
   "execution_count": 41,
   "id": "6e63eed2",
   "metadata": {},
   "outputs": [
    {
     "data": {
      "text/html": [
       "<div>\n",
       "<style scoped>\n",
       "    .dataframe tbody tr th:only-of-type {\n",
       "        vertical-align: middle;\n",
       "    }\n",
       "\n",
       "    .dataframe tbody tr th {\n",
       "        vertical-align: top;\n",
       "    }\n",
       "\n",
       "    .dataframe thead th {\n",
       "        text-align: right;\n",
       "    }\n",
       "</style>\n",
       "<table border=\"1\" class=\"dataframe\">\n",
       "  <thead>\n",
       "    <tr style=\"text-align: right;\">\n",
       "      <th></th>\n",
       "      <th>album</th>\n",
       "      <th>artist</th>\n",
       "      <th>uri</th>\n",
       "      <th>danceability</th>\n",
       "      <th>energy</th>\n",
       "      <th>key</th>\n",
       "      <th>loudness</th>\n",
       "      <th>mode</th>\n",
       "      <th>speechiness</th>\n",
       "      <th>acousticness</th>\n",
       "      <th>instrumentalness</th>\n",
       "      <th>liveness</th>\n",
       "      <th>valence</th>\n",
       "      <th>tempo</th>\n",
       "    </tr>\n",
       "  </thead>\n",
       "  <tbody>\n",
       "    <tr>\n",
       "      <th>0</th>\n",
       "      <td>Rainbow Connection</td>\n",
       "      <td>Mart Hoogkamer</td>\n",
       "      <td>spotify:track:1SJ4ycWow4yz6z4oFz8NAG</td>\n",
       "      <td>0.526</td>\n",
       "      <td>0.413</td>\n",
       "      <td>9</td>\n",
       "      <td>-7.674</td>\n",
       "      <td>1</td>\n",
       "      <td>0.0278</td>\n",
       "      <td>0.42800</td>\n",
       "      <td>0.000000</td>\n",
       "      <td>0.1260</td>\n",
       "      <td>0.211</td>\n",
       "      <td>115.936</td>\n",
       "    </tr>\n",
       "    <tr>\n",
       "      <th>1</th>\n",
       "      <td>Somewhere Over The Rainbow_What A Wonderful World</td>\n",
       "      <td>Adele</td>\n",
       "      <td>spotify:track:25U7raB3ZSszayTYClh4hF</td>\n",
       "      <td>0.663</td>\n",
       "      <td>0.168</td>\n",
       "      <td>0</td>\n",
       "      <td>-13.725</td>\n",
       "      <td>1</td>\n",
       "      <td>0.0448</td>\n",
       "      <td>0.92800</td>\n",
       "      <td>0.000057</td>\n",
       "      <td>0.3610</td>\n",
       "      <td>0.678</td>\n",
       "      <td>85.005</td>\n",
       "    </tr>\n",
       "    <tr>\n",
       "      <th>2</th>\n",
       "      <td>What a Wonderful World</td>\n",
       "      <td>K3</td>\n",
       "      <td>spotify:track:04cdEVbQPb8BJb7593e5fO</td>\n",
       "      <td>0.422</td>\n",
       "      <td>0.878</td>\n",
       "      <td>5</td>\n",
       "      <td>-4.863</td>\n",
       "      <td>1</td>\n",
       "      <td>0.0442</td>\n",
       "      <td>0.00935</td>\n",
       "      <td>0.332000</td>\n",
       "      <td>0.2010</td>\n",
       "      <td>0.496</td>\n",
       "      <td>84.044</td>\n",
       "    </tr>\n",
       "    <tr>\n",
       "      <th>3</th>\n",
       "      <td>One Day / Reckoning Song (Wankelmut Remix) [Ra...</td>\n",
       "      <td>Acraze</td>\n",
       "      <td>spotify:track:5HSkycOEtb9iQ7cg1Oyqmu</td>\n",
       "      <td>0.821</td>\n",
       "      <td>0.676</td>\n",
       "      <td>3</td>\n",
       "      <td>-6.366</td>\n",
       "      <td>0</td>\n",
       "      <td>0.0547</td>\n",
       "      <td>0.18700</td>\n",
       "      <td>0.000100</td>\n",
       "      <td>0.0927</td>\n",
       "      <td>0.559</td>\n",
       "      <td>119.012</td>\n",
       "    </tr>\n",
       "    <tr>\n",
       "      <th>4</th>\n",
       "      <td>What A Wonderful World - Single Version</td>\n",
       "      <td>Elton John &amp; Dua Lipa</td>\n",
       "      <td>spotify:track:2pp3RfqX5cb1BAnmNi4Nej</td>\n",
       "      <td>0.388</td>\n",
       "      <td>0.327</td>\n",
       "      <td>5</td>\n",
       "      <td>-12.522</td>\n",
       "      <td>1</td>\n",
       "      <td>0.0317</td>\n",
       "      <td>0.73200</td>\n",
       "      <td>0.001030</td>\n",
       "      <td>0.1500</td>\n",
       "      <td>0.222</td>\n",
       "      <td>107.894</td>\n",
       "    </tr>\n",
       "    <tr>\n",
       "      <th>...</th>\n",
       "      <td>...</td>\n",
       "      <td>...</td>\n",
       "      <td>...</td>\n",
       "      <td>...</td>\n",
       "      <td>...</td>\n",
       "      <td>...</td>\n",
       "      <td>...</td>\n",
       "      <td>...</td>\n",
       "      <td>...</td>\n",
       "      <td>...</td>\n",
       "      <td>...</td>\n",
       "      <td>...</td>\n",
       "      <td>...</td>\n",
       "      <td>...</td>\n",
       "    </tr>\n",
       "    <tr>\n",
       "      <th>810</th>\n",
       "      <td>The Loophole</td>\n",
       "      <td>NaN</td>\n",
       "      <td>spotify:track:6B89ADIwxCw60PHZN6Kdp4</td>\n",
       "      <td>0.569</td>\n",
       "      <td>0.367</td>\n",
       "      <td>5</td>\n",
       "      <td>-5.178</td>\n",
       "      <td>1</td>\n",
       "      <td>0.0878</td>\n",
       "      <td>0.86200</td>\n",
       "      <td>0.000155</td>\n",
       "      <td>0.3370</td>\n",
       "      <td>0.823</td>\n",
       "      <td>169.768</td>\n",
       "    </tr>\n",
       "    <tr>\n",
       "      <th>811</th>\n",
       "      <td>Major Tom (Coming Home) - Adam K &amp; Soha Radio ...</td>\n",
       "      <td>NaN</td>\n",
       "      <td>spotify:track:7nXXIXFSyDDPlfzCW9bdAa</td>\n",
       "      <td>0.732</td>\n",
       "      <td>0.764</td>\n",
       "      <td>10</td>\n",
       "      <td>-6.503</td>\n",
       "      <td>0</td>\n",
       "      <td>0.0631</td>\n",
       "      <td>0.16200</td>\n",
       "      <td>0.346000</td>\n",
       "      <td>0.3220</td>\n",
       "      <td>0.685</td>\n",
       "      <td>132.019</td>\n",
       "    </tr>\n",
       "    <tr>\n",
       "      <th>812</th>\n",
       "      <td>The Wreck of the Edmund Fitzgerald</td>\n",
       "      <td>NaN</td>\n",
       "      <td>spotify:track:536L9C0N7vhYdibCJx3cI2</td>\n",
       "      <td>0.308</td>\n",
       "      <td>0.376</td>\n",
       "      <td>4</td>\n",
       "      <td>-15.240</td>\n",
       "      <td>1</td>\n",
       "      <td>0.0626</td>\n",
       "      <td>0.11600</td>\n",
       "      <td>0.000003</td>\n",
       "      <td>0.1660</td>\n",
       "      <td>0.158</td>\n",
       "      <td>186.047</td>\n",
       "    </tr>\n",
       "    <tr>\n",
       "      <th>813</th>\n",
       "      <td>Fortune Soul</td>\n",
       "      <td>NaN</td>\n",
       "      <td>spotify:track:2eTjkXxxssJeR3u586CMkI</td>\n",
       "      <td>0.536</td>\n",
       "      <td>0.642</td>\n",
       "      <td>5</td>\n",
       "      <td>-6.479</td>\n",
       "      <td>0</td>\n",
       "      <td>0.0434</td>\n",
       "      <td>0.06400</td>\n",
       "      <td>0.356000</td>\n",
       "      <td>0.1050</td>\n",
       "      <td>0.193</td>\n",
       "      <td>138.914</td>\n",
       "    </tr>\n",
       "    <tr>\n",
       "      <th>814</th>\n",
       "      <td>Deep Breath</td>\n",
       "      <td>NaN</td>\n",
       "      <td>spotify:track:5gTS2Wd3sVesApuhRwmAeP</td>\n",
       "      <td>0.689</td>\n",
       "      <td>0.660</td>\n",
       "      <td>7</td>\n",
       "      <td>-9.097</td>\n",
       "      <td>0</td>\n",
       "      <td>0.0316</td>\n",
       "      <td>0.06100</td>\n",
       "      <td>0.890000</td>\n",
       "      <td>0.2010</td>\n",
       "      <td>0.274</td>\n",
       "      <td>120.003</td>\n",
       "    </tr>\n",
       "  </tbody>\n",
       "</table>\n",
       "<p>815 rows × 14 columns</p>\n",
       "</div>"
      ],
      "text/plain": [
       "                                                 album                 artist  \\\n",
       "0                                   Rainbow Connection         Mart Hoogkamer   \n",
       "1    Somewhere Over The Rainbow_What A Wonderful World                  Adele   \n",
       "2                               What a Wonderful World                     K3   \n",
       "3    One Day / Reckoning Song (Wankelmut Remix) [Ra...                 Acraze   \n",
       "4              What A Wonderful World - Single Version  Elton John & Dua Lipa   \n",
       "..                                                 ...                    ...   \n",
       "810                                       The Loophole                    NaN   \n",
       "811  Major Tom (Coming Home) - Adam K & Soha Radio ...                    NaN   \n",
       "812                 The Wreck of the Edmund Fitzgerald                    NaN   \n",
       "813                                       Fortune Soul                    NaN   \n",
       "814                                        Deep Breath                    NaN   \n",
       "\n",
       "                                      uri  danceability  energy  key  \\\n",
       "0    spotify:track:1SJ4ycWow4yz6z4oFz8NAG         0.526   0.413    9   \n",
       "1    spotify:track:25U7raB3ZSszayTYClh4hF         0.663   0.168    0   \n",
       "2    spotify:track:04cdEVbQPb8BJb7593e5fO         0.422   0.878    5   \n",
       "3    spotify:track:5HSkycOEtb9iQ7cg1Oyqmu         0.821   0.676    3   \n",
       "4    spotify:track:2pp3RfqX5cb1BAnmNi4Nej         0.388   0.327    5   \n",
       "..                                    ...           ...     ...  ...   \n",
       "810  spotify:track:6B89ADIwxCw60PHZN6Kdp4         0.569   0.367    5   \n",
       "811  spotify:track:7nXXIXFSyDDPlfzCW9bdAa         0.732   0.764   10   \n",
       "812  spotify:track:536L9C0N7vhYdibCJx3cI2         0.308   0.376    4   \n",
       "813  spotify:track:2eTjkXxxssJeR3u586CMkI         0.536   0.642    5   \n",
       "814  spotify:track:5gTS2Wd3sVesApuhRwmAeP         0.689   0.660    7   \n",
       "\n",
       "     loudness  mode  speechiness  acousticness  instrumentalness  liveness  \\\n",
       "0      -7.674     1       0.0278       0.42800          0.000000    0.1260   \n",
       "1     -13.725     1       0.0448       0.92800          0.000057    0.3610   \n",
       "2      -4.863     1       0.0442       0.00935          0.332000    0.2010   \n",
       "3      -6.366     0       0.0547       0.18700          0.000100    0.0927   \n",
       "4     -12.522     1       0.0317       0.73200          0.001030    0.1500   \n",
       "..        ...   ...          ...           ...               ...       ...   \n",
       "810    -5.178     1       0.0878       0.86200          0.000155    0.3370   \n",
       "811    -6.503     0       0.0631       0.16200          0.346000    0.3220   \n",
       "812   -15.240     1       0.0626       0.11600          0.000003    0.1660   \n",
       "813    -6.479     0       0.0434       0.06400          0.356000    0.1050   \n",
       "814    -9.097     0       0.0316       0.06100          0.890000    0.2010   \n",
       "\n",
       "     valence    tempo  \n",
       "0      0.211  115.936  \n",
       "1      0.678   85.005  \n",
       "2      0.496   84.044  \n",
       "3      0.559  119.012  \n",
       "4      0.222  107.894  \n",
       "..       ...      ...  \n",
       "810    0.823  169.768  \n",
       "811    0.685  132.019  \n",
       "812    0.158  186.047  \n",
       "813    0.193  138.914  \n",
       "814    0.274  120.003  \n",
       "\n",
       "[815 rows x 14 columns]"
      ]
     },
     "execution_count": 41,
     "metadata": {},
     "output_type": "execute_result"
    }
   ],
   "source": [
    "all_top_songs =pd.concat([complete_track_names,complete_all_artists,complete_all_uri,complete_features], axis=1)\n",
    "all_top_songs"
   ]
  },
  {
   "cell_type": "code",
   "execution_count": 42,
   "id": "036e85e0",
   "metadata": {},
   "outputs": [],
   "source": [
    "import numpy as np\n",
    "import matplotlib.pyplot as plt\n",
    "from sklearn.cluster import KMeans\n",
    "\n",
    "from sklearn import cluster, datasets\n",
    "from sklearn.preprocessing import StandardScaler\n",
    "from matplotlib.lines import Line2D"
   ]
  },
  {
   "cell_type": "code",
   "execution_count": 43,
   "id": "190477b8",
   "metadata": {},
   "outputs": [],
   "source": [
    "cluster=all_top_songs.drop(['artist','album','uri'],axis=1)"
   ]
  },
  {
   "cell_type": "code",
   "execution_count": 44,
   "id": "44bcda0c",
   "metadata": {},
   "outputs": [],
   "source": [
    "scaler=StandardScaler().fit(cluster)\n",
    "X_prep=scaler.transform(cluster)"
   ]
  },
  {
   "cell_type": "code",
   "execution_count": 45,
   "id": "077394a9",
   "metadata": {},
   "outputs": [
    {
     "data": {
      "text/plain": [
       "KMeans(n_clusters=3, random_state=1234)"
      ]
     },
     "execution_count": 45,
     "metadata": {},
     "output_type": "execute_result"
    }
   ],
   "source": [
    "from sklearn.cluster import KMeans\n",
    "\n",
    "kmeans = KMeans(n_clusters=3, random_state=1234)\n",
    "kmeans.fit(X_prep)"
   ]
  },
  {
   "cell_type": "code",
   "execution_count": 46,
   "id": "95ac7175",
   "metadata": {},
   "outputs": [
    {
     "data": {
      "text/plain": [
       "0     42\n",
       "1    488\n",
       "2    285\n",
       "dtype: int64"
      ]
     },
     "execution_count": 46,
     "metadata": {},
     "output_type": "execute_result"
    }
   ],
   "source": [
    "clusters = kmeans.predict(X_prep)\n",
    "\n",
    "# Check the size of the clusters\n",
    "pd.Series(clusters).value_counts().sort_index()"
   ]
  },
  {
   "cell_type": "code",
   "execution_count": 47,
   "id": "402ea680",
   "metadata": {},
   "outputs": [
    {
     "data": {
      "text/plain": [
       "Text(0.5, 1.0, 'Elbow Method showing the optimal k')"
      ]
     },
     "execution_count": 47,
     "metadata": {},
     "output_type": "execute_result"
    },
    {
     "data": {
      "image/png": "[encoded data removed]",
      "text/plain": [
       "<Figure size 1152x576 with 1 Axes>"
      ]
     },
     "metadata": {
      "needs_background": "light"
     },
     "output_type": "display_data"
    }
   ],
   "source": [
    "import numpy as np\n",
    "K = range(2, 20)\n",
    "inertia = []\n",
    "\n",
    "for k in K:\n",
    "    kmeans = KMeans(n_clusters=k,\n",
    "                    random_state=1234)\n",
    "    kmeans.fit(X_prep)\n",
    "    inertia.append(kmeans.inertia_)\n",
    "\n",
    "import matplotlib.pyplot as plt\n",
    "%matplotlib inline\n",
    "\n",
    "plt.figure(figsize=(16,8))\n",
    "plt.plot(K, inertia, 'bx-')\n",
    "plt.xlabel('k')\n",
    "plt.ylabel('inertia')\n",
    "plt.xticks(np.arange(min(K), max(K)+1, 1.0))\n",
    "plt.title('Elbow Method showing the optimal k')"
   ]
  },
  {
   "cell_type": "code",
   "execution_count": 48,
   "id": "dda19cb8",
   "metadata": {},
   "outputs": [
    {
     "data": {
      "text/plain": [
       "Text(0.5, 1.0, 'Elbow Method showing the optimal k')"
      ]
     },
     "execution_count": 48,
     "metadata": {},
     "output_type": "execute_result"
    },
    {
     "data": {
      "image/png": "[encoded data removed]",
      "text/plain": [
       "<Figure size 1152x576 with 1 Axes>"
      ]
     },
     "metadata": {
      "needs_background": "light"
     },
     "output_type": "display_data"
    }
   ],
   "source": [
    "from sklearn.metrics import silhouette_score\n",
    "K = range(2, 20)\n",
    "silhouette = []\n",
    "\n",
    "for k in K:\n",
    "    kmeans = KMeans(n_clusters=k,\n",
    "                    random_state=1234)\n",
    "    kmeans.fit(X_prep)\n",
    "    silhouette.append(silhouette_score(X_prep, kmeans.predict(X_prep)))\n",
    "\n",
    "\n",
    "plt.figure(figsize=(16,8))\n",
    "plt.plot(K, silhouette, 'bx-')\n",
    "plt.xlabel('k')\n",
    "plt.ylabel('silhouette score')\n",
    "plt.xticks(np.arange(min(K), max(K)+1, 1.0))\n",
    "plt.title('Elbow Method showing the optimal k')"
   ]
  },
  {
   "cell_type": "code",
   "execution_count": 49,
   "id": "9e294919",
   "metadata": {},
   "outputs": [
    {
     "data": {
      "text/html": [
       "<div>\n",
       "<style scoped>\n",
       "    .dataframe tbody tr th:only-of-type {\n",
       "        vertical-align: middle;\n",
       "    }\n",
       "\n",
       "    .dataframe tbody tr th {\n",
       "        vertical-align: top;\n",
       "    }\n",
       "\n",
       "    .dataframe thead th {\n",
       "        text-align: right;\n",
       "    }\n",
       "</style>\n",
       "<table border=\"1\" class=\"dataframe\">\n",
       "  <thead>\n",
       "    <tr style=\"text-align: right;\">\n",
       "      <th></th>\n",
       "      <th>title</th>\n",
       "      <th>artist</th>\n",
       "    </tr>\n",
       "  </thead>\n",
       "  <tbody>\n",
       "    <tr>\n",
       "      <th>0</th>\n",
       "      <td>Neem Er Één Van Mij</td>\n",
       "      <td>Mart Hoogkamer</td>\n",
       "    </tr>\n",
       "    <tr>\n",
       "      <th>1</th>\n",
       "      <td>Easy On Me</td>\n",
       "      <td>Adele</td>\n",
       "    </tr>\n",
       "    <tr>\n",
       "      <th>2</th>\n",
       "      <td>Waterval</td>\n",
       "      <td>K3</td>\n",
       "    </tr>\n",
       "    <tr>\n",
       "      <th>3</th>\n",
       "      <td>Do It To It (feat. Cherish)</td>\n",
       "      <td>Acraze</td>\n",
       "    </tr>\n",
       "    <tr>\n",
       "      <th>4</th>\n",
       "      <td>Cold Heart (PNAU Remix)</td>\n",
       "      <td>Elton John &amp; Dua Lipa</td>\n",
       "    </tr>\n",
       "    <tr>\n",
       "      <th>...</th>\n",
       "      <td>...</td>\n",
       "      <td>...</td>\n",
       "    </tr>\n",
       "    <tr>\n",
       "      <th>95</th>\n",
       "      <td>Franse Auto</td>\n",
       "      <td>Het Goede Doel</td>\n",
       "    </tr>\n",
       "    <tr>\n",
       "      <th>96</th>\n",
       "      <td>The Defenders Main Title</td>\n",
       "      <td>John Paesano</td>\n",
       "    </tr>\n",
       "    <tr>\n",
       "      <th>97</th>\n",
       "      <td>Love Till It's Over (Hit the Bass Remix) [feat...</td>\n",
       "      <td>Housetwins</td>\n",
       "    </tr>\n",
       "    <tr>\n",
       "      <th>98</th>\n",
       "      <td>Asteroid 4179 - Toutatis</td>\n",
       "      <td>Berliner Philharmoniker &amp; Sir Simon Rattle</td>\n",
       "    </tr>\n",
       "    <tr>\n",
       "      <th>99</th>\n",
       "      <td>Lightning</td>\n",
       "      <td>Helena Paparizou &amp; Levianth</td>\n",
       "    </tr>\n",
       "  </tbody>\n",
       "</table>\n",
       "<p>100 rows × 2 columns</p>\n",
       "</div>"
      ],
      "text/plain": [
       "                                                title  \\\n",
       "0                                 Neem Er Één Van Mij   \n",
       "1                                          Easy On Me   \n",
       "2                                            Waterval   \n",
       "3                         Do It To It (feat. Cherish)   \n",
       "4                             Cold Heart (PNAU Remix)   \n",
       "..                                                ...   \n",
       "95                                        Franse Auto   \n",
       "96                           The Defenders Main Title   \n",
       "97  Love Till It's Over (Hit the Bass Remix) [feat...   \n",
       "98                           Asteroid 4179 - Toutatis   \n",
       "99                                          Lightning   \n",
       "\n",
       "                                        artist  \n",
       "0                               Mart Hoogkamer  \n",
       "1                                        Adele  \n",
       "2                                           K3  \n",
       "3                                       Acraze  \n",
       "4                        Elton John & Dua Lipa  \n",
       "..                                         ...  \n",
       "95                              Het Goede Doel  \n",
       "96                                John Paesano  \n",
       "97                                  Housetwins  \n",
       "98  Berliner Philharmoniker & Sir Simon Rattle  \n",
       "99                 Helena Paparizou & Levianth  \n",
       "\n",
       "[100 rows x 2 columns]"
      ]
     },
     "execution_count": 49,
     "metadata": {},
     "output_type": "execute_result"
    }
   ],
   "source": [
    "top_songs"
   ]
  },
  {
   "cell_type": "code",
   "execution_count": 50,
   "id": "a0da8b4c",
   "metadata": {},
   "outputs": [],
   "source": [
    "all_top_songs['album'] = all_top_songs['album'].str.lower()\n",
    "all_top_songs = all_top_songs.rename(columns={'album':'song_title',})"
   ]
  },
  {
   "cell_type": "code",
   "execution_count": 51,
   "id": "6d21de21",
   "metadata": {},
   "outputs": [
    {
     "data": {
      "text/html": [
       "<div>\n",
       "<style scoped>\n",
       "    .dataframe tbody tr th:only-of-type {\n",
       "        vertical-align: middle;\n",
       "    }\n",
       "\n",
       "    .dataframe tbody tr th {\n",
       "        vertical-align: top;\n",
       "    }\n",
       "\n",
       "    .dataframe thead th {\n",
       "        text-align: right;\n",
       "    }\n",
       "</style>\n",
       "<table border=\"1\" class=\"dataframe\">\n",
       "  <thead>\n",
       "    <tr style=\"text-align: right;\">\n",
       "      <th></th>\n",
       "      <th>song_title</th>\n",
       "      <th>artist</th>\n",
       "      <th>uri</th>\n",
       "    </tr>\n",
       "  </thead>\n",
       "  <tbody>\n",
       "    <tr>\n",
       "      <th>0</th>\n",
       "      <td>rainbow connection</td>\n",
       "      <td>Mart Hoogkamer</td>\n",
       "      <td>spotify:track:1SJ4ycWow4yz6z4oFz8NAG</td>\n",
       "    </tr>\n",
       "    <tr>\n",
       "      <th>1</th>\n",
       "      <td>somewhere over the rainbow_what a wonderful world</td>\n",
       "      <td>Adele</td>\n",
       "      <td>spotify:track:25U7raB3ZSszayTYClh4hF</td>\n",
       "    </tr>\n",
       "    <tr>\n",
       "      <th>2</th>\n",
       "      <td>what a wonderful world</td>\n",
       "      <td>K3</td>\n",
       "      <td>spotify:track:04cdEVbQPb8BJb7593e5fO</td>\n",
       "    </tr>\n",
       "    <tr>\n",
       "      <th>3</th>\n",
       "      <td>one day / reckoning song (wankelmut remix) [ra...</td>\n",
       "      <td>Acraze</td>\n",
       "      <td>spotify:track:5HSkycOEtb9iQ7cg1Oyqmu</td>\n",
       "    </tr>\n",
       "    <tr>\n",
       "      <th>4</th>\n",
       "      <td>what a wonderful world - single version</td>\n",
       "      <td>Elton John &amp; Dua Lipa</td>\n",
       "      <td>spotify:track:2pp3RfqX5cb1BAnmNi4Nej</td>\n",
       "    </tr>\n",
       "  </tbody>\n",
       "</table>\n",
       "</div>"
      ],
      "text/plain": [
       "                                          song_title                 artist  \\\n",
       "0                                 rainbow connection         Mart Hoogkamer   \n",
       "1  somewhere over the rainbow_what a wonderful world                  Adele   \n",
       "2                             what a wonderful world                     K3   \n",
       "3  one day / reckoning song (wankelmut remix) [ra...                 Acraze   \n",
       "4            what a wonderful world - single version  Elton John & Dua Lipa   \n",
       "\n",
       "                                    uri  \n",
       "0  spotify:track:1SJ4ycWow4yz6z4oFz8NAG  \n",
       "1  spotify:track:25U7raB3ZSszayTYClh4hF  \n",
       "2  spotify:track:04cdEVbQPb8BJb7593e5fO  \n",
       "3  spotify:track:5HSkycOEtb9iQ7cg1Oyqmu  \n",
       "4  spotify:track:2pp3RfqX5cb1BAnmNi4Nej  "
      ]
     },
     "execution_count": 51,
     "metadata": {},
     "output_type": "execute_result"
    }
   ],
   "source": [
    "df_names_only = all_top_songs.drop(['danceability', 'energy', 'key', 'loudness',\n",
    "       'mode', 'speechiness', 'acousticness', 'instrumentalness', 'liveness',\n",
    "       'valence', 'tempo'], axis=1)\n",
    "df_names_only.head()"
   ]
  },
  {
   "cell_type": "code",
   "execution_count": 52,
   "id": "baceb174",
   "metadata": {},
   "outputs": [
    {
     "data": {
      "text/html": [
       "<div>\n",
       "<style scoped>\n",
       "    .dataframe tbody tr th:only-of-type {\n",
       "        vertical-align: middle;\n",
       "    }\n",
       "\n",
       "    .dataframe tbody tr th {\n",
       "        vertical-align: top;\n",
       "    }\n",
       "\n",
       "    .dataframe thead th {\n",
       "        text-align: right;\n",
       "    }\n",
       "</style>\n",
       "<table border=\"1\" class=\"dataframe\">\n",
       "  <thead>\n",
       "    <tr style=\"text-align: right;\">\n",
       "      <th></th>\n",
       "      <th>danceability</th>\n",
       "      <th>energy</th>\n",
       "      <th>key</th>\n",
       "      <th>loudness</th>\n",
       "      <th>mode</th>\n",
       "      <th>speechiness</th>\n",
       "      <th>acousticness</th>\n",
       "      <th>instrumentalness</th>\n",
       "      <th>liveness</th>\n",
       "      <th>valence</th>\n",
       "      <th>tempo</th>\n",
       "    </tr>\n",
       "  </thead>\n",
       "  <tbody>\n",
       "    <tr>\n",
       "      <th>0</th>\n",
       "      <td>0.526</td>\n",
       "      <td>0.413</td>\n",
       "      <td>9</td>\n",
       "      <td>-7.674</td>\n",
       "      <td>1</td>\n",
       "      <td>0.0278</td>\n",
       "      <td>0.42800</td>\n",
       "      <td>0.000000</td>\n",
       "      <td>0.1260</td>\n",
       "      <td>0.211</td>\n",
       "      <td>115.936</td>\n",
       "    </tr>\n",
       "    <tr>\n",
       "      <th>1</th>\n",
       "      <td>0.663</td>\n",
       "      <td>0.168</td>\n",
       "      <td>0</td>\n",
       "      <td>-13.725</td>\n",
       "      <td>1</td>\n",
       "      <td>0.0448</td>\n",
       "      <td>0.92800</td>\n",
       "      <td>0.000057</td>\n",
       "      <td>0.3610</td>\n",
       "      <td>0.678</td>\n",
       "      <td>85.005</td>\n",
       "    </tr>\n",
       "    <tr>\n",
       "      <th>2</th>\n",
       "      <td>0.422</td>\n",
       "      <td>0.878</td>\n",
       "      <td>5</td>\n",
       "      <td>-4.863</td>\n",
       "      <td>1</td>\n",
       "      <td>0.0442</td>\n",
       "      <td>0.00935</td>\n",
       "      <td>0.332000</td>\n",
       "      <td>0.2010</td>\n",
       "      <td>0.496</td>\n",
       "      <td>84.044</td>\n",
       "    </tr>\n",
       "    <tr>\n",
       "      <th>3</th>\n",
       "      <td>0.821</td>\n",
       "      <td>0.676</td>\n",
       "      <td>3</td>\n",
       "      <td>-6.366</td>\n",
       "      <td>0</td>\n",
       "      <td>0.0547</td>\n",
       "      <td>0.18700</td>\n",
       "      <td>0.000100</td>\n",
       "      <td>0.0927</td>\n",
       "      <td>0.559</td>\n",
       "      <td>119.012</td>\n",
       "    </tr>\n",
       "    <tr>\n",
       "      <th>4</th>\n",
       "      <td>0.388</td>\n",
       "      <td>0.327</td>\n",
       "      <td>5</td>\n",
       "      <td>-12.522</td>\n",
       "      <td>1</td>\n",
       "      <td>0.0317</td>\n",
       "      <td>0.73200</td>\n",
       "      <td>0.001030</td>\n",
       "      <td>0.1500</td>\n",
       "      <td>0.222</td>\n",
       "      <td>107.894</td>\n",
       "    </tr>\n",
       "  </tbody>\n",
       "</table>\n",
       "</div>"
      ],
      "text/plain": [
       "   danceability  energy  key  loudness  mode  speechiness  acousticness  \\\n",
       "0         0.526   0.413    9    -7.674     1       0.0278       0.42800   \n",
       "1         0.663   0.168    0   -13.725     1       0.0448       0.92800   \n",
       "2         0.422   0.878    5    -4.863     1       0.0442       0.00935   \n",
       "3         0.821   0.676    3    -6.366     0       0.0547       0.18700   \n",
       "4         0.388   0.327    5   -12.522     1       0.0317       0.73200   \n",
       "\n",
       "   instrumentalness  liveness  valence    tempo  \n",
       "0          0.000000    0.1260    0.211  115.936  \n",
       "1          0.000057    0.3610    0.678   85.005  \n",
       "2          0.332000    0.2010    0.496   84.044  \n",
       "3          0.000100    0.0927    0.559  119.012  \n",
       "4          0.001030    0.1500    0.222  107.894  "
      ]
     },
     "execution_count": 52,
     "metadata": {},
     "output_type": "execute_result"
    }
   ],
   "source": [
    "clust = all_top_songs.drop(['song_title', 'artist','uri'], axis=1)\n",
    "clust.head()"
   ]
  },
  {
   "cell_type": "code",
   "execution_count": 53,
   "id": "a905397f",
   "metadata": {},
   "outputs": [],
   "source": [
    "cluster_df = pd.concat([clust,pd.Series(clusters)],axis=1)\n",
    "cluster_df = cluster_df.rename(columns={0:'cluster'})"
   ]
  },
  {
   "cell_type": "code",
   "execution_count": 54,
   "id": "d10c7225",
   "metadata": {},
   "outputs": [],
   "source": [
    "top_clustering = pd.concat([df_names_only, cluster_df],axis=1) # spotify database\n",
    "# top_songs - hot songs database (100)"
   ]
  },
  {
   "cell_type": "code",
   "execution_count": 55,
   "id": "38681281",
   "metadata": {},
   "outputs": [],
   "source": [
    "top_songs.to_csv(\"top100.csv\", index=False)\n",
    "top_clustering.to_csv('top_clustering.csv', index=False)"
   ]
  },
  {
   "cell_type": "code",
   "execution_count": 56,
   "id": "0884e37b",
   "metadata": {},
   "outputs": [
    {
     "data": {
      "text/html": [
       "<div>\n",
       "<style scoped>\n",
       "    .dataframe tbody tr th:only-of-type {\n",
       "        vertical-align: middle;\n",
       "    }\n",
       "\n",
       "    .dataframe tbody tr th {\n",
       "        vertical-align: top;\n",
       "    }\n",
       "\n",
       "    .dataframe thead th {\n",
       "        text-align: right;\n",
       "    }\n",
       "</style>\n",
       "<table border=\"1\" class=\"dataframe\">\n",
       "  <thead>\n",
       "    <tr style=\"text-align: right;\">\n",
       "      <th></th>\n",
       "      <th>title</th>\n",
       "      <th>artist</th>\n",
       "    </tr>\n",
       "  </thead>\n",
       "  <tbody>\n",
       "    <tr>\n",
       "      <th>0</th>\n",
       "      <td>Neem Er Één Van Mij</td>\n",
       "      <td>Mart Hoogkamer</td>\n",
       "    </tr>\n",
       "    <tr>\n",
       "      <th>1</th>\n",
       "      <td>Easy On Me</td>\n",
       "      <td>Adele</td>\n",
       "    </tr>\n",
       "    <tr>\n",
       "      <th>2</th>\n",
       "      <td>Waterval</td>\n",
       "      <td>K3</td>\n",
       "    </tr>\n",
       "    <tr>\n",
       "      <th>3</th>\n",
       "      <td>Do It To It (feat. Cherish)</td>\n",
       "      <td>Acraze</td>\n",
       "    </tr>\n",
       "    <tr>\n",
       "      <th>4</th>\n",
       "      <td>Cold Heart (PNAU Remix)</td>\n",
       "      <td>Elton John &amp; Dua Lipa</td>\n",
       "    </tr>\n",
       "    <tr>\n",
       "      <th>...</th>\n",
       "      <td>...</td>\n",
       "      <td>...</td>\n",
       "    </tr>\n",
       "    <tr>\n",
       "      <th>95</th>\n",
       "      <td>Franse Auto</td>\n",
       "      <td>Het Goede Doel</td>\n",
       "    </tr>\n",
       "    <tr>\n",
       "      <th>96</th>\n",
       "      <td>The Defenders Main Title</td>\n",
       "      <td>John Paesano</td>\n",
       "    </tr>\n",
       "    <tr>\n",
       "      <th>97</th>\n",
       "      <td>Love Till It's Over (Hit the Bass Remix) [feat...</td>\n",
       "      <td>Housetwins</td>\n",
       "    </tr>\n",
       "    <tr>\n",
       "      <th>98</th>\n",
       "      <td>Asteroid 4179 - Toutatis</td>\n",
       "      <td>Berliner Philharmoniker &amp; Sir Simon Rattle</td>\n",
       "    </tr>\n",
       "    <tr>\n",
       "      <th>99</th>\n",
       "      <td>Lightning</td>\n",
       "      <td>Helena Paparizou &amp; Levianth</td>\n",
       "    </tr>\n",
       "  </tbody>\n",
       "</table>\n",
       "<p>100 rows × 2 columns</p>\n",
       "</div>"
      ],
      "text/plain": [
       "                                                title  \\\n",
       "0                                 Neem Er Één Van Mij   \n",
       "1                                          Easy On Me   \n",
       "2                                            Waterval   \n",
       "3                         Do It To It (feat. Cherish)   \n",
       "4                             Cold Heart (PNAU Remix)   \n",
       "..                                                ...   \n",
       "95                                        Franse Auto   \n",
       "96                           The Defenders Main Title   \n",
       "97  Love Till It's Over (Hit the Bass Remix) [feat...   \n",
       "98                           Asteroid 4179 - Toutatis   \n",
       "99                                          Lightning   \n",
       "\n",
       "                                        artist  \n",
       "0                               Mart Hoogkamer  \n",
       "1                                        Adele  \n",
       "2                                           K3  \n",
       "3                                       Acraze  \n",
       "4                        Elton John & Dua Lipa  \n",
       "..                                         ...  \n",
       "95                              Het Goede Doel  \n",
       "96                                John Paesano  \n",
       "97                                  Housetwins  \n",
       "98  Berliner Philharmoniker & Sir Simon Rattle  \n",
       "99                 Helena Paparizou & Levianth  \n",
       "\n",
       "[100 rows x 2 columns]"
      ]
     },
     "execution_count": 56,
     "metadata": {},
     "output_type": "execute_result"
    }
   ],
   "source": [
    "top_songs=pd.read_csv(\"top100.csv\")\n",
    "top_songs "
   ]
  },
  {
   "cell_type": "code",
   "execution_count": 57,
   "id": "a03ad501",
   "metadata": {},
   "outputs": [
    {
     "data": {
      "text/html": [
       "<div>\n",
       "<style scoped>\n",
       "    .dataframe tbody tr th:only-of-type {\n",
       "        vertical-align: middle;\n",
       "    }\n",
       "\n",
       "    .dataframe tbody tr th {\n",
       "        vertical-align: top;\n",
       "    }\n",
       "\n",
       "    .dataframe thead th {\n",
       "        text-align: right;\n",
       "    }\n",
       "</style>\n",
       "<table border=\"1\" class=\"dataframe\">\n",
       "  <thead>\n",
       "    <tr style=\"text-align: right;\">\n",
       "      <th></th>\n",
       "      <th>song_title</th>\n",
       "      <th>artist</th>\n",
       "      <th>uri</th>\n",
       "      <th>danceability</th>\n",
       "      <th>energy</th>\n",
       "      <th>key</th>\n",
       "      <th>loudness</th>\n",
       "      <th>mode</th>\n",
       "      <th>speechiness</th>\n",
       "      <th>acousticness</th>\n",
       "      <th>instrumentalness</th>\n",
       "      <th>liveness</th>\n",
       "      <th>valence</th>\n",
       "      <th>tempo</th>\n",
       "      <th>cluster</th>\n",
       "    </tr>\n",
       "  </thead>\n",
       "  <tbody>\n",
       "    <tr>\n",
       "      <th>0</th>\n",
       "      <td>rainbow connection</td>\n",
       "      <td>Mart Hoogkamer</td>\n",
       "      <td>spotify:track:1SJ4ycWow4yz6z4oFz8NAG</td>\n",
       "      <td>0.526</td>\n",
       "      <td>0.413</td>\n",
       "      <td>9</td>\n",
       "      <td>-7.674</td>\n",
       "      <td>1</td>\n",
       "      <td>0.0278</td>\n",
       "      <td>0.42800</td>\n",
       "      <td>0.000000</td>\n",
       "      <td>0.1260</td>\n",
       "      <td>0.211</td>\n",
       "      <td>115.936</td>\n",
       "      <td>2</td>\n",
       "    </tr>\n",
       "    <tr>\n",
       "      <th>1</th>\n",
       "      <td>somewhere over the rainbow_what a wonderful world</td>\n",
       "      <td>Adele</td>\n",
       "      <td>spotify:track:25U7raB3ZSszayTYClh4hF</td>\n",
       "      <td>0.663</td>\n",
       "      <td>0.168</td>\n",
       "      <td>0</td>\n",
       "      <td>-13.725</td>\n",
       "      <td>1</td>\n",
       "      <td>0.0448</td>\n",
       "      <td>0.92800</td>\n",
       "      <td>0.000057</td>\n",
       "      <td>0.3610</td>\n",
       "      <td>0.678</td>\n",
       "      <td>85.005</td>\n",
       "      <td>2</td>\n",
       "    </tr>\n",
       "    <tr>\n",
       "      <th>2</th>\n",
       "      <td>what a wonderful world</td>\n",
       "      <td>K3</td>\n",
       "      <td>spotify:track:04cdEVbQPb8BJb7593e5fO</td>\n",
       "      <td>0.422</td>\n",
       "      <td>0.878</td>\n",
       "      <td>5</td>\n",
       "      <td>-4.863</td>\n",
       "      <td>1</td>\n",
       "      <td>0.0442</td>\n",
       "      <td>0.00935</td>\n",
       "      <td>0.332000</td>\n",
       "      <td>0.2010</td>\n",
       "      <td>0.496</td>\n",
       "      <td>84.044</td>\n",
       "      <td>1</td>\n",
       "    </tr>\n",
       "    <tr>\n",
       "      <th>3</th>\n",
       "      <td>one day / reckoning song (wankelmut remix) [ra...</td>\n",
       "      <td>Acraze</td>\n",
       "      <td>spotify:track:5HSkycOEtb9iQ7cg1Oyqmu</td>\n",
       "      <td>0.821</td>\n",
       "      <td>0.676</td>\n",
       "      <td>3</td>\n",
       "      <td>-6.366</td>\n",
       "      <td>0</td>\n",
       "      <td>0.0547</td>\n",
       "      <td>0.18700</td>\n",
       "      <td>0.000100</td>\n",
       "      <td>0.0927</td>\n",
       "      <td>0.559</td>\n",
       "      <td>119.012</td>\n",
       "      <td>1</td>\n",
       "    </tr>\n",
       "    <tr>\n",
       "      <th>4</th>\n",
       "      <td>what a wonderful world - single version</td>\n",
       "      <td>Elton John &amp; Dua Lipa</td>\n",
       "      <td>spotify:track:2pp3RfqX5cb1BAnmNi4Nej</td>\n",
       "      <td>0.388</td>\n",
       "      <td>0.327</td>\n",
       "      <td>5</td>\n",
       "      <td>-12.522</td>\n",
       "      <td>1</td>\n",
       "      <td>0.0317</td>\n",
       "      <td>0.73200</td>\n",
       "      <td>0.001030</td>\n",
       "      <td>0.1500</td>\n",
       "      <td>0.222</td>\n",
       "      <td>107.894</td>\n",
       "      <td>2</td>\n",
       "    </tr>\n",
       "    <tr>\n",
       "      <th>...</th>\n",
       "      <td>...</td>\n",
       "      <td>...</td>\n",
       "      <td>...</td>\n",
       "      <td>...</td>\n",
       "      <td>...</td>\n",
       "      <td>...</td>\n",
       "      <td>...</td>\n",
       "      <td>...</td>\n",
       "      <td>...</td>\n",
       "      <td>...</td>\n",
       "      <td>...</td>\n",
       "      <td>...</td>\n",
       "      <td>...</td>\n",
       "      <td>...</td>\n",
       "      <td>...</td>\n",
       "    </tr>\n",
       "    <tr>\n",
       "      <th>810</th>\n",
       "      <td>the loophole</td>\n",
       "      <td>NaN</td>\n",
       "      <td>spotify:track:6B89ADIwxCw60PHZN6Kdp4</td>\n",
       "      <td>0.569</td>\n",
       "      <td>0.367</td>\n",
       "      <td>5</td>\n",
       "      <td>-5.178</td>\n",
       "      <td>1</td>\n",
       "      <td>0.0878</td>\n",
       "      <td>0.86200</td>\n",
       "      <td>0.000155</td>\n",
       "      <td>0.3370</td>\n",
       "      <td>0.823</td>\n",
       "      <td>169.768</td>\n",
       "      <td>2</td>\n",
       "    </tr>\n",
       "    <tr>\n",
       "      <th>811</th>\n",
       "      <td>major tom (coming home) - adam k &amp; soha radio ...</td>\n",
       "      <td>NaN</td>\n",
       "      <td>spotify:track:7nXXIXFSyDDPlfzCW9bdAa</td>\n",
       "      <td>0.732</td>\n",
       "      <td>0.764</td>\n",
       "      <td>10</td>\n",
       "      <td>-6.503</td>\n",
       "      <td>0</td>\n",
       "      <td>0.0631</td>\n",
       "      <td>0.16200</td>\n",
       "      <td>0.346000</td>\n",
       "      <td>0.3220</td>\n",
       "      <td>0.685</td>\n",
       "      <td>132.019</td>\n",
       "      <td>1</td>\n",
       "    </tr>\n",
       "    <tr>\n",
       "      <th>812</th>\n",
       "      <td>the wreck of the edmund fitzgerald</td>\n",
       "      <td>NaN</td>\n",
       "      <td>spotify:track:536L9C0N7vhYdibCJx3cI2</td>\n",
       "      <td>0.308</td>\n",
       "      <td>0.376</td>\n",
       "      <td>4</td>\n",
       "      <td>-15.240</td>\n",
       "      <td>1</td>\n",
       "      <td>0.0626</td>\n",
       "      <td>0.11600</td>\n",
       "      <td>0.000003</td>\n",
       "      <td>0.1660</td>\n",
       "      <td>0.158</td>\n",
       "      <td>186.047</td>\n",
       "      <td>2</td>\n",
       "    </tr>\n",
       "    <tr>\n",
       "      <th>813</th>\n",
       "      <td>fortune soul</td>\n",
       "      <td>NaN</td>\n",
       "      <td>spotify:track:2eTjkXxxssJeR3u586CMkI</td>\n",
       "      <td>0.536</td>\n",
       "      <td>0.642</td>\n",
       "      <td>5</td>\n",
       "      <td>-6.479</td>\n",
       "      <td>0</td>\n",
       "      <td>0.0434</td>\n",
       "      <td>0.06400</td>\n",
       "      <td>0.356000</td>\n",
       "      <td>0.1050</td>\n",
       "      <td>0.193</td>\n",
       "      <td>138.914</td>\n",
       "      <td>1</td>\n",
       "    </tr>\n",
       "    <tr>\n",
       "      <th>814</th>\n",
       "      <td>deep breath</td>\n",
       "      <td>NaN</td>\n",
       "      <td>spotify:track:5gTS2Wd3sVesApuhRwmAeP</td>\n",
       "      <td>0.689</td>\n",
       "      <td>0.660</td>\n",
       "      <td>7</td>\n",
       "      <td>-9.097</td>\n",
       "      <td>0</td>\n",
       "      <td>0.0316</td>\n",
       "      <td>0.06100</td>\n",
       "      <td>0.890000</td>\n",
       "      <td>0.2010</td>\n",
       "      <td>0.274</td>\n",
       "      <td>120.003</td>\n",
       "      <td>0</td>\n",
       "    </tr>\n",
       "  </tbody>\n",
       "</table>\n",
       "<p>815 rows × 15 columns</p>\n",
       "</div>"
      ],
      "text/plain": [
       "                                            song_title                 artist  \\\n",
       "0                                   rainbow connection         Mart Hoogkamer   \n",
       "1    somewhere over the rainbow_what a wonderful world                  Adele   \n",
       "2                               what a wonderful world                     K3   \n",
       "3    one day / reckoning song (wankelmut remix) [ra...                 Acraze   \n",
       "4              what a wonderful world - single version  Elton John & Dua Lipa   \n",
       "..                                                 ...                    ...   \n",
       "810                                       the loophole                    NaN   \n",
       "811  major tom (coming home) - adam k & soha radio ...                    NaN   \n",
       "812                 the wreck of the edmund fitzgerald                    NaN   \n",
       "813                                       fortune soul                    NaN   \n",
       "814                                        deep breath                    NaN   \n",
       "\n",
       "                                      uri  danceability  energy  key  \\\n",
       "0    spotify:track:1SJ4ycWow4yz6z4oFz8NAG         0.526   0.413    9   \n",
       "1    spotify:track:25U7raB3ZSszayTYClh4hF         0.663   0.168    0   \n",
       "2    spotify:track:04cdEVbQPb8BJb7593e5fO         0.422   0.878    5   \n",
       "3    spotify:track:5HSkycOEtb9iQ7cg1Oyqmu         0.821   0.676    3   \n",
       "4    spotify:track:2pp3RfqX5cb1BAnmNi4Nej         0.388   0.327    5   \n",
       "..                                    ...           ...     ...  ...   \n",
       "810  spotify:track:6B89ADIwxCw60PHZN6Kdp4         0.569   0.367    5   \n",
       "811  spotify:track:7nXXIXFSyDDPlfzCW9bdAa         0.732   0.764   10   \n",
       "812  spotify:track:536L9C0N7vhYdibCJx3cI2         0.308   0.376    4   \n",
       "813  spotify:track:2eTjkXxxssJeR3u586CMkI         0.536   0.642    5   \n",
       "814  spotify:track:5gTS2Wd3sVesApuhRwmAeP         0.689   0.660    7   \n",
       "\n",
       "     loudness  mode  speechiness  acousticness  instrumentalness  liveness  \\\n",
       "0      -7.674     1       0.0278       0.42800          0.000000    0.1260   \n",
       "1     -13.725     1       0.0448       0.92800          0.000057    0.3610   \n",
       "2      -4.863     1       0.0442       0.00935          0.332000    0.2010   \n",
       "3      -6.366     0       0.0547       0.18700          0.000100    0.0927   \n",
       "4     -12.522     1       0.0317       0.73200          0.001030    0.1500   \n",
       "..        ...   ...          ...           ...               ...       ...   \n",
       "810    -5.178     1       0.0878       0.86200          0.000155    0.3370   \n",
       "811    -6.503     0       0.0631       0.16200          0.346000    0.3220   \n",
       "812   -15.240     1       0.0626       0.11600          0.000003    0.1660   \n",
       "813    -6.479     0       0.0434       0.06400          0.356000    0.1050   \n",
       "814    -9.097     0       0.0316       0.06100          0.890000    0.2010   \n",
       "\n",
       "     valence    tempo  cluster  \n",
       "0      0.211  115.936        2  \n",
       "1      0.678   85.005        2  \n",
       "2      0.496   84.044        1  \n",
       "3      0.559  119.012        1  \n",
       "4      0.222  107.894        2  \n",
       "..       ...      ...      ...  \n",
       "810    0.823  169.768        2  \n",
       "811    0.685  132.019        1  \n",
       "812    0.158  186.047        2  \n",
       "813    0.193  138.914        1  \n",
       "814    0.274  120.003        0  \n",
       "\n",
       "[815 rows x 15 columns]"
      ]
     },
     "execution_count": 57,
     "metadata": {},
     "output_type": "execute_result"
    }
   ],
   "source": [
    "spotify_songs=pd.read_csv(\"top_clustering.csv\")\n",
    "spotify_songs"
   ]
  },
  {
   "cell_type": "code",
   "execution_count": null,
   "id": "3ec99e1b",
   "metadata": {},
   "outputs": [],
   "source": [
    "new_song = input(\"Enter a song: \")\n",
    "new_artist = input(\"Enter an artist: \")\n",
    "\n",
    "next = 'y'\n",
    "# take the title and artist and conduct a search on spotify\n",
    "    # searchphrase = new_song + ' - ' + new_artist\n",
    "    if top_songs[(top_songs['title'] == song_title) & (top_songs['artist'] == song_artist)].count()[0] > 0:    \n",
    "    rand_song = top_songs[(top_songs['title'] != song_title) & (top_songs['artist'] != song_artist)].iloc[random.choice(top_songs.index)]\n",
    "    new_song = rand_song[0] + ' - ' + rand_song[1]\n",
    "    print('top song entered, why don\\'t you try this one then:')\n",
    "    print('\\033[1;32m', new_song)\n",
    "    sleep(1)\n",
    "    next = input('Would you like another recommendation? (y/n)')\n",
    "    while next == 'y':\n",
    "        rand_song = hot_songs[(hot_songs['title'] != song_title) & (hot_songs['artist'] != song_artist)].iloc[random.choice(hot_songs.index)]\n",
    "        new_song = rand_song[0] + ' - ' + rand_song[1]\n",
    "        print('\\033[1;32m', new_song)\n",
    "        sleep(1)\n",
    "        next = input('Would you like another recommendation? (y/n)')\n",
    "        \n",
    "else: # Alternatively, we search in spotify\n",
    "    import spotipy\n",
    "    from spotipy.oauth2 import SpotifyClientCredentials\n",
    "\n",
    "    secrets_file = open(\"top_clustering.csv\",\"r\")\n",
    "    string = secrets_file.read()\n",
    "\n",
    "    secrets_dict={}\n",
    "    for line in string.split('\\n'):\n",
    "        if len(line) > 0:\n",
    "            secrets_dict[line.split(':')[0]]=line.split(':')[1]\n",
    "\n",
    "    sp = spotipy.Spotify(auth_manager=SpotifyClientCredentials(client_id=secrets_dict['cid'], client_secret=secrets_dict['csecret']))\n",
    "\n",
    "    # Getting the song's features\n",
    "    search = song_artist +' - '+ song_title\n",
    "    while sp.search(q=search, limit = 1)['tracks']['items'] == []:\n",
    "        print('Song not found, try again')\n",
    "        song_artist = input('Please enter song artist: ')\n",
    "        song_title = input('Please enter song title: ')\n",
    "        search = song_artist +' - '+ song_title\n",
    "\n",
    "    answer = pd.DataFrame([sp.audio_features(sp.search(q=search, limit = 1)['tracks']['items'][0]['uri'])[0]])\n",
    "    answer = answer[['danceability','energy','loudness','speechiness','acousticness','instrumentalness','liveness','valence','tempo','time_signature']]\n",
    "\n",
    "    answer_prep = scaler.transform(answer)\n",
    "    answer_prep_pca = pca.transform(answer_prep)   \n",
    "    \n",
    "    amazing = best_model.predict(answer_prep_pca)[0]\n",
    "\n",
    "    while next == 'y':\n",
    "        recommendation = database.loc[random.choice(list(database[database['cluster'] == amazing].index))]\n",
    "        final_recommendation = recommendation[1] + ' - ' + recommendation[0]\n",
    "        print('This should be fairly similar to your song:')\n",
    "        print('\\033[1;36m', final_recommendation)\n",
    "        sleep(1)\n",
    "        next = input('Would you like another recommendation? (y/n)')\n",
    "        while next == 'y':\n",
    "            recommendation = database.loc[random.choice(list(database[database['cluster'] == amazing].index))]\n",
    "            final_recommendation = recommendation[1] + ' - ' + recommendation[0]\n",
    "            print('\\033[1;36m', final_recommendation)\n",
    "            sleep(1)\n",
    "            next = input('Would you like another recommendation? (y/n)')\n",
    "In [ ]:\n",
    "    # result = sp.search(q=searchphrase, limit = 1)\n",
    "    # get the track attributes\n",
    "    # run the standard scaler on the attribitues\n",
    "    # run your kmeans model on the scaled attributes\n",
    "    # the model gives you a cluster for the new song (0 or 1 or 2)\n",
    "    # choose a random song from spotify_songs where the cluster is 0 or 1 or 2, as above\n",
    "# Read user input\n"
   ]
  },
  {
   "cell_type": "code",
   "execution_count": null,
   "id": "9e5ec488",
   "metadata": {},
   "outputs": [],
   "source": []
  }
 ],
 "metadata": {
  "kernelspec": {
   "display_name": "Python 3 (ipykernel)",
   "language": "python",
   "name": "python3"
  },
  "language_info": {
   "codemirror_mode": {
    "name": "ipython",
    "version": 3
   },
   "file_extension": ".py",
   "mimetype": "text/x-python",
   "name": "python",
   "nbconvert_exporter": "python",
   "pygments_lexer": "ipython3",
   "version": "3.9.7"
  }
 },
 "nbformat": 4,
 "nbformat_minor": 5
}

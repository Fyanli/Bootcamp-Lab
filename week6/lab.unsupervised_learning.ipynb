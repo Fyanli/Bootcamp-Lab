{
 "cells": [
  {
   "cell_type": "code",
   "execution_count": 1,
   "id": "5be3a939",
   "metadata": {},
   "outputs": [],
   "source": [
    "from bs4 import BeautifulSoup\n",
    "import requests\n",
    "import pandas as pd"
   ]
  },
  {
   "cell_type": "code",
   "execution_count": 2,
   "id": "949a47cf",
   "metadata": {},
   "outputs": [],
   "source": [
    "url = 'http://www.popvortex.com/music/netherlands/top-songs.php'"
   ]
  },
  {
   "cell_type": "code",
   "execution_count": 3,
   "id": "8fb36d20",
   "metadata": {},
   "outputs": [
    {
     "data": {
      "text/plain": [
       "200"
      ]
     },
     "execution_count": 3,
     "metadata": {},
     "output_type": "execute_result"
    }
   ],
   "source": [
    "response = requests.get(url)\n",
    "response.status_code"
   ]
  },
  {
   "cell_type": "code",
   "execution_count": 4,
   "id": "898209e3",
   "metadata": {},
   "outputs": [],
   "source": [
    "soup = BeautifulSoup(response.content, \"html.parser\")"
   ]
  },
  {
   "cell_type": "code",
   "execution_count": 5,
   "id": "54993ed6",
   "metadata": {},
   "outputs": [
    {
     "data": {
      "text/plain": [
       "[<div class=\"chart-content col-xs-12 col-sm-8\"><p class=\"title-artist\"><cite class=\"title\">Easy On Me</cite><em class=\"artist\">Adele</em></p><ul><li><strong>Genre</strong>: Pop</li><li><strong>Release Date</strong>: 15-10-2021</li><li class=\"billboard-chart\">Former #1 song on the <cite>Billboard Hot 100</cite> chart.</li></ul><a aria-label=\"Stream Easy On Me - Adele on Apple Music\" class=\"buy-button button\" href=\"https://music.apple.com/nl/album/easy-on-me/1590035691?i=1590036021&amp;uo=2&amp;partnerId=11&amp;at=10l4UI&amp;app=music&amp;ct=music-songs\" rel=\"nofollow noopener\">Listen on Apple Music</a> <a aria-label=\"Buy Easy On Me - Adele on iTunes\" class=\"buy-button button\" href=\"https://music.apple.com/nl/album/easy-on-me/1590035691?i=1590036021&amp;uo=2&amp;partnerId=11&amp;at=10l4UI&amp;app=itunes&amp;ct=music-songs\" rel=\"nofollow noopener\">Buy on iTunes</a> <a aria-label=\"Buy Easy On Me - Adele on Amazon\" class=\"amazon-buy button\" href=\"https://www.amazon.com/gp/search?ie=UTF8&amp;keywords=Easy+On+Me+Adele&amp;tag=popv0f-20&amp;search-alias=digital-music\" rel=\"nofollow noopener\" target=\"_blank\">Buy on Amazon</a> <div class=\"social-share\"><a class=\"facebook-share-button\" href=\"javascript: void(0)\" onclick=\"window.open('https://www.facebook.com/dialog/feed?app_id=178831188827052&amp;display=popup&amp;description=Easy+On+Me+by+Adele+is+currently+at+number+1+on+the+iTunes+Netherlands+top+100+songs+chart.&amp;link=http%3A%2F%2Fwww.popvortex.com%2Fmusic%2Fnetherlands%2Ftop-songs.php&amp;redirect_uri=http%3A%2F%2Fwww.popvortex.com%2Fpopup-close.html&amp;picture=https%3A%2F%2Fis5-ssl.mzstatic.com%2Fimage%2Fthumb%2FMusic115%2Fv4%2F73%2F6d%2F7c%2F736d7cfb-c79d-c9a9-4170-5e71d008dea1%2F886449666430.jpg%2F170x170bb.png','sharer','toolbar=0,status=0,width=548,height=325');\"><img alt=\"Share on Facebook\" height=\"20\" src=\"../../images/facebook-share.png\" width=\"55\"/></a> <a class=\"pinterest-share-button\" data-pin-config=\"none\" data-pin-do=\"buttonPin\" href=\"//pinterest.com/pin/create/button/?url=http%3A%2F%2Fwww.popvortex.com%2Fmusic%2Fnetherlands%2Ftop-songs.php&amp;media=https%3A%2F%2Fis5-ssl.mzstatic.com%2Fimage%2Fthumb%2FMusic115%2Fv4%2F73%2F6d%2F7c%2F736d7cfb-c79d-c9a9-4170-5e71d008dea1%2F886449666430.jpg%2F1200x1200bb.png&amp;description=Easy On Me - Adele\"><img alt=\"Pinterest Button\" src=\"//assets.pinterest.com/images/pidgets/pin_it_button.png\"/></a> <a class=\"tweet-button\" href=\"https://twitter.com/intent/tweet?text=Easy+On+Me+by+Adele+is+%231+on+iTunes+Netherlands+top+100+songs+chart.&amp;hashtags=iTunes&amp;url=http://www.popvortex.com/music/netherlands/top-songs.php\"><span></span>Tweet</a></div></div>]"
      ]
     },
     "execution_count": 5,
     "metadata": {},
     "output_type": "execute_result"
    }
   ],
   "source": [
    "soup.select('#chart-position-1 > div.chart-content.col-xs-12.col-sm-8')"
   ]
  },
  {
   "cell_type": "code",
   "execution_count": 6,
   "id": "64887e42",
   "metadata": {},
   "outputs": [
    {
     "data": {
      "text/plain": [
       "'Easy On Me'"
      ]
     },
     "execution_count": 6,
     "metadata": {},
     "output_type": "execute_result"
    }
   ],
   "source": [
    "soup.cite.get_text()"
   ]
  },
  {
   "cell_type": "code",
   "execution_count": 7,
   "id": "34d74d2d",
   "metadata": {},
   "outputs": [
    {
     "data": {
      "text/plain": [
       "'Adele'"
      ]
     },
     "execution_count": 7,
     "metadata": {},
     "output_type": "execute_result"
    }
   ],
   "source": [
    "soup.em.get_text()"
   ]
  },
  {
   "cell_type": "code",
   "execution_count": 8,
   "id": "ac933dde",
   "metadata": {},
   "outputs": [
    {
     "data": {
      "text/plain": [
       "<cite class=\"title\">Easy On Me</cite>"
      ]
     },
     "execution_count": 8,
     "metadata": {},
     "output_type": "execute_result"
    }
   ],
   "source": [
    "soup.select('cite.title')[0]"
   ]
  },
  {
   "cell_type": "code",
   "execution_count": 9,
   "id": "3609c469",
   "metadata": {},
   "outputs": [
    {
     "data": {
      "text/plain": [
       "'Easy On Me'"
      ]
     },
     "execution_count": 9,
     "metadata": {},
     "output_type": "execute_result"
    }
   ],
   "source": [
    "soup.select('cite.title')[0].get_text()"
   ]
  },
  {
   "cell_type": "code",
   "execution_count": 10,
   "id": "0892e555",
   "metadata": {},
   "outputs": [
    {
     "data": {
      "text/plain": [
       "<em class=\"artist\">Adele</em>"
      ]
     },
     "execution_count": 10,
     "metadata": {},
     "output_type": "execute_result"
    }
   ],
   "source": [
    "soup.select('em.artist')[0]"
   ]
  },
  {
   "cell_type": "code",
   "execution_count": 11,
   "id": "5bb772a1",
   "metadata": {},
   "outputs": [
    {
     "name": "stdout",
     "output_type": "stream",
     "text": [
      "['Easy On Me', 'Neem Er Één Van Mij', 'Do It To It (feat. Cherish)', 'Dat Heb Jij Gedaan', 'Cold Heart (PNAU Remix)', 'Better Days', 'Moth To A Flame', 'Hold On', 'The Motto', 'I Drink Wine', 'Hold Me', 'Ons Moeder Zeej Nog', 'Schiddi Widdi Witt', 'Thunder', 'Hard To Say Goodbye', 'Love Is A Game', 'Three Little Birds', 'Pepas', 'Misschien Huil Ik Niet Hard Genoeg', 'Mañana', 'Baby Lekker Ding', 'Everybody Needs Somebody To Love', 'To Be Loved', 'Overpass Graffiti', 'Alle Remmen Los', 'Only You', 'Dopamine (feat. Eyelar)', 'Can I Get It', 'In De Nacht', 'Skyfall', 'Rolling In the Deep', 'Hello', 'Nothing Else Matters', 'Bohemian Rhapsody', 'Pastorale', 'Happy Birthday', 'Santa Tell Me', 'Tears In Heaven', 'Stairway to Heaven', 'Watermelon Sugar', 'Born Slippy (Nuxx)', \"Non Stop Vol D'r Op\", 'Cold Little Heart', 'Leave The Door Open', 'Shivers', \"Theme from Harry's Game\", 'Amsterdam', \"Tot Over M'n Oren\", 'Where Are You Now', 'Talk About', 'Ja Wie Niet Springt (Die Moet Betalen)', 'My Universe', 'Adore You', 'Coming Home With Santa', 'Everywhere (BBC Children In Need)', \"It's Beginning to Look a Lot like Christmas\", 'My Heart Goes (La Di Da)', 'STAR', 'Happier Than Ever', \"I'll Never Love Again (Film Version)\", 'Ablaze', 'Shivers (feat. Jessi & SUNMI)', 'Vivo', 'Carol of the Bells', 'So Much To Say', 'To the Moon', 'Jungle Teknah', 'Coraline (feat. Mick Jenkins)', 'On Your Side', 'Void', 'More Intense', 'Would I Be Me', 'Thanatos (Extended Mix)', 'Drama (Isabella Lovestory and Chicken\\xa0Remix)', 'N.L.M.B', 'Boys Will Be Boys', 'How Do You Love (with Lee Brice & Lindsay Ell)', 'Underwater (Extended Mix)', 'Last Before Lights', 'Believe (feat. KdotMelody) [Bruise Remix]', 'Beating', 'Abc Song (English Version)', 'Free (Live Your Life) [Ibitaly & Gregor Salto Remix 2020] [Radio Edit]', 'Falling In Love (feat. P Nut)', 'Battle Hymn', 'Pray', \"Schindler's List Main Theme\", 'Find Me A Lonely Cave', 'Nunca Se Sabe Corazón', 'Cobblestone Village', \"Frederic's Dream (Frederic's Dream of Blues)\", 'Cueca Punteada', 'Tinja Lumin', 'Mirjam', 'Que Rico el Mambo', 'We Love You Beatles', 'I Follow Rivers (Live @ Giel! - Vara/3fm)', 'Wake Me Up', 'Dat Ik Je Mis', 'Happiness']\n",
      "['Adele', 'Mart Hoogkamer', 'Acraze', 'MEAU', 'Elton John & Dua Lipa', 'Dermot Kennedy', 'Swedish House Mafia & The Weeknd', 'Adele', 'Tiësto & Ava Max', 'Adele', 'The Teskey Brothers', 'Jan Biggel', 'Gino Graus', 'Gabry Ponte, LUM!X & Prezioso', 'RONDÉ', 'Adele', 'Bob Marley & The Wailers', 'Farruko', 'Bolland & Bolland', 'Evert Van Huygevoort', 'Jeffrey Heesen', 'Danny Froger & Wesley Klein', 'Adele', 'Ed Sheeran', 'Helemaal Hollands', 'Rene Le Blanc', 'Purple Disco Machine', 'Adele', 'Yade Lauren', 'Adele', 'Adele', 'Adele', 'Metallica', 'Queen', 'Liesbeth List & Ramses Shaffy', 'Stevie Wonder', 'Ariana Grande', 'Eric Clapton', 'Led Zeppelin', 'Harry Styles', 'Underworld', 'Snollebollekes', 'Michael Kiwanuka', 'Bruno Mars, Anderson .Paak & Silk Sonic', 'Ed Sheeran', 'Clannad', 'FLEMMING', 'Bob Offenberg', 'Lost Frequencies & Calum Scott', 'Rain Radio & DJ Craig Gorman', 'Gebroeders Ko', 'Coldplay X BTS', 'Harry Styles', 'OG3NE', 'Niall Horan & Anne-Marie', 'Michael Bublé', 'Becky Hill & Topic', 'ONEWE', 'ASTN', 'Lady Gaga & Bradley Cooper', 'Alanis Morissette', 'Ed Sheeran', 'Andrea Laszlo De Simone', 'August Burns Red', 'Aaron Carter', 'Betoko', 'SHERELLE', 'Ben Beal, Elijah Who & REASON', 'Marco Mattei', 'Marco Mattei', 'Marco Mattei', 'Marco Mattei', 'Milad E & David Deere', 'Erika de Casier, Chicken & Isabella Lovestory', 'Rx Papi & Gud', 'CASISDEAD', 'Cheat Codes, Lee Brice & Lindsay Ell', 'LTN, Maratone & AXYL', 'Anz', 'PRVNA', 'Tirzah', 'Learning Kids Crew', 'Ultra Naté', 'System Olympia', 'Alibi Music', 'Quake & OR', '2CELLOS', 'Catherine Bott & Mark Levy', 'Alex Rodriguez', 'Brandon Fiechter', 'Luca Sestak', 'Angel Parra', 'Tomislav Bralić', 'Németh József & Fáy együttes', 'Xavier Cugat and His Orchestra', 'Strawberry Walrus', 'Triggerfinger', 'Avicii', 'Maaike Ouboter', 'Alexis Jordan']\n"
     ]
    }
   ],
   "source": [
    "title = []\n",
    "artist = []\n",
    "\n",
    "num_iter = len(soup.select('cite.title'))\n",
    "\n",
    "for i in range(num_iter):\n",
    "    title.append(soup.select('cite.title')[i].get_text())\n",
    "    artist.append(soup.select('em.artist')[i].get_text())\n",
    "    \n",
    "print(title)\n",
    "print(artist)\n",
    "\n",
    "# each list becomes a column\n",
    "songs = pd.DataFrame({\"title\":title,\n",
    "                       \"artist\":artist,\n",
    "                      })\n"
   ]
  },
  {
   "cell_type": "code",
   "execution_count": 12,
   "id": "7ee8d7b3",
   "metadata": {},
   "outputs": [],
   "source": [
    "url = 'http://www.popvortex.com/charts/australia.php'\n",
    "# top 100 songs in Australia"
   ]
  },
  {
   "cell_type": "code",
   "execution_count": 13,
   "id": "aec33833",
   "metadata": {},
   "outputs": [
    {
     "data": {
      "text/plain": [
       "200"
      ]
     },
     "execution_count": 13,
     "metadata": {},
     "output_type": "execute_result"
    }
   ],
   "source": [
    "response1 = requests.get(url)\n",
    "response1.status_code"
   ]
  },
  {
   "cell_type": "code",
   "execution_count": 14,
   "id": "08e7680b",
   "metadata": {},
   "outputs": [
    {
     "data": {
      "text/plain": [
       "[]"
      ]
     },
     "execution_count": 14,
     "metadata": {},
     "output_type": "execute_result"
    }
   ],
   "source": [
    "spoon = BeautifulSoup(response1.content, \"html.parser\")\n",
    "spoon.select('#chart-position-1 > div.chart-content.col-xs-12.col-sm-8')"
   ]
  },
  {
   "cell_type": "code",
   "execution_count": 15,
   "id": "5eae47fc",
   "metadata": {},
   "outputs": [
    {
     "name": "stdout",
     "output_type": "stream",
     "text": [
      "[]\n",
      "[]\n"
     ]
    }
   ],
   "source": [
    "title1 = []\n",
    "artist1 = []\n",
    "\n",
    "num_iter = len(spoon.select('cite.title'))\n",
    "\n",
    "for i in range(num_iter):\n",
    "    title1.append(spoon.select('cite.title')[i].get_text())\n",
    "    artist1.append(spoon.select('em.artist')[i].get_text())\n",
    "    \n",
    "print(title1)\n",
    "print(artist1)\n",
    "\n",
    "# each list becomes a column\n",
    "songs1 = pd.DataFrame({\"title\":title1,\n",
    "                       \"artist\":artist1,\n",
    "                      })"
   ]
  },
  {
   "cell_type": "code",
   "execution_count": 16,
   "id": "21f86ad8",
   "metadata": {},
   "outputs": [
    {
     "data": {
      "text/html": [
       "<div>\n",
       "<style scoped>\n",
       "    .dataframe tbody tr th:only-of-type {\n",
       "        vertical-align: middle;\n",
       "    }\n",
       "\n",
       "    .dataframe tbody tr th {\n",
       "        vertical-align: top;\n",
       "    }\n",
       "\n",
       "    .dataframe thead th {\n",
       "        text-align: right;\n",
       "    }\n",
       "</style>\n",
       "<table border=\"1\" class=\"dataframe\">\n",
       "  <thead>\n",
       "    <tr style=\"text-align: right;\">\n",
       "      <th></th>\n",
       "      <th>title</th>\n",
       "      <th>artist</th>\n",
       "    </tr>\n",
       "  </thead>\n",
       "  <tbody>\n",
       "  </tbody>\n",
       "</table>\n",
       "</div>"
      ],
      "text/plain": [
       "Empty DataFrame\n",
       "Columns: [title, artist]\n",
       "Index: []"
      ]
     },
     "execution_count": 16,
     "metadata": {},
     "output_type": "execute_result"
    }
   ],
   "source": [
    "songs1.head(5)"
   ]
  },
  {
   "cell_type": "code",
   "execution_count": 17,
   "id": "109eb368",
   "metadata": {},
   "outputs": [
    {
     "data": {
      "text/html": [
       "<div>\n",
       "<style scoped>\n",
       "    .dataframe tbody tr th:only-of-type {\n",
       "        vertical-align: middle;\n",
       "    }\n",
       "\n",
       "    .dataframe tbody tr th {\n",
       "        vertical-align: top;\n",
       "    }\n",
       "\n",
       "    .dataframe thead th {\n",
       "        text-align: right;\n",
       "    }\n",
       "</style>\n",
       "<table border=\"1\" class=\"dataframe\">\n",
       "  <thead>\n",
       "    <tr style=\"text-align: right;\">\n",
       "      <th></th>\n",
       "      <th>index</th>\n",
       "      <th>title</th>\n",
       "      <th>artist</th>\n",
       "    </tr>\n",
       "  </thead>\n",
       "  <tbody>\n",
       "    <tr>\n",
       "      <th>0</th>\n",
       "      <td>0</td>\n",
       "      <td>Easy On Me</td>\n",
       "      <td>Adele</td>\n",
       "    </tr>\n",
       "    <tr>\n",
       "      <th>1</th>\n",
       "      <td>1</td>\n",
       "      <td>Neem Er Één Van Mij</td>\n",
       "      <td>Mart Hoogkamer</td>\n",
       "    </tr>\n",
       "    <tr>\n",
       "      <th>2</th>\n",
       "      <td>2</td>\n",
       "      <td>Do It To It (feat. Cherish)</td>\n",
       "      <td>Acraze</td>\n",
       "    </tr>\n",
       "    <tr>\n",
       "      <th>3</th>\n",
       "      <td>3</td>\n",
       "      <td>Dat Heb Jij Gedaan</td>\n",
       "      <td>MEAU</td>\n",
       "    </tr>\n",
       "    <tr>\n",
       "      <th>4</th>\n",
       "      <td>4</td>\n",
       "      <td>Cold Heart (PNAU Remix)</td>\n",
       "      <td>Elton John &amp; Dua Lipa</td>\n",
       "    </tr>\n",
       "    <tr>\n",
       "      <th>...</th>\n",
       "      <td>...</td>\n",
       "      <td>...</td>\n",
       "      <td>...</td>\n",
       "    </tr>\n",
       "    <tr>\n",
       "      <th>95</th>\n",
       "      <td>95</td>\n",
       "      <td>We Love You Beatles</td>\n",
       "      <td>Strawberry Walrus</td>\n",
       "    </tr>\n",
       "    <tr>\n",
       "      <th>96</th>\n",
       "      <td>96</td>\n",
       "      <td>I Follow Rivers (Live @ Giel! - Vara/3fm)</td>\n",
       "      <td>Triggerfinger</td>\n",
       "    </tr>\n",
       "    <tr>\n",
       "      <th>97</th>\n",
       "      <td>97</td>\n",
       "      <td>Wake Me Up</td>\n",
       "      <td>Avicii</td>\n",
       "    </tr>\n",
       "    <tr>\n",
       "      <th>98</th>\n",
       "      <td>98</td>\n",
       "      <td>Dat Ik Je Mis</td>\n",
       "      <td>Maaike Ouboter</td>\n",
       "    </tr>\n",
       "    <tr>\n",
       "      <th>99</th>\n",
       "      <td>99</td>\n",
       "      <td>Happiness</td>\n",
       "      <td>Alexis Jordan</td>\n",
       "    </tr>\n",
       "  </tbody>\n",
       "</table>\n",
       "<p>100 rows × 3 columns</p>\n",
       "</div>"
      ],
      "text/plain": [
       "    index                                      title                 artist\n",
       "0       0                                 Easy On Me                  Adele\n",
       "1       1                        Neem Er Één Van Mij         Mart Hoogkamer\n",
       "2       2                Do It To It (feat. Cherish)                 Acraze\n",
       "3       3                         Dat Heb Jij Gedaan                   MEAU\n",
       "4       4                    Cold Heart (PNAU Remix)  Elton John & Dua Lipa\n",
       "..    ...                                        ...                    ...\n",
       "95     95                        We Love You Beatles      Strawberry Walrus\n",
       "96     96  I Follow Rivers (Live @ Giel! - Vara/3fm)          Triggerfinger\n",
       "97     97                                 Wake Me Up                 Avicii\n",
       "98     98                              Dat Ik Je Mis         Maaike Ouboter\n",
       "99     99                                  Happiness          Alexis Jordan\n",
       "\n",
       "[100 rows x 3 columns]"
      ]
     },
     "execution_count": 17,
     "metadata": {},
     "output_type": "execute_result"
    }
   ],
   "source": [
    "top_songs = pd.concat([songs, songs1], axis=0).reset_index()\n",
    "top_songs"
   ]
  },
  {
   "cell_type": "code",
   "execution_count": 18,
   "id": "522d4b85",
   "metadata": {},
   "outputs": [],
   "source": [
    "top_songs = top_songs.drop(['index'], axis=1)"
   ]
  },
  {
   "cell_type": "code",
   "execution_count": 19,
   "id": "f433dc94",
   "metadata": {},
   "outputs": [
    {
     "data": {
      "text/html": [
       "<div>\n",
       "<style scoped>\n",
       "    .dataframe tbody tr th:only-of-type {\n",
       "        vertical-align: middle;\n",
       "    }\n",
       "\n",
       "    .dataframe tbody tr th {\n",
       "        vertical-align: top;\n",
       "    }\n",
       "\n",
       "    .dataframe thead th {\n",
       "        text-align: right;\n",
       "    }\n",
       "</style>\n",
       "<table border=\"1\" class=\"dataframe\">\n",
       "  <thead>\n",
       "    <tr style=\"text-align: right;\">\n",
       "      <th></th>\n",
       "      <th>title</th>\n",
       "      <th>artist</th>\n",
       "    </tr>\n",
       "  </thead>\n",
       "  <tbody>\n",
       "    <tr>\n",
       "      <th>0</th>\n",
       "      <td>Easy On Me</td>\n",
       "      <td>Adele</td>\n",
       "    </tr>\n",
       "    <tr>\n",
       "      <th>1</th>\n",
       "      <td>Neem Er Één Van Mij</td>\n",
       "      <td>Mart Hoogkamer</td>\n",
       "    </tr>\n",
       "    <tr>\n",
       "      <th>2</th>\n",
       "      <td>Do It To It (feat. Cherish)</td>\n",
       "      <td>Acraze</td>\n",
       "    </tr>\n",
       "    <tr>\n",
       "      <th>3</th>\n",
       "      <td>Dat Heb Jij Gedaan</td>\n",
       "      <td>MEAU</td>\n",
       "    </tr>\n",
       "    <tr>\n",
       "      <th>4</th>\n",
       "      <td>Cold Heart (PNAU Remix)</td>\n",
       "      <td>Elton John &amp; Dua Lipa</td>\n",
       "    </tr>\n",
       "    <tr>\n",
       "      <th>...</th>\n",
       "      <td>...</td>\n",
       "      <td>...</td>\n",
       "    </tr>\n",
       "    <tr>\n",
       "      <th>95</th>\n",
       "      <td>We Love You Beatles</td>\n",
       "      <td>Strawberry Walrus</td>\n",
       "    </tr>\n",
       "    <tr>\n",
       "      <th>96</th>\n",
       "      <td>I Follow Rivers (Live @ Giel! - Vara/3fm)</td>\n",
       "      <td>Triggerfinger</td>\n",
       "    </tr>\n",
       "    <tr>\n",
       "      <th>97</th>\n",
       "      <td>Wake Me Up</td>\n",
       "      <td>Avicii</td>\n",
       "    </tr>\n",
       "    <tr>\n",
       "      <th>98</th>\n",
       "      <td>Dat Ik Je Mis</td>\n",
       "      <td>Maaike Ouboter</td>\n",
       "    </tr>\n",
       "    <tr>\n",
       "      <th>99</th>\n",
       "      <td>Happiness</td>\n",
       "      <td>Alexis Jordan</td>\n",
       "    </tr>\n",
       "  </tbody>\n",
       "</table>\n",
       "<p>100 rows × 2 columns</p>\n",
       "</div>"
      ],
      "text/plain": [
       "                                        title                 artist\n",
       "0                                  Easy On Me                  Adele\n",
       "1                         Neem Er Één Van Mij         Mart Hoogkamer\n",
       "2                 Do It To It (feat. Cherish)                 Acraze\n",
       "3                          Dat Heb Jij Gedaan                   MEAU\n",
       "4                     Cold Heart (PNAU Remix)  Elton John & Dua Lipa\n",
       "..                                        ...                    ...\n",
       "95                        We Love You Beatles      Strawberry Walrus\n",
       "96  I Follow Rivers (Live @ Giel! - Vara/3fm)          Triggerfinger\n",
       "97                                 Wake Me Up                 Avicii\n",
       "98                              Dat Ik Je Mis         Maaike Ouboter\n",
       "99                                  Happiness          Alexis Jordan\n",
       "\n",
       "[100 rows x 2 columns]"
      ]
     },
     "execution_count": 19,
     "metadata": {},
     "output_type": "execute_result"
    }
   ],
   "source": [
    "top_songs"
   ]
  },
  {
   "cell_type": "code",
   "execution_count": 20,
   "id": "1cfe346b",
   "metadata": {},
   "outputs": [
    {
     "name": "stdout",
     "output_type": "stream",
     "text": [
      "search songs or artist you are intrested: Adele\n",
      "I would recommend you to listen to: \" Cold Little Heart \" by Michael Kiwanuka\n"
     ]
    }
   ],
   "source": [
    "from random import randint\n",
    "\n",
    "def songs (data=top_songs):\n",
    "    song =  str(input(\"search songs or artist you are intrested: \"))\n",
    "    for i in range(len(top_songs)):\n",
    "        # if it is a song and it's in our list, then recommend another song from the list\n",
    "        if top_songs['title'][i] == song:\n",
    "            rand_number = randint(0,len(top_songs))\n",
    "            return(print(\"I would recommend you to listen to: \\\"\", top_songs['title'][rand_number], \"\\\" by\", top_songs['artist'][rand_number]))\n",
    "        # if it is an artist and it's in our list, then recommend another song from the list\n",
    "        elif top_songs['artist'][i] == song:\n",
    "            rand_number = randint(0,len(top_songs))\n",
    "            return(print(\"I would recommend you to listen to: \\\"\", top_songs['title'][rand_number], \"\\\" by\", top_songs['artist'][rand_number]))\n",
    "    return (\"Not in the list\")\n",
    "songs()"
   ]
  },
  {
   "cell_type": "code",
   "execution_count": 21,
   "id": "4f518574",
   "metadata": {},
   "outputs": [],
   "source": [
    "#import spotipy\n",
    "#from spotipy.oauth2 import SpotifyClientCredentials\n",
    "#Initialize SpotiPy with user credentials\n",
    "#sp = spotipy.Spotify(auth_manager=SpotifyClientCredentials(client_id='<your client id here>',\n",
    "#                                                           client_secret='<your client secret here>'))\n",
    "import spotipy\n",
    "from spotipy.oauth2 import SpotifyClientCredentials\n",
    "sp = spotipy.Spotify(auth_manager=SpotifyClientCredentials(client_id='d052432588a546868981c100a4beb614',\n",
    "                                                          client_secret='3a417f02506c4aae99dbd66a08d4ffe0'))"
   ]
  },
  {
   "cell_type": "code",
   "execution_count": 22,
   "id": "41c5f70c",
   "metadata": {},
   "outputs": [
    {
     "data": {
      "text/html": [
       "<div>\n",
       "<style scoped>\n",
       "    .dataframe tbody tr th:only-of-type {\n",
       "        vertical-align: middle;\n",
       "    }\n",
       "\n",
       "    .dataframe tbody tr th {\n",
       "        vertical-align: top;\n",
       "    }\n",
       "\n",
       "    .dataframe thead th {\n",
       "        text-align: right;\n",
       "    }\n",
       "</style>\n",
       "<table border=\"1\" class=\"dataframe\">\n",
       "  <thead>\n",
       "    <tr style=\"text-align: right;\">\n",
       "      <th></th>\n",
       "      <th>artist</th>\n",
       "      <th>album</th>\n",
       "      <th>track_name</th>\n",
       "      <th>track_id</th>\n",
       "      <th>danceability</th>\n",
       "      <th>energy</th>\n",
       "      <th>key</th>\n",
       "      <th>loudness</th>\n",
       "      <th>mode</th>\n",
       "      <th>speechiness</th>\n",
       "      <th>instrumentalness</th>\n",
       "      <th>liveness</th>\n",
       "      <th>valence</th>\n",
       "      <th>tempo</th>\n",
       "      <th>duration_ms</th>\n",
       "      <th>time_signature</th>\n",
       "    </tr>\n",
       "  </thead>\n",
       "  <tbody>\n",
       "    <tr>\n",
       "      <th>0</th>\n",
       "      <td>The Muppets</td>\n",
       "      <td>The Muppets (Original Motion Picture Soundtrack)</td>\n",
       "      <td>Rainbow Connection</td>\n",
       "      <td>1SJ4ycWow4yz6z4oFz8NAG</td>\n",
       "      <td>0.526</td>\n",
       "      <td>0.413</td>\n",
       "      <td>9</td>\n",
       "      <td>-7.674</td>\n",
       "      <td>1</td>\n",
       "      <td>0.0278</td>\n",
       "      <td>0</td>\n",
       "      <td>0.1260</td>\n",
       "      <td>0.211</td>\n",
       "      <td>115.936</td>\n",
       "      <td>188933</td>\n",
       "      <td>3</td>\n",
       "    </tr>\n",
       "    <tr>\n",
       "      <th>1</th>\n",
       "      <td>Israel Kamakawiwo'ole</td>\n",
       "      <td>Facing Future</td>\n",
       "      <td>Somewhere Over The Rainbow_What A Wonderful World</td>\n",
       "      <td>25U7raB3ZSszayTYClh4hF</td>\n",
       "      <td>0.663</td>\n",
       "      <td>0.168</td>\n",
       "      <td>0</td>\n",
       "      <td>-13.725</td>\n",
       "      <td>1</td>\n",
       "      <td>0.0448</td>\n",
       "      <td>0.000057</td>\n",
       "      <td>0.3610</td>\n",
       "      <td>0.678</td>\n",
       "      <td>85.005</td>\n",
       "      <td>308027</td>\n",
       "      <td>4</td>\n",
       "    </tr>\n",
       "    <tr>\n",
       "      <th>2</th>\n",
       "      <td>Joey Ramone</td>\n",
       "      <td>Don't Worry About Me</td>\n",
       "      <td>What a Wonderful World</td>\n",
       "      <td>04cdEVbQPb8BJb7593e5fO</td>\n",
       "      <td>0.422</td>\n",
       "      <td>0.878</td>\n",
       "      <td>5</td>\n",
       "      <td>-4.863</td>\n",
       "      <td>1</td>\n",
       "      <td>0.0442</td>\n",
       "      <td>0.332</td>\n",
       "      <td>0.2010</td>\n",
       "      <td>0.496</td>\n",
       "      <td>84.044</td>\n",
       "      <td>143360</td>\n",
       "      <td>4</td>\n",
       "    </tr>\n",
       "    <tr>\n",
       "      <th>3</th>\n",
       "      <td>Asaf Avidan &amp; the Mojos</td>\n",
       "      <td>One Day / Reckoning Song (Wankelmut Remix)</td>\n",
       "      <td>One Day / Reckoning Song (Wankelmut Remix) [Ra...</td>\n",
       "      <td>5HSkycOEtb9iQ7cg1Oyqmu</td>\n",
       "      <td>0.821</td>\n",
       "      <td>0.676</td>\n",
       "      <td>3</td>\n",
       "      <td>-6.366</td>\n",
       "      <td>0</td>\n",
       "      <td>0.0547</td>\n",
       "      <td>0.0001</td>\n",
       "      <td>0.0927</td>\n",
       "      <td>0.559</td>\n",
       "      <td>119.012</td>\n",
       "      <td>212360</td>\n",
       "      <td>4</td>\n",
       "    </tr>\n",
       "    <tr>\n",
       "      <th>4</th>\n",
       "      <td>Louis Armstrong</td>\n",
       "      <td>All Time Greatest Hits</td>\n",
       "      <td>What A Wonderful World - Single Version</td>\n",
       "      <td>2pp3RfqX5cb1BAnmNi4Nej</td>\n",
       "      <td>0.388</td>\n",
       "      <td>0.327</td>\n",
       "      <td>5</td>\n",
       "      <td>-12.522</td>\n",
       "      <td>1</td>\n",
       "      <td>0.0317</td>\n",
       "      <td>0.00103</td>\n",
       "      <td>0.1500</td>\n",
       "      <td>0.222</td>\n",
       "      <td>107.894</td>\n",
       "      <td>140333</td>\n",
       "      <td>3</td>\n",
       "    </tr>\n",
       "  </tbody>\n",
       "</table>\n",
       "</div>"
      ],
      "text/plain": [
       "                    artist                                             album  \\\n",
       "0              The Muppets  The Muppets (Original Motion Picture Soundtrack)   \n",
       "1    Israel Kamakawiwo'ole                                     Facing Future   \n",
       "2              Joey Ramone                              Don't Worry About Me   \n",
       "3  Asaf Avidan & the Mojos        One Day / Reckoning Song (Wankelmut Remix)   \n",
       "4          Louis Armstrong                            All Time Greatest Hits   \n",
       "\n",
       "                                          track_name                track_id  \\\n",
       "0                                 Rainbow Connection  1SJ4ycWow4yz6z4oFz8NAG   \n",
       "1  Somewhere Over The Rainbow_What A Wonderful World  25U7raB3ZSszayTYClh4hF   \n",
       "2                             What a Wonderful World  04cdEVbQPb8BJb7593e5fO   \n",
       "3  One Day / Reckoning Song (Wankelmut Remix) [Ra...  5HSkycOEtb9iQ7cg1Oyqmu   \n",
       "4            What A Wonderful World - Single Version  2pp3RfqX5cb1BAnmNi4Nej   \n",
       "\n",
       "   danceability  energy key  loudness mode  speechiness instrumentalness  \\\n",
       "0         0.526   0.413   9    -7.674    1       0.0278                0   \n",
       "1         0.663   0.168   0   -13.725    1       0.0448         0.000057   \n",
       "2         0.422   0.878   5    -4.863    1       0.0442            0.332   \n",
       "3         0.821   0.676   3    -6.366    0       0.0547           0.0001   \n",
       "4         0.388   0.327   5   -12.522    1       0.0317          0.00103   \n",
       "\n",
       "   liveness  valence    tempo duration_ms time_signature  \n",
       "0    0.1260    0.211  115.936      188933              3  \n",
       "1    0.3610    0.678   85.005      308027              4  \n",
       "2    0.2010    0.496   84.044      143360              4  \n",
       "3    0.0927    0.559  119.012      212360              4  \n",
       "4    0.1500    0.222  107.894      140333              3  "
      ]
     },
     "execution_count": 22,
     "metadata": {},
     "output_type": "execute_result"
    }
   ],
   "source": [
    "def call_playlist(creator, playlist_id):\n",
    "    \n",
    "    #step1\n",
    "\n",
    "    playlist_features_list = [\"artist\",\"album\",\"track_name\",  \"track_id\",\"danceability\",\"energy\",\"key\",\"loudness\",\"mode\", \"speechiness\",\"instrumentalness\",\"liveness\",\"valence\",\"tempo\", \"duration_ms\",\"time_signature\"]\n",
    "    \n",
    "    playlist_df = pd.DataFrame(columns = playlist_features_list)\n",
    "    \n",
    "    #step2\n",
    "    \n",
    "    playlist = sp.user_playlist_tracks(creator, playlist_id)[\"items\"]\n",
    "    for track in playlist:\n",
    "        # Create empty dict\n",
    "        playlist_features = {}\n",
    "        # Get metadata\n",
    "        playlist_features[\"artist\"] = track[\"track\"][\"album\"][\"artists\"][0][\"name\"]\n",
    "        playlist_features[\"album\"] = track[\"track\"][\"album\"][\"name\"]\n",
    "        playlist_features[\"track_name\"] = track[\"track\"][\"name\"]\n",
    "        playlist_features[\"track_id\"] = track[\"track\"][\"id\"]\n",
    "        \n",
    "        # Get audio features\n",
    "        audio_features = sp.audio_features(playlist_features[\"track_id\"])[0]\n",
    "        for feature in playlist_features_list[4:]:\n",
    "            playlist_features[feature] = audio_features[feature]\n",
    "        \n",
    "        # Concat the dfs\n",
    "        track_df = pd.DataFrame(playlist_features, index = [0])\n",
    "        playlist_df = pd.concat([playlist_df, track_df], ignore_index = True)\n",
    "\n",
    "    #Step 3\n",
    "        \n",
    "    return playlist_df\n",
    "\n",
    "call_playlist(\"spotify\",\"0BUNSGihi2mrhQu3fPcVim\").head()"
   ]
  },
  {
   "cell_type": "code",
   "execution_count": 23,
   "id": "41c777f9",
   "metadata": {},
   "outputs": [
    {
     "data": {
      "text/html": [
       "<div>\n",
       "<style scoped>\n",
       "    .dataframe tbody tr th:only-of-type {\n",
       "        vertical-align: middle;\n",
       "    }\n",
       "\n",
       "    .dataframe tbody tr th {\n",
       "        vertical-align: top;\n",
       "    }\n",
       "\n",
       "    .dataframe thead th {\n",
       "        text-align: right;\n",
       "    }\n",
       "</style>\n",
       "<table border=\"1\" class=\"dataframe\">\n",
       "  <thead>\n",
       "    <tr style=\"text-align: right;\">\n",
       "      <th></th>\n",
       "      <th>artist</th>\n",
       "      <th>album</th>\n",
       "      <th>track_name</th>\n",
       "      <th>track_id</th>\n",
       "      <th>danceability</th>\n",
       "      <th>energy</th>\n",
       "      <th>key</th>\n",
       "      <th>loudness</th>\n",
       "      <th>mode</th>\n",
       "      <th>speechiness</th>\n",
       "      <th>instrumentalness</th>\n",
       "      <th>liveness</th>\n",
       "      <th>valence</th>\n",
       "      <th>tempo</th>\n",
       "      <th>duration_ms</th>\n",
       "      <th>time_signature</th>\n",
       "    </tr>\n",
       "  </thead>\n",
       "  <tbody>\n",
       "    <tr>\n",
       "      <th>0</th>\n",
       "      <td>The Muppets</td>\n",
       "      <td>The Muppets (Original Motion Picture Soundtrack)</td>\n",
       "      <td>Rainbow Connection</td>\n",
       "      <td>1SJ4ycWow4yz6z4oFz8NAG</td>\n",
       "      <td>0.526</td>\n",
       "      <td>0.413</td>\n",
       "      <td>9</td>\n",
       "      <td>-7.674</td>\n",
       "      <td>1</td>\n",
       "      <td>0.0278</td>\n",
       "      <td>0</td>\n",
       "      <td>0.1260</td>\n",
       "      <td>0.211</td>\n",
       "      <td>115.936</td>\n",
       "      <td>188933</td>\n",
       "      <td>3</td>\n",
       "    </tr>\n",
       "    <tr>\n",
       "      <th>1</th>\n",
       "      <td>Israel Kamakawiwo'ole</td>\n",
       "      <td>Facing Future</td>\n",
       "      <td>Somewhere Over The Rainbow_What A Wonderful World</td>\n",
       "      <td>25U7raB3ZSszayTYClh4hF</td>\n",
       "      <td>0.663</td>\n",
       "      <td>0.168</td>\n",
       "      <td>0</td>\n",
       "      <td>-13.725</td>\n",
       "      <td>1</td>\n",
       "      <td>0.0448</td>\n",
       "      <td>0.000057</td>\n",
       "      <td>0.3610</td>\n",
       "      <td>0.678</td>\n",
       "      <td>85.005</td>\n",
       "      <td>308027</td>\n",
       "      <td>4</td>\n",
       "    </tr>\n",
       "    <tr>\n",
       "      <th>2</th>\n",
       "      <td>Joey Ramone</td>\n",
       "      <td>Don't Worry About Me</td>\n",
       "      <td>What a Wonderful World</td>\n",
       "      <td>04cdEVbQPb8BJb7593e5fO</td>\n",
       "      <td>0.422</td>\n",
       "      <td>0.878</td>\n",
       "      <td>5</td>\n",
       "      <td>-4.863</td>\n",
       "      <td>1</td>\n",
       "      <td>0.0442</td>\n",
       "      <td>0.332</td>\n",
       "      <td>0.2010</td>\n",
       "      <td>0.496</td>\n",
       "      <td>84.044</td>\n",
       "      <td>143360</td>\n",
       "      <td>4</td>\n",
       "    </tr>\n",
       "    <tr>\n",
       "      <th>3</th>\n",
       "      <td>Asaf Avidan &amp; the Mojos</td>\n",
       "      <td>One Day / Reckoning Song (Wankelmut Remix)</td>\n",
       "      <td>One Day / Reckoning Song (Wankelmut Remix) [Ra...</td>\n",
       "      <td>5HSkycOEtb9iQ7cg1Oyqmu</td>\n",
       "      <td>0.821</td>\n",
       "      <td>0.676</td>\n",
       "      <td>3</td>\n",
       "      <td>-6.366</td>\n",
       "      <td>0</td>\n",
       "      <td>0.0547</td>\n",
       "      <td>0.0001</td>\n",
       "      <td>0.0927</td>\n",
       "      <td>0.559</td>\n",
       "      <td>119.012</td>\n",
       "      <td>212360</td>\n",
       "      <td>4</td>\n",
       "    </tr>\n",
       "    <tr>\n",
       "      <th>4</th>\n",
       "      <td>Louis Armstrong</td>\n",
       "      <td>All Time Greatest Hits</td>\n",
       "      <td>What A Wonderful World - Single Version</td>\n",
       "      <td>2pp3RfqX5cb1BAnmNi4Nej</td>\n",
       "      <td>0.388</td>\n",
       "      <td>0.327</td>\n",
       "      <td>5</td>\n",
       "      <td>-12.522</td>\n",
       "      <td>1</td>\n",
       "      <td>0.0317</td>\n",
       "      <td>0.00103</td>\n",
       "      <td>0.1500</td>\n",
       "      <td>0.222</td>\n",
       "      <td>107.894</td>\n",
       "      <td>140333</td>\n",
       "      <td>3</td>\n",
       "    </tr>\n",
       "  </tbody>\n",
       "</table>\n",
       "</div>"
      ],
      "text/plain": [
       "                    artist                                             album  \\\n",
       "0              The Muppets  The Muppets (Original Motion Picture Soundtrack)   \n",
       "1    Israel Kamakawiwo'ole                                     Facing Future   \n",
       "2              Joey Ramone                              Don't Worry About Me   \n",
       "3  Asaf Avidan & the Mojos        One Day / Reckoning Song (Wankelmut Remix)   \n",
       "4          Louis Armstrong                            All Time Greatest Hits   \n",
       "\n",
       "                                          track_name                track_id  \\\n",
       "0                                 Rainbow Connection  1SJ4ycWow4yz6z4oFz8NAG   \n",
       "1  Somewhere Over The Rainbow_What A Wonderful World  25U7raB3ZSszayTYClh4hF   \n",
       "2                             What a Wonderful World  04cdEVbQPb8BJb7593e5fO   \n",
       "3  One Day / Reckoning Song (Wankelmut Remix) [Ra...  5HSkycOEtb9iQ7cg1Oyqmu   \n",
       "4            What A Wonderful World - Single Version  2pp3RfqX5cb1BAnmNi4Nej   \n",
       "\n",
       "   danceability  energy key  loudness mode  speechiness instrumentalness  \\\n",
       "0         0.526   0.413   9    -7.674    1       0.0278                0   \n",
       "1         0.663   0.168   0   -13.725    1       0.0448         0.000057   \n",
       "2         0.422   0.878   5    -4.863    1       0.0442            0.332   \n",
       "3         0.821   0.676   3    -6.366    0       0.0547           0.0001   \n",
       "4         0.388   0.327   5   -12.522    1       0.0317          0.00103   \n",
       "\n",
       "   liveness  valence    tempo duration_ms time_signature  \n",
       "0    0.1260    0.211  115.936      188933              3  \n",
       "1    0.3610    0.678   85.005      308027              4  \n",
       "2    0.2010    0.496   84.044      143360              4  \n",
       "3    0.0927    0.559  119.012      212360              4  \n",
       "4    0.1500    0.222  107.894      140333              3  "
      ]
     },
     "execution_count": 23,
     "metadata": {},
     "output_type": "execute_result"
    }
   ],
   "source": [
    "load_spotify=call_playlist(\"spotify\",\"0BUNSGihi2mrhQu3fPcVim\")\n",
    "load_spotify.head()"
   ]
  },
  {
   "cell_type": "code",
   "execution_count": 24,
   "id": "8f2306eb",
   "metadata": {},
   "outputs": [],
   "source": [
    "import numpy as np\n",
    "import matplotlib.pyplot as plt\n",
    "from sklearn.cluster import KMeans\n",
    "\n",
    "from sklearn import cluster, datasets\n",
    "from sklearn.preprocessing import StandardScaler\n",
    "from matplotlib.lines import Line2D"
   ]
  },
  {
   "cell_type": "code",
   "execution_count": 25,
   "id": "83b13141",
   "metadata": {},
   "outputs": [],
   "source": [
    "cluster=load_spotify.drop(['artist','track_name','album','track_id'],axis=1)"
   ]
  },
  {
   "cell_type": "code",
   "execution_count": 26,
   "id": "d5ff7c3a",
   "metadata": {},
   "outputs": [],
   "source": [
    "scaler=StandardScaler().fit(cluster)\n",
    "X_prep=scaler.transform(cluster)"
   ]
  },
  {
   "cell_type": "code",
   "execution_count": 27,
   "id": "43bdade0",
   "metadata": {},
   "outputs": [
    {
     "data": {
      "text/plain": [
       "KMeans(n_clusters=3, random_state=1234)"
      ]
     },
     "execution_count": 27,
     "metadata": {},
     "output_type": "execute_result"
    }
   ],
   "source": [
    "from sklearn.cluster import KMeans\n",
    "\n",
    "kmeans = KMeans(n_clusters=3, random_state=1234)\n",
    "kmeans.fit(X_prep)"
   ]
  },
  {
   "cell_type": "code",
   "execution_count": null,
   "id": "9c1ecedd",
   "metadata": {},
   "outputs": [],
   "source": [
    "clusters = kmeans.predict(X_prep)\n",
    "\n",
    "# Check the size of the clusters\n",
    "pd.Series(clusters).value_counts().sort_index()"
   ]
  }
 ],
 "metadata": {
  "kernelspec": {
   "display_name": "Python 3 (ipykernel)",
   "language": "python",
   "name": "python3"
  },
  "language_info": {
   "codemirror_mode": {
    "name": "ipython",
    "version": 3
   },
   "file_extension": ".py",
   "mimetype": "text/x-python",
   "name": "python",
   "nbconvert_exporter": "python",
   "pygments_lexer": "ipython3",
   "version": "3.9.7"
  }
 },
 "nbformat": 4,
 "nbformat_minor": 5
}

{
 "cells": [
  {
   "cell_type": "code",
   "execution_count": 118,
   "id": "2480cfeb",
   "metadata": {},
   "outputs": [],
   "source": [
    "import re"
   ]
  },
  {
   "cell_type": "code",
   "execution_count": 119,
   "id": "2e0bda33",
   "metadata": {},
   "outputs": [],
   "source": [
    "# 1. Use a regular expression to find and extract all vowels in the following text"
   ]
  },
  {
   "cell_type": "code",
   "execution_count": 120,
   "id": "30911a4b",
   "metadata": {},
   "outputs": [],
   "source": [
    "text = \"This is going to be a sentence with a good number of vowels in it.\""
   ]
  },
  {
   "cell_type": "code",
   "execution_count": 121,
   "id": "d23a3f85",
   "metadata": {},
   "outputs": [
    {
     "name": "stdout",
     "output_type": "stream",
     "text": [
      "['Thi', 'goi', 'to', 'be', 'sentence', 'wi', 'goo', 'numbe', 'vowe']\n"
     ]
    }
   ],
   "source": [
    "pattern = \"[\\w]+[aeiou]\"\n",
    "print(re.findall(pattern,text))"
   ]
  },
  {
   "cell_type": "code",
   "execution_count": 122,
   "id": "b0cedd0e",
   "metadata": {},
   "outputs": [],
   "source": [
    "# 2. Use a regular expression to find and extract all occurrences and tenses (singular and plural) of the word \"puppy\" in the text below"
   ]
  },
  {
   "cell_type": "code",
   "execution_count": 123,
   "id": "3845f2c8",
   "metadata": {},
   "outputs": [],
   "source": [
    "text = \"The puppy saw all the rest of the puppies playing and wanted to join them. I saw this and wanted a puppy of my own!\"\n"
   ]
  },
  {
   "cell_type": "code",
   "execution_count": 124,
   "id": "82e8e481",
   "metadata": {},
   "outputs": [
    {
     "name": "stdout",
     "output_type": "stream",
     "text": [
      "['puppy', 'puppies', 'puppy']\n"
     ]
    }
   ],
   "source": [
    "pattern = 'puppy|puppies'\n",
    "\n",
    "print(re.findall(pattern,text))"
   ]
  },
  {
   "cell_type": "code",
   "execution_count": 86,
   "id": "8ccb0fd5",
   "metadata": {},
   "outputs": [],
   "source": [
    "#3. Use a regular expression to find and extract all tenses (present and past) of the word \"run\" in the text below"
   ]
  },
  {
   "cell_type": "code",
   "execution_count": 87,
   "id": "73e1ff28",
   "metadata": {},
   "outputs": [],
   "source": [
    "text = \"I ran the relay race the only way I knew how to run it.\""
   ]
  },
  {
   "cell_type": "code",
   "execution_count": 129,
   "id": "a418bc83",
   "metadata": {},
   "outputs": [
    {
     "name": "stdout",
     "output_type": "stream",
     "text": [
      "['ran', 'run']\n"
     ]
    }
   ],
   "source": [
    "pattern = 'r[au]n'\n",
    "\n",
    "print(re.findall(pattern,text))"
   ]
  },
  {
   "cell_type": "code",
   "execution_count": 127,
   "id": "81c462a2",
   "metadata": {},
   "outputs": [],
   "source": [
    "#4. Use a regular expression to find and extract all words that begin with the letter \"r\" from the previous text."
   ]
  },
  {
   "cell_type": "code",
   "execution_count": 128,
   "id": "720f6ba1",
   "metadata": {},
   "outputs": [],
   "source": [
    "text = \"I ran the relay race the only way I knew how to run it.\""
   ]
  },
  {
   "cell_type": "code",
   "execution_count": 132,
   "id": "4887c3fd",
   "metadata": {},
   "outputs": [
    {
     "name": "stdout",
     "output_type": "stream",
     "text": [
      "['ran', 'relay', 'race', 'run']\n"
     ]
    }
   ],
   "source": [
    "pattern = 'r\\w{0,4}'\n",
    "print(re.findall(pattern,text))"
   ]
  },
  {
   "cell_type": "code",
   "execution_count": null,
   "id": "71e691e7",
   "metadata": {},
   "outputs": [],
   "source": [
    "#5.Use a regular expression to find and substitute the letter \"i\" for the exclamation marks in the text below"
   ]
  },
  {
   "cell_type": "code",
   "execution_count": null,
   "id": "59b23306",
   "metadata": {},
   "outputs": [],
   "source": [
    "text = \"Th!s !s a sentence w!th spec!al characters !n !t.\""
   ]
  },
  {
   "cell_type": "code",
   "execution_count": 135,
   "id": "f0a49936",
   "metadata": {},
   "outputs": [],
   "source": [
    "#6. Use a regular expression to find and extract words longer than 4 characters in the text below.¶\n"
   ]
  },
  {
   "cell_type": "code",
   "execution_count": 136,
   "id": "445794de",
   "metadata": {},
   "outputs": [],
   "source": [
    "text = \"This sentence has words of varying lengths.\""
   ]
  },
  {
   "cell_type": "code",
   "execution_count": 137,
   "id": "742b5a17",
   "metadata": {},
   "outputs": [
    {
     "name": "stdout",
     "output_type": "stream",
     "text": [
      "['sentence', 'words', 'varying', 'lengths']\n"
     ]
    }
   ],
   "source": [
    "pattern = '\\w{5,}'\n",
    "print(re.findall(pattern,text))"
   ]
  },
  {
   "cell_type": "code",
   "execution_count": 140,
   "id": "7251b4fd",
   "metadata": {},
   "outputs": [],
   "source": [
    "#7. Use a regular expression to find and extract all occurrences of the letter \"b\", some letter(s), and then the letter \"t\" in the sentence below."
   ]
  },
  {
   "cell_type": "code",
   "execution_count": 141,
   "id": "adaccaf8",
   "metadata": {},
   "outputs": [],
   "source": [
    "text = \"I bet the robot couldn't beat the other bot with a bat, but instead it bit me.\""
   ]
  },
  {
   "cell_type": "code",
   "execution_count": 143,
   "id": "903781cd",
   "metadata": {},
   "outputs": [
    {
     "name": "stdout",
     "output_type": "stream",
     "text": [
      "['bet', 'bot', 'beat', 'bot', 'bat', 'but', 'bit']\n"
     ]
    }
   ],
   "source": [
    "pattern = 'b[a-z]*s*t'\n",
    "print(re.findall(pattern,text))"
   ]
  },
  {
   "cell_type": "code",
   "execution_count": 156,
   "id": "002ec6c1",
   "metadata": {},
   "outputs": [],
   "source": [
    "#8. Use a regular expression to find and extract all words that contain either \"ea\" or \"eo\" in them."
   ]
  },
  {
   "cell_type": "code",
   "execution_count": 157,
   "id": "e134037b",
   "metadata": {},
   "outputs": [],
   "source": [
    "text = \"During many of the peaks and troughs of history, the people living it didn't fully realize what was unfolding. But we all know we're navigating breathtaking history: Nearly every day could be — maybe will be — a book.\""
   ]
  },
  {
   "cell_type": "code",
   "execution_count": 158,
   "id": "2614173f",
   "metadata": {},
   "outputs": [
    {
     "name": "stdout",
     "output_type": "stream",
     "text": [
      "['peaks', 'people', 'realize', 'breathtaking', 'Nearly']\n"
     ]
    }
   ],
   "source": [
    "pattern = '\\\\b\\w*e[ao]\\w*\\\\b'\n",
    "print(re.findall(pattern,text))"
   ]
  },
  {
   "cell_type": "code",
   "execution_count": 162,
   "id": "64bdd160",
   "metadata": {},
   "outputs": [],
   "source": [
    "#9. Use a regular expression to find and extract all the capitalized words in the text below individually."
   ]
  },
  {
   "cell_type": "code",
   "execution_count": 166,
   "id": "7096aec5",
   "metadata": {},
   "outputs": [],
   "source": [
    "text = \"Teddy Roosevelt and Abraham Lincoln walk into a bar.\""
   ]
  },
  {
   "cell_type": "code",
   "execution_count": 167,
   "id": "debf251a",
   "metadata": {},
   "outputs": [
    {
     "name": "stdout",
     "output_type": "stream",
     "text": [
      "['Teddy', 'Roosevelt', 'Abraham', 'Lincoln']\n"
     ]
    }
   ],
   "source": [
    "pattern = '([A-Z][a-z]+)'\n",
    "print(re.findall(pattern,text))"
   ]
  },
  {
   "cell_type": "code",
   "execution_count": null,
   "id": "9393deb3",
   "metadata": {},
   "outputs": [],
   "source": [
    "#10. Use a regular expression to find and extract all the sets of consecutive capitalized words in the text above."
   ]
  },
  {
   "cell_type": "code",
   "execution_count": 168,
   "id": "11d0b9ac",
   "metadata": {},
   "outputs": [
    {
     "name": "stdout",
     "output_type": "stream",
     "text": [
      "['T', 'R', 'A', 'L']\n"
     ]
    }
   ],
   "source": [
    "pattern = '([A-Z]+)'\n",
    "print(re.findall(pattern,text))"
   ]
  },
  {
   "cell_type": "code",
   "execution_count": 196,
   "id": "c1f7d63b",
   "metadata": {},
   "outputs": [],
   "source": [
    "# 11. Use a regular expression to find and extract all the quotes from the text below."
   ]
  },
  {
   "cell_type": "code",
   "execution_count": 197,
   "id": "65293045",
   "metadata": {},
   "outputs": [],
   "source": [
    "text = 'Roosevelt says to Lincoln, \"I will bet you $50 I can get the bartender to give me a free drink.\" Lincoln says, \"I am in!\"'"
   ]
  },
  {
   "cell_type": "code",
   "execution_count": 198,
   "id": "c5331f37",
   "metadata": {},
   "outputs": [
    {
     "name": "stdout",
     "output_type": "stream",
     "text": [
      "['I will bet you $50 I can get the bartender to give me a free drink.', 'I am in!']\n"
     ]
    }
   ],
   "source": [
    "pattern ='(?:\"(.*?)\")'\n",
    "print(re.findall(pattern,text))"
   ]
  },
  {
   "cell_type": "code",
   "execution_count": 194,
   "id": "836cc66b",
   "metadata": {},
   "outputs": [],
   "source": [
    "# 12.Use a regular expression to find and extract all the numbers from the text below."
   ]
  },
  {
   "cell_type": "code",
   "execution_count": 195,
   "id": "8de1def5",
   "metadata": {},
   "outputs": [],
   "source": [
    "text = \"There were 30 students in the class. Of the 30 students, 14 were male and 16 were female. Only 10 students got A's on the exam.\""
   ]
  },
  {
   "cell_type": "code",
   "execution_count": 175,
   "id": "b3fc66a8",
   "metadata": {},
   "outputs": [
    {
     "name": "stdout",
     "output_type": "stream",
     "text": [
      "['3', '0', '3', '0', '1', '4', '1', '6', '1', '0']\n"
     ]
    }
   ],
   "source": [
    "pattern = '\\d'\n",
    "print(re.findall(pattern,text))"
   ]
  },
  {
   "cell_type": "code",
   "execution_count": null,
   "id": "79421bbe",
   "metadata": {},
   "outputs": [],
   "source": [
    "# 13. Use a regular expression to find and extract all the social security numbers from the text below"
   ]
  },
  {
   "cell_type": "code",
   "execution_count": 181,
   "id": "33c4a020",
   "metadata": {},
   "outputs": [],
   "source": [
    "text = \"\"\"\n",
    "Henry's social security number is 876-93-2289 and his phone number is (847)789-0984.\n",
    "Darlene's social security number is 098-32-5295 and her phone number is (987)222-0901.\n",
    "\"\"\""
   ]
  },
  {
   "cell_type": "code",
   "execution_count": 186,
   "id": "db618e0d",
   "metadata": {},
   "outputs": [
    {
     "name": "stdout",
     "output_type": "stream",
     "text": [
      "['876-93-2289', '098-32-5295']\n"
     ]
    }
   ],
   "source": [
    "pattern = '\\d{3}-\\d{2}-\\d{4}'\n",
    "print(re.findall(pattern,text))"
   ]
  },
  {
   "cell_type": "code",
   "execution_count": 187,
   "id": "59bcf175",
   "metadata": {},
   "outputs": [],
   "source": [
    "# 14. Use a regular expression to find and extract all the phone numbers from the text below.¶"
   ]
  },
  {
   "cell_type": "code",
   "execution_count": 191,
   "id": "558a4ed9",
   "metadata": {},
   "outputs": [
    {
     "name": "stdout",
     "output_type": "stream",
     "text": [
      "['(847)789-0984', '(987)222-0901']\n"
     ]
    }
   ],
   "source": [
    "pattern = '\\(\\d{3}\\)\\d{3}-\\d{4}'\n",
    "print(re.findall(pattern,text))"
   ]
  },
  {
   "cell_type": "code",
   "execution_count": null,
   "id": "58ed3769",
   "metadata": {},
   "outputs": [],
   "source": [
    "# 15.15. Use a regular expression to find and extract all the formatted numbers (both social security and phone) from the text below"
   ]
  },
  {
   "cell_type": "code",
   "execution_count": 192,
   "id": "41cb0046",
   "metadata": {},
   "outputs": [
    {
     "name": "stdout",
     "output_type": "stream",
     "text": [
      "['876-93-2289', '(847)789-0984', '098-32-5295', '(987)222-0901']\n"
     ]
    }
   ],
   "source": [
    "pattern = '\\d{3}-\\d{2}-\\d{4}|\\(\\d{3}\\)\\d{3}-\\d{4}'\n",
    "print(re.findall(pattern,text))"
   ]
  },
  {
   "cell_type": "code",
   "execution_count": null,
   "id": "b7ab15ce",
   "metadata": {},
   "outputs": [],
   "source": []
  }
 ],
 "metadata": {
  "kernelspec": {
   "display_name": "Python 3 (ipykernel)",
   "language": "python",
   "name": "python3"
  },
  "language_info": {
   "codemirror_mode": {
    "name": "ipython",
    "version": 3
   },
   "file_extension": ".py",
   "mimetype": "text/x-python",
   "name": "python",
   "nbconvert_exporter": "python",
   "pygments_lexer": "ipython3",
   "version": "3.9.7"
  }
 },
 "nbformat": 4,
 "nbformat_minor": 5
}

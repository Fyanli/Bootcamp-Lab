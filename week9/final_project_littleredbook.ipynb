{
 "cells": [
  {
   "cell_type": "code",
   "execution_count": 213,
   "id": "4b5e8085",
   "metadata": {},
   "outputs": [],
   "source": [
    "import pandas as pd #\n",
    "import numpy as np  \n",
    "import seaborn as sns\n",
    "import matplotlib.pyplot as plt\n",
    "%matplotlib inline\n",
    "from statsmodels.formula.api import ols #\n",
    "from sklearn.linear_model import LinearRegression\n",
    "\n",
    "data=pd.read_csv('week2.redbook.csv')"
   ]
  },
  {
   "cell_type": "code",
   "execution_count": 214,
   "id": "e60ca659",
   "metadata": {},
   "outputs": [
    {
     "data": {
      "text/html": [
       "<div>\n",
       "<style scoped>\n",
       "    .dataframe tbody tr th:only-of-type {\n",
       "        vertical-align: middle;\n",
       "    }\n",
       "\n",
       "    .dataframe tbody tr th {\n",
       "        vertical-align: top;\n",
       "    }\n",
       "\n",
       "    .dataframe thead th {\n",
       "        text-align: right;\n",
       "    }\n",
       "</style>\n",
       "<table border=\"1\" class=\"dataframe\">\n",
       "  <thead>\n",
       "    <tr style=\"text-align: right;\">\n",
       "      <th></th>\n",
       "      <th>revenue</th>\n",
       "      <th>gender</th>\n",
       "      <th>age</th>\n",
       "      <th>engaged_last_30</th>\n",
       "      <th>lifecycle</th>\n",
       "      <th>days_since_last_order</th>\n",
       "      <th>previous_order_amount</th>\n",
       "      <th>3rd_party_stores</th>\n",
       "    </tr>\n",
       "  </thead>\n",
       "  <tbody>\n",
       "    <tr>\n",
       "      <th>0</th>\n",
       "      <td>72.98</td>\n",
       "      <td>1.0</td>\n",
       "      <td>59.0</td>\n",
       "      <td>0.0</td>\n",
       "      <td>B</td>\n",
       "      <td>4.26</td>\n",
       "      <td>2343.870</td>\n",
       "      <td>0</td>\n",
       "    </tr>\n",
       "    <tr>\n",
       "      <th>1</th>\n",
       "      <td>200.99</td>\n",
       "      <td>1.0</td>\n",
       "      <td>51.0</td>\n",
       "      <td>0.0</td>\n",
       "      <td>A</td>\n",
       "      <td>0.94</td>\n",
       "      <td>8539.872</td>\n",
       "      <td>0</td>\n",
       "    </tr>\n",
       "    <tr>\n",
       "      <th>2</th>\n",
       "      <td>69.98</td>\n",
       "      <td>1.0</td>\n",
       "      <td>79.0</td>\n",
       "      <td>0.0</td>\n",
       "      <td>C</td>\n",
       "      <td>4.29</td>\n",
       "      <td>1687.646</td>\n",
       "      <td>1</td>\n",
       "    </tr>\n",
       "    <tr>\n",
       "      <th>3</th>\n",
       "      <td>649.99</td>\n",
       "      <td>NaN</td>\n",
       "      <td>NaN</td>\n",
       "      <td>NaN</td>\n",
       "      <td>C</td>\n",
       "      <td>14.90</td>\n",
       "      <td>3498.846</td>\n",
       "      <td>0</td>\n",
       "    </tr>\n",
       "    <tr>\n",
       "      <th>4</th>\n",
       "      <td>83.59</td>\n",
       "      <td>NaN</td>\n",
       "      <td>NaN</td>\n",
       "      <td>NaN</td>\n",
       "      <td>C</td>\n",
       "      <td>21.13</td>\n",
       "      <td>3968.490</td>\n",
       "      <td>4</td>\n",
       "    </tr>\n",
       "    <tr>\n",
       "      <th>...</th>\n",
       "      <td>...</td>\n",
       "      <td>...</td>\n",
       "      <td>...</td>\n",
       "      <td>...</td>\n",
       "      <td>...</td>\n",
       "      <td>...</td>\n",
       "      <td>...</td>\n",
       "      <td>...</td>\n",
       "    </tr>\n",
       "    <tr>\n",
       "      <th>29447</th>\n",
       "      <td>43.19</td>\n",
       "      <td>NaN</td>\n",
       "      <td>NaN</td>\n",
       "      <td>NaN</td>\n",
       "      <td>C</td>\n",
       "      <td>0.94</td>\n",
       "      <td>545.180</td>\n",
       "      <td>1</td>\n",
       "    </tr>\n",
       "    <tr>\n",
       "      <th>29448</th>\n",
       "      <td>62.97</td>\n",
       "      <td>1.0</td>\n",
       "      <td>53.0</td>\n",
       "      <td>0.0</td>\n",
       "      <td>C</td>\n",
       "      <td>3.45</td>\n",
       "      <td>3738.912</td>\n",
       "      <td>1</td>\n",
       "    </tr>\n",
       "    <tr>\n",
       "      <th>29449</th>\n",
       "      <td>87.26</td>\n",
       "      <td>NaN</td>\n",
       "      <td>NaN</td>\n",
       "      <td>NaN</td>\n",
       "      <td>C</td>\n",
       "      <td>10.42</td>\n",
       "      <td>1279.530</td>\n",
       "      <td>0</td>\n",
       "    </tr>\n",
       "    <tr>\n",
       "      <th>29450</th>\n",
       "      <td>19.99</td>\n",
       "      <td>1.0</td>\n",
       "      <td>69.0</td>\n",
       "      <td>0.0</td>\n",
       "      <td>C</td>\n",
       "      <td>16.87</td>\n",
       "      <td>669.580</td>\n",
       "      <td>3</td>\n",
       "    </tr>\n",
       "    <tr>\n",
       "      <th>29451</th>\n",
       "      <td>741.93</td>\n",
       "      <td>NaN</td>\n",
       "      <td>NaN</td>\n",
       "      <td>NaN</td>\n",
       "      <td>C</td>\n",
       "      <td>7.13</td>\n",
       "      <td>2102.950</td>\n",
       "      <td>0</td>\n",
       "    </tr>\n",
       "  </tbody>\n",
       "</table>\n",
       "<p>29452 rows × 8 columns</p>\n",
       "</div>"
      ],
      "text/plain": [
       "       revenue  gender   age  engaged_last_30 lifecycle  \\\n",
       "0        72.98     1.0  59.0              0.0         B   \n",
       "1       200.99     1.0  51.0              0.0         A   \n",
       "2        69.98     1.0  79.0              0.0         C   \n",
       "3       649.99     NaN   NaN              NaN         C   \n",
       "4        83.59     NaN   NaN              NaN         C   \n",
       "...        ...     ...   ...              ...       ...   \n",
       "29447    43.19     NaN   NaN              NaN         C   \n",
       "29448    62.97     1.0  53.0              0.0         C   \n",
       "29449    87.26     NaN   NaN              NaN         C   \n",
       "29450    19.99     1.0  69.0              0.0         C   \n",
       "29451   741.93     NaN   NaN              NaN         C   \n",
       "\n",
       "        days_since_last_order   previous_order_amount  3rd_party_stores  \n",
       "0                         4.26               2343.870                 0  \n",
       "1                         0.94               8539.872                 0  \n",
       "2                         4.29               1687.646                 1  \n",
       "3                        14.90               3498.846                 0  \n",
       "4                        21.13               3968.490                 4  \n",
       "...                        ...                    ...               ...  \n",
       "29447                     0.94                545.180                 1  \n",
       "29448                     3.45               3738.912                 1  \n",
       "29449                    10.42               1279.530                 0  \n",
       "29450                    16.87                669.580                 3  \n",
       "29451                     7.13               2102.950                 0  \n",
       "\n",
       "[29452 rows x 8 columns]"
      ]
     },
     "execution_count": 214,
     "metadata": {},
     "output_type": "execute_result"
    }
   ],
   "source": [
    "data"
   ]
  },
  {
   "cell_type": "code",
   "execution_count": 215,
   "id": "cdc6b2af",
   "metadata": {},
   "outputs": [
    {
     "name": "stdout",
     "output_type": "stream",
     "text": [
      "Index(['revenue', 'gender', 'age', 'engaged_last_30', 'lifecycle',\n",
      "       ' days_since_last_order ', 'previous_order_amount', '3rd_party_stores'],\n",
      "      dtype='object')\n"
     ]
    }
   ],
   "source": [
    "print(data.columns)"
   ]
  },
  {
   "cell_type": "code",
   "execution_count": 216,
   "id": "cb87fd76",
   "metadata": {},
   "outputs": [
    {
     "name": "stdout",
     "output_type": "stream",
     "text": [
      "1\n",
      "       revenue  gender  age  engaged_last_30 lifecycle  \\\n",
      "13622    99.99     NaN  NaN              NaN         A   \n",
      "\n",
      "        days_since_last_order   previous_order_amount  3rd_party_stores  \n",
      "13622                     0.13                    0.0                 0  \n"
     ]
    }
   ],
   "source": [
    "# delete the repeated value by drop_duplicates()\n",
    "print(data.duplicated().sum())\n",
    "print(data[data.duplicated()])\n",
    "data=data.drop_duplicates()"
   ]
  },
  {
   "cell_type": "code",
   "execution_count": 217,
   "id": "552503e4",
   "metadata": {},
   "outputs": [
    {
     "data": {
      "text/html": [
       "<div>\n",
       "<style scoped>\n",
       "    .dataframe tbody tr th:only-of-type {\n",
       "        vertical-align: middle;\n",
       "    }\n",
       "\n",
       "    .dataframe tbody tr th {\n",
       "        vertical-align: top;\n",
       "    }\n",
       "\n",
       "    .dataframe thead th {\n",
       "        text-align: right;\n",
       "    }\n",
       "</style>\n",
       "<table border=\"1\" class=\"dataframe\">\n",
       "  <thead>\n",
       "    <tr style=\"text-align: right;\">\n",
       "      <th></th>\n",
       "      <th>revenue</th>\n",
       "      <th>gender</th>\n",
       "      <th>age</th>\n",
       "      <th>engaged_last_30</th>\n",
       "      <th>lifecycle</th>\n",
       "      <th>days_since_last_order</th>\n",
       "      <th>previous_order_amount</th>\n",
       "      <th>3rd_party_stores</th>\n",
       "    </tr>\n",
       "  </thead>\n",
       "  <tbody>\n",
       "    <tr>\n",
       "      <th>0</th>\n",
       "      <td>72.98</td>\n",
       "      <td>1.0</td>\n",
       "      <td>59.0</td>\n",
       "      <td>0.0</td>\n",
       "      <td>B</td>\n",
       "      <td>4.26</td>\n",
       "      <td>2343.870</td>\n",
       "      <td>0</td>\n",
       "    </tr>\n",
       "    <tr>\n",
       "      <th>1</th>\n",
       "      <td>200.99</td>\n",
       "      <td>1.0</td>\n",
       "      <td>51.0</td>\n",
       "      <td>0.0</td>\n",
       "      <td>A</td>\n",
       "      <td>0.94</td>\n",
       "      <td>8539.872</td>\n",
       "      <td>0</td>\n",
       "    </tr>\n",
       "    <tr>\n",
       "      <th>2</th>\n",
       "      <td>69.98</td>\n",
       "      <td>1.0</td>\n",
       "      <td>79.0</td>\n",
       "      <td>0.0</td>\n",
       "      <td>C</td>\n",
       "      <td>4.29</td>\n",
       "      <td>1687.646</td>\n",
       "      <td>1</td>\n",
       "    </tr>\n",
       "    <tr>\n",
       "      <th>3</th>\n",
       "      <td>649.99</td>\n",
       "      <td>NaN</td>\n",
       "      <td>NaN</td>\n",
       "      <td>NaN</td>\n",
       "      <td>C</td>\n",
       "      <td>14.90</td>\n",
       "      <td>3498.846</td>\n",
       "      <td>0</td>\n",
       "    </tr>\n",
       "    <tr>\n",
       "      <th>4</th>\n",
       "      <td>83.59</td>\n",
       "      <td>NaN</td>\n",
       "      <td>NaN</td>\n",
       "      <td>NaN</td>\n",
       "      <td>C</td>\n",
       "      <td>21.13</td>\n",
       "      <td>3968.490</td>\n",
       "      <td>4</td>\n",
       "    </tr>\n",
       "    <tr>\n",
       "      <th>...</th>\n",
       "      <td>...</td>\n",
       "      <td>...</td>\n",
       "      <td>...</td>\n",
       "      <td>...</td>\n",
       "      <td>...</td>\n",
       "      <td>...</td>\n",
       "      <td>...</td>\n",
       "      <td>...</td>\n",
       "    </tr>\n",
       "    <tr>\n",
       "      <th>29447</th>\n",
       "      <td>43.19</td>\n",
       "      <td>NaN</td>\n",
       "      <td>NaN</td>\n",
       "      <td>NaN</td>\n",
       "      <td>C</td>\n",
       "      <td>0.94</td>\n",
       "      <td>545.180</td>\n",
       "      <td>1</td>\n",
       "    </tr>\n",
       "    <tr>\n",
       "      <th>29448</th>\n",
       "      <td>62.97</td>\n",
       "      <td>1.0</td>\n",
       "      <td>53.0</td>\n",
       "      <td>0.0</td>\n",
       "      <td>C</td>\n",
       "      <td>3.45</td>\n",
       "      <td>3738.912</td>\n",
       "      <td>1</td>\n",
       "    </tr>\n",
       "    <tr>\n",
       "      <th>29449</th>\n",
       "      <td>87.26</td>\n",
       "      <td>NaN</td>\n",
       "      <td>NaN</td>\n",
       "      <td>NaN</td>\n",
       "      <td>C</td>\n",
       "      <td>10.42</td>\n",
       "      <td>1279.530</td>\n",
       "      <td>0</td>\n",
       "    </tr>\n",
       "    <tr>\n",
       "      <th>29450</th>\n",
       "      <td>19.99</td>\n",
       "      <td>1.0</td>\n",
       "      <td>69.0</td>\n",
       "      <td>0.0</td>\n",
       "      <td>C</td>\n",
       "      <td>16.87</td>\n",
       "      <td>669.580</td>\n",
       "      <td>3</td>\n",
       "    </tr>\n",
       "    <tr>\n",
       "      <th>29451</th>\n",
       "      <td>741.93</td>\n",
       "      <td>NaN</td>\n",
       "      <td>NaN</td>\n",
       "      <td>NaN</td>\n",
       "      <td>C</td>\n",
       "      <td>7.13</td>\n",
       "      <td>2102.950</td>\n",
       "      <td>0</td>\n",
       "    </tr>\n",
       "  </tbody>\n",
       "</table>\n",
       "<p>29451 rows × 8 columns</p>\n",
       "</div>"
      ],
      "text/plain": [
       "       revenue  gender   age  engaged_last_30 lifecycle  \\\n",
       "0        72.98     1.0  59.0              0.0         B   \n",
       "1       200.99     1.0  51.0              0.0         A   \n",
       "2        69.98     1.0  79.0              0.0         C   \n",
       "3       649.99     NaN   NaN              NaN         C   \n",
       "4        83.59     NaN   NaN              NaN         C   \n",
       "...        ...     ...   ...              ...       ...   \n",
       "29447    43.19     NaN   NaN              NaN         C   \n",
       "29448    62.97     1.0  53.0              0.0         C   \n",
       "29449    87.26     NaN   NaN              NaN         C   \n",
       "29450    19.99     1.0  69.0              0.0         C   \n",
       "29451   741.93     NaN   NaN              NaN         C   \n",
       "\n",
       "        days_since_last_order   previous_order_amount  3rd_party_stores  \n",
       "0                         4.26               2343.870                 0  \n",
       "1                         0.94               8539.872                 0  \n",
       "2                         4.29               1687.646                 1  \n",
       "3                        14.90               3498.846                 0  \n",
       "4                        21.13               3968.490                 4  \n",
       "...                        ...                    ...               ...  \n",
       "29447                     0.94                545.180                 1  \n",
       "29448                     3.45               3738.912                 1  \n",
       "29449                    10.42               1279.530                 0  \n",
       "29450                    16.87                669.580                 3  \n",
       "29451                     7.13               2102.950                 0  \n",
       "\n",
       "[29451 rows x 8 columns]"
      ]
     },
     "execution_count": 217,
     "metadata": {},
     "output_type": "execute_result"
    }
   ],
   "source": [
    "data"
   ]
  },
  {
   "cell_type": "code",
   "execution_count": 218,
   "id": "bb604702",
   "metadata": {},
   "outputs": [
    {
     "name": "stdout",
     "output_type": "stream",
     "text": [
      "revenue                        0\n",
      "gender                     11728\n",
      "age                        12735\n",
      "engaged_last_30            11728\n",
      "lifecycle                      0\n",
      " days_since_last_order         0\n",
      "previous_order_amount          0\n",
      "3rd_party_stores               0\n",
      "dtype: int64\n"
     ]
    },
    {
     "name": "stderr",
     "output_type": "stream",
     "text": [
      "/Library/Frameworks/Python.framework/Versions/3.9/lib/python3.9/site-packages/pandas/util/_decorators.py:311: SettingWithCopyWarning: \n",
      "A value is trying to be set on a copy of a slice from a DataFrame\n",
      "\n",
      "See the caveats in the documentation: https://pandas.pydata.org/pandas-docs/stable/user_guide/indexing.html#returning-a-view-versus-a-copy\n",
      "  return func(*args, **kwargs)\n"
     ]
    }
   ],
   "source": [
    "# lot of nan values, so i decide delete them\n",
    "print(data.isnull().sum())\n",
    "data.dropna(inplace=True)"
   ]
  },
  {
   "cell_type": "code",
   "execution_count": 219,
   "id": "1c46fab7",
   "metadata": {},
   "outputs": [
    {
     "name": "stdout",
     "output_type": "stream",
     "text": [
      "<class 'pandas.core.frame.DataFrame'>\n",
      "Int64Index: 16716 entries, 0 to 29450\n",
      "Data columns (total 8 columns):\n",
      " #   Column                   Non-Null Count  Dtype  \n",
      "---  ------                   --------------  -----  \n",
      " 0   revenue                  16716 non-null  float64\n",
      " 1   gender                   16716 non-null  float64\n",
      " 2   age                      16716 non-null  float64\n",
      " 3   engaged_last_30          16716 non-null  float64\n",
      " 4   lifecycle                16716 non-null  object \n",
      " 5    days_since_last_order   16716 non-null  float64\n",
      " 6   previous_order_amount    16716 non-null  float64\n",
      " 7   3rd_party_stores         16716 non-null  int64  \n",
      "dtypes: float64(6), int64(1), object(1)\n",
      "memory usage: 1.1+ MB\n"
     ]
    }
   ],
   "source": [
    "data.info()"
   ]
  },
  {
   "cell_type": "code",
   "execution_count": 220,
   "id": "aae0a256",
   "metadata": {},
   "outputs": [
    {
     "name": "stdout",
     "output_type": "stream",
     "text": [
      "          age\n",
      "female    734\n",
      "male    15982\n",
      "ratio 21.77384196185286\n"
     ]
    }
   ],
   "source": [
    "gender_total = data.pivot_table(values='age',index='gender',aggfunc='count')\n",
    "gender_total.index=['female','male']\n",
    "print(gender_total)\n",
    "print('ratio',gender_total.iloc[1,0]/gender_total.iloc[0,0])\n",
    "# iloc[row, column]\n",
    "#gender_total.index=['female','male','ratio']\n",
    "#print(gender_total)"
   ]
  },
  {
   "cell_type": "code",
   "execution_count": 221,
   "id": "594b9a95",
   "metadata": {},
   "outputs": [
    {
     "name": "stderr",
     "output_type": "stream",
     "text": [
      "/var/folders/0m/krm29zjx31j4v1ldykbq32vm0000gn/T/ipykernel_1234/386147467.py:4: SettingWithCopyWarning: \n",
      "A value is trying to be set on a copy of a slice from a DataFrame.\n",
      "Try using .loc[row_indexer,col_indexer] = value instead\n",
      "\n",
      "See the caveats in the documentation: https://pandas.pydata.org/pandas-docs/stable/user_guide/indexing.html#returning-a-view-versus-a-copy\n",
      "  data['age_group']=pd.cut(data['age'],bins=listbins,labels=listlabel,right=False,include_lowest=True)\n"
     ]
    },
    {
     "data": {
      "text/html": [
       "<div>\n",
       "<style scoped>\n",
       "    .dataframe tbody tr th:only-of-type {\n",
       "        vertical-align: middle;\n",
       "    }\n",
       "\n",
       "    .dataframe tbody tr th {\n",
       "        vertical-align: top;\n",
       "    }\n",
       "\n",
       "    .dataframe thead th {\n",
       "        text-align: right;\n",
       "    }\n",
       "</style>\n",
       "<table border=\"1\" class=\"dataframe\">\n",
       "  <thead>\n",
       "    <tr style=\"text-align: right;\">\n",
       "      <th></th>\n",
       "      <th>revenue</th>\n",
       "      <th>gender</th>\n",
       "      <th>age</th>\n",
       "      <th>engaged_last_30</th>\n",
       "      <th>lifecycle</th>\n",
       "      <th>days_since_last_order</th>\n",
       "      <th>previous_order_amount</th>\n",
       "      <th>3rd_party_stores</th>\n",
       "      <th>age_group</th>\n",
       "    </tr>\n",
       "  </thead>\n",
       "  <tbody>\n",
       "    <tr>\n",
       "      <th>0</th>\n",
       "      <td>72.98</td>\n",
       "      <td>1.0</td>\n",
       "      <td>59.0</td>\n",
       "      <td>0.0</td>\n",
       "      <td>B</td>\n",
       "      <td>4.26</td>\n",
       "      <td>2343.870</td>\n",
       "      <td>0</td>\n",
       "      <td>50-59</td>\n",
       "    </tr>\n",
       "    <tr>\n",
       "      <th>1</th>\n",
       "      <td>200.99</td>\n",
       "      <td>1.0</td>\n",
       "      <td>51.0</td>\n",
       "      <td>0.0</td>\n",
       "      <td>A</td>\n",
       "      <td>0.94</td>\n",
       "      <td>8539.872</td>\n",
       "      <td>0</td>\n",
       "      <td>50-59</td>\n",
       "    </tr>\n",
       "    <tr>\n",
       "      <th>2</th>\n",
       "      <td>69.98</td>\n",
       "      <td>1.0</td>\n",
       "      <td>79.0</td>\n",
       "      <td>0.0</td>\n",
       "      <td>C</td>\n",
       "      <td>4.29</td>\n",
       "      <td>1687.646</td>\n",
       "      <td>1</td>\n",
       "      <td>70-79</td>\n",
       "    </tr>\n",
       "    <tr>\n",
       "      <th>5</th>\n",
       "      <td>319.99</td>\n",
       "      <td>1.0</td>\n",
       "      <td>80.0</td>\n",
       "      <td>0.0</td>\n",
       "      <td>C</td>\n",
       "      <td>15.13</td>\n",
       "      <td>2811.491</td>\n",
       "      <td>10</td>\n",
       "      <td>80-89</td>\n",
       "    </tr>\n",
       "    <tr>\n",
       "      <th>6</th>\n",
       "      <td>140.00</td>\n",
       "      <td>1.0</td>\n",
       "      <td>60.0</td>\n",
       "      <td>0.0</td>\n",
       "      <td>C</td>\n",
       "      <td>11.45</td>\n",
       "      <td>769.990</td>\n",
       "      <td>4</td>\n",
       "      <td>60-69</td>\n",
       "    </tr>\n",
       "    <tr>\n",
       "      <th>...</th>\n",
       "      <td>...</td>\n",
       "      <td>...</td>\n",
       "      <td>...</td>\n",
       "      <td>...</td>\n",
       "      <td>...</td>\n",
       "      <td>...</td>\n",
       "      <td>...</td>\n",
       "      <td>...</td>\n",
       "      <td>...</td>\n",
       "    </tr>\n",
       "    <tr>\n",
       "      <th>29436</th>\n",
       "      <td>618.77</td>\n",
       "      <td>1.0</td>\n",
       "      <td>46.0</td>\n",
       "      <td>0.0</td>\n",
       "      <td>C</td>\n",
       "      <td>9.13</td>\n",
       "      <td>2236.980</td>\n",
       "      <td>0</td>\n",
       "      <td>40-49</td>\n",
       "    </tr>\n",
       "    <tr>\n",
       "      <th>29440</th>\n",
       "      <td>58.99</td>\n",
       "      <td>1.0</td>\n",
       "      <td>29.0</td>\n",
       "      <td>0.0</td>\n",
       "      <td>A</td>\n",
       "      <td>0.84</td>\n",
       "      <td>808.980</td>\n",
       "      <td>0</td>\n",
       "      <td>20-29</td>\n",
       "    </tr>\n",
       "    <tr>\n",
       "      <th>29443</th>\n",
       "      <td>36.98</td>\n",
       "      <td>1.0</td>\n",
       "      <td>40.0</td>\n",
       "      <td>0.0</td>\n",
       "      <td>B</td>\n",
       "      <td>1.77</td>\n",
       "      <td>138.990</td>\n",
       "      <td>0</td>\n",
       "      <td>40-49</td>\n",
       "    </tr>\n",
       "    <tr>\n",
       "      <th>29448</th>\n",
       "      <td>62.97</td>\n",
       "      <td>1.0</td>\n",
       "      <td>53.0</td>\n",
       "      <td>0.0</td>\n",
       "      <td>C</td>\n",
       "      <td>3.45</td>\n",
       "      <td>3738.912</td>\n",
       "      <td>1</td>\n",
       "      <td>50-59</td>\n",
       "    </tr>\n",
       "    <tr>\n",
       "      <th>29450</th>\n",
       "      <td>19.99</td>\n",
       "      <td>1.0</td>\n",
       "      <td>69.0</td>\n",
       "      <td>0.0</td>\n",
       "      <td>C</td>\n",
       "      <td>16.87</td>\n",
       "      <td>669.580</td>\n",
       "      <td>3</td>\n",
       "      <td>60-69</td>\n",
       "    </tr>\n",
       "  </tbody>\n",
       "</table>\n",
       "<p>16716 rows × 9 columns</p>\n",
       "</div>"
      ],
      "text/plain": [
       "       revenue  gender   age  engaged_last_30 lifecycle  \\\n",
       "0        72.98     1.0  59.0              0.0         B   \n",
       "1       200.99     1.0  51.0              0.0         A   \n",
       "2        69.98     1.0  79.0              0.0         C   \n",
       "5       319.99     1.0  80.0              0.0         C   \n",
       "6       140.00     1.0  60.0              0.0         C   \n",
       "...        ...     ...   ...              ...       ...   \n",
       "29436   618.77     1.0  46.0              0.0         C   \n",
       "29440    58.99     1.0  29.0              0.0         A   \n",
       "29443    36.98     1.0  40.0              0.0         B   \n",
       "29448    62.97     1.0  53.0              0.0         C   \n",
       "29450    19.99     1.0  69.0              0.0         C   \n",
       "\n",
       "        days_since_last_order   previous_order_amount  3rd_party_stores  \\\n",
       "0                         4.26               2343.870                 0   \n",
       "1                         0.94               8539.872                 0   \n",
       "2                         4.29               1687.646                 1   \n",
       "5                        15.13               2811.491                10   \n",
       "6                        11.45                769.990                 4   \n",
       "...                        ...                    ...               ...   \n",
       "29436                     9.13               2236.980                 0   \n",
       "29440                     0.84                808.980                 0   \n",
       "29443                     1.77                138.990                 0   \n",
       "29448                     3.45               3738.912                 1   \n",
       "29450                    16.87                669.580                 3   \n",
       "\n",
       "      age_group  \n",
       "0         50-59  \n",
       "1         50-59  \n",
       "2         70-79  \n",
       "5         80-89  \n",
       "6         60-69  \n",
       "...         ...  \n",
       "29436     40-49  \n",
       "29440     20-29  \n",
       "29443     40-49  \n",
       "29448     50-59  \n",
       "29450     60-69  \n",
       "\n",
       "[16716 rows x 9 columns]"
      ]
     },
     "execution_count": 221,
     "metadata": {},
     "output_type": "execute_result"
    }
   ],
   "source": [
    "# cut split the age\n",
    "listbins=[0,20,30,40,50,60,70,80,90,100]\n",
    "listlabel=['under 20','20-29','30-39','40-49','50-59','60-69','70-79','80-89','90-99']\n",
    "data['age_group']=pd.cut(data['age'],bins=listbins,labels=listlabel,right=False,include_lowest=True)\n",
    "data\n",
    "\n"
   ]
  },
  {
   "cell_type": "code",
   "execution_count": 222,
   "id": "42786aa7",
   "metadata": {},
   "outputs": [
    {
     "name": "stdout",
     "output_type": "stream",
     "text": [
      "                 previous_order_amount     revenue\n",
      "engaged_last_30                                   \n",
      "0.0                        2463.216141  362.080838\n",
      "1.0                        4139.682919  551.065712\n"
     ]
    }
   ],
   "source": [
    "# 1.analyze the community marketing\n",
    "engaged_last_30_mean=data.pivot_table(index='engaged_last_30', values=['previous_order_amount','revenue'],aggfunc='mean')\n",
    "print(engaged_last_30_mean) "
   ]
  },
  {
   "cell_type": "code",
   "execution_count": 223,
   "id": "678e0932",
   "metadata": {},
   "outputs": [],
   "source": [
    "#  conclusion 1:\n",
    "# customers who participated the activity purchase more than customers\n",
    "# who did not participate the activity"
   ]
  },
  {
   "cell_type": "code",
   "execution_count": 224,
   "id": "626d1d3b",
   "metadata": {},
   "outputs": [
    {
     "data": {
      "image/png": "[encoded data removed]",
      "text/plain": [
       "<Figure size 720x432 with 1 Axes>"
      ]
     },
     "metadata": {
      "needs_background": "light"
     },
     "output_type": "display_data"
    }
   ],
   "source": [
    "# 2.analyze the age and gender\n",
    "# use the function of plt.figure() the figuer size is width and heigth\n",
    "plt.figure(figsize=(10,6))\n",
    "data.age.value_counts().sort_index().plot()\n",
    "plt.title(\"distribution of customers of different age\")\n",
    "plt.show()\n",
    "# conclusion 1: \n",
    "# Most consumer  and main revenue come from middle-aged and elderly people aged 40-70\n"
   ]
  },
  {
   "cell_type": "code",
   "execution_count": 225,
   "id": "e093a8d9",
   "metadata": {},
   "outputs": [
    {
     "data": {
      "text/plain": [
       "<function matplotlib.pyplot.show(close=None, block=None)>"
      ]
     },
     "execution_count": 225,
     "metadata": {},
     "output_type": "execute_result"
    },
    {
     "data": {
      "image/png": "[encoded data removed]",
      "text/plain": [
       "<Figure size 2160x720 with 1 Axes>"
      ]
     },
     "metadata": {
      "needs_background": "light"
     },
     "output_type": "display_data"
    }
   ],
   "source": [
    "ag_df=data.groupby(\"age_group\")['previous_order_amount'].mean().sort_index()\n",
    "plt.figure(figsize=(30,10))\n",
    "plt.bar(x = ag_df.index.tolist( ),height = np.round(ag_df.values,2).tolist(),color='#FF8888')\n",
    "for x, y in zip(ag_df.index,ag_df.values):\n",
    "    plt.text(x,y+10,'%f'%y,ha='center',va='bottom',fontsize=10.5)#'%f' % np.float64('nan')\n",
    "plt.title(\"comparing of average of purchase of customers with different age\")\n",
    "plt.savefig('final_project')\n",
    "plt.show\n",
    "# conclusion 2\n",
    "# under 20 years old account for the big numbers of total users"
   ]
  },
  {
   "cell_type": "code",
   "execution_count": 226,
   "id": "a888d345",
   "metadata": {
    "scrolled": true
   },
   "outputs": [
    {
     "data": {
      "text/plain": [
       "<function matplotlib.pyplot.show(close=None, block=None)>"
      ]
     },
     "execution_count": 226,
     "metadata": {},
     "output_type": "execute_result"
    },
    {
     "data": {
      "image/png": "[encoded data removed]",
      "text/plain": [
       "<Figure size 2160x720 with 1 Axes>"
      ]
     },
     "metadata": {
      "needs_background": "light"
     },
     "output_type": "display_data"
    }
   ],
   "source": [
    "ag_df=data.groupby(\"age_group\")['previous_order_amount'].sum().sort_index()\n",
    "plt.figure(figsize=(30,10))\n",
    "plt.bar(x = ag_df.index.tolist( ),height = np.round(ag_df.values,2).tolist(),color='#FF8888')\n",
    "for x, y in zip(ag_df.index,ag_df.values):\n",
    "    plt.text(x,y+10,'%f'%y,ha='center',va='bottom',fontsize=10.5)#'%f' % np.float64('nan')\n",
    "plt.title(\"comparing of amount of purchase of customers with different age\")\n",
    "plt.savefig('final_project1')\n",
    "plt.show\n",
    "# conclusion 3 but the group of 50-59 consumed the biggest amount \n",
    "# their will and ability of consuming are more strong than youngers"
   ]
  },
  {
   "cell_type": "code",
   "execution_count": 227,
   "id": "80a3058a",
   "metadata": {},
   "outputs": [
    {
     "data": {
      "text/plain": [
       "<function matplotlib.pyplot.show(close=None, block=None)>"
      ]
     },
     "execution_count": 227,
     "metadata": {},
     "output_type": "execute_result"
    },
    {
     "data": {
      "image/png": "[encoded data removed]",
      "text/plain": [
       "<Figure size 1200x600 with 2 Axes>"
      ]
     },
     "metadata": {
      "needs_background": "light"
     },
     "output_type": "display_data"
    }
   ],
   "source": [
    "# analysis the gender\n",
    "fig = plt.figure(figsize=(12,6),dpi=100)#dpi is point\n",
    "ax1=fig.add_subplot(1,2,1)\n",
    "plt.bar(x=gender_total.index,height=gender_total['age'])\n",
    "plt.title('customers of different gender')\n",
    "ax2= fig.add_subplot(1,2,2)\n",
    "labels = ['male','female']\n",
    "box1,box2=[data[data.gender==1]['previous_order_amount'],data[data.gender==0]['previous_order_amount']]\n",
    "plt.boxplot([box1,box2],labels=labels)\n",
    "plt.title('comparation of consuming of different gender')\n",
    "plt.savefig('final_project3')\n",
    "plt.show\n",
    "# conclusion 4 the number of male customers is bigger than the number of femal\n",
    "#  male customers paid more than female customers\n"
   ]
  },
  {
   "cell_type": "code",
   "execution_count": 228,
   "id": "6424d91f",
   "metadata": {},
   "outputs": [
    {
     "name": "stdout",
     "output_type": "stream",
     "text": [
      "             age\n",
      "lifecycle       \n",
      "A           2099\n",
      "B           3533\n",
      "C          11084\n"
     ]
    }
   ],
   "source": [
    "# 3. analysis the  precentage of lifecycle \n",
    "age_percent=data[['age','lifecycle']].groupby('lifecycle').count( )\n",
    "print(age_percent)"
   ]
  },
  {
   "cell_type": "code",
   "execution_count": 229,
   "id": "744d985f",
   "metadata": {
    "scrolled": true
   },
   "outputs": [
    {
     "name": "stdout",
     "output_type": "stream",
     "text": [
      "           previous_order_amount\n",
      "lifecycle                       \n",
      "A                   6.820573e+06\n",
      "B                   1.064253e+07\n",
      "C                   2.565840e+07\n"
     ]
    }
   ],
   "source": [
    "income_total=data.pivot_table(values='previous_order_amount', index='lifecycle',\n",
    "                              aggfunc=np.sum)\n",
    "print(income_total)"
   ]
  },
  {
   "cell_type": "code",
   "execution_count": 230,
   "id": "76936239",
   "metadata": {},
   "outputs": [
    {
     "name": "stdout",
     "output_type": "stream",
     "text": [
      "           3rd_party_stores  engaged_last_30\n",
      "lifecycle                                   \n",
      "A                      2099            166.0\n",
      "B                      3533            289.0\n",
      "C                     11084            706.0\n"
     ]
    }
   ],
   "source": [
    "# the precentage of participation of activity of different lifecycle\n",
    "customer_total=data.pivot_table(values=['3rd_party_stores','engaged_last_30'],index='lifecycle',\\\n",
    "                                aggfunc={'3rd_party_stores':'count','engaged_last_30':np.sum})\n",
    "print(customer_total)"
   ]
  },
  {
   "cell_type": "code",
   "execution_count": 231,
   "id": "5699a435",
   "metadata": {},
   "outputs": [
    {
     "data": {
      "text/plain": [
       "Text(0.5, 1.0, 'percentage of customer of each lifecycle')"
      ]
     },
     "execution_count": 231,
     "metadata": {},
     "output_type": "execute_result"
    },
    {
     "data": {
      "image/png": "[encoded data removed]",
      "text/plain": [
       "<Figure size 1152x576 with 1 Axes>"
      ]
     },
     "metadata": {},
     "output_type": "display_data"
    }
   ],
   "source": [
    "plt.figure(figsize=(16,8))\n",
    "plt.subplot(1,3,1)\n",
    "explode=[0,0,0.1]\n",
    "labels=['A','B','C']\n",
    "patches, l_text, p_text=plt.pie(age_percent['age'],\n",
    "                                autopct='%3.1f%%',\n",
    "                                labels=labels,\n",
    "                                pctdistance=1.1,\n",
    "                                radius=1,\n",
    "                                startangle=270,\n",
    "                                explode=explode)\n",
    "for t in l_text:\n",
    "    t.set_size(15)\n",
    "for t in p_text:\n",
    "    t.set_size(15)\n",
    "\n",
    "plt.axis('equal')\n",
    "plt.legend()\n",
    "plt.title('percentage of customer of each lifecycle' )\n",
    "\n",
    "#labels  show the words out of pie\n",
    "#explode distance of center\n",
    "#startangle  angel of drawing\n",
    "#shadow  \n",
    "#labeldistance label positon of drawing\n",
    "#autopct '%1.1f'指小数点前后位数(没有用空格补齐)\n",
    "#pctdistance similar with labeldistance\n",
    "#radius                      \n"
   ]
  },
  {
   "cell_type": "code",
   "execution_count": 232,
   "id": "2c5f4e2b",
   "metadata": {},
   "outputs": [
    {
     "data": {
      "image/png": "[encoded data removed]",
      "text/plain": [
       "<Figure size 1152x576 with 1 Axes>"
      ]
     },
     "metadata": {},
     "output_type": "display_data"
    }
   ],
   "source": [
    "plt.figure(figsize=(16,8))\n",
    "plt.subplot(1,3,2)\n",
    "patches, l_text, p_text=plt.pie(income_total['previous_order_amount'],\n",
    "                                autopct='%3.1f%%',\n",
    "                                labels=labels,\n",
    "                                pctdistance=0.6,\n",
    "                                labeldistance=1.1,\n",
    "                                radius=1,\n",
    "                                startangle=270,\n",
    "                                explode=explode)\n",
    "for t in l_text:\n",
    "    t.set_size(15)\n",
    "for t in p_text:\n",
    "    t.set_size(15)\n",
    "\n",
    "plt.axis('equal')\n",
    "plt.legend()\n",
    "plt.title('percentage of amount of consuming of each lifecycle' )\n",
    "plt.show()\n"
   ]
  },
  {
   "cell_type": "code",
   "execution_count": 233,
   "id": "89abf957",
   "metadata": {},
   "outputs": [
    {
     "data": {
      "image/png": "[encoded data removed]",
      "text/plain": [
       "<Figure size 1152x576 with 1 Axes>"
      ]
     },
     "metadata": {},
     "output_type": "display_data"
    }
   ],
   "source": [
    "plt.figure(figsize=(16,8))\n",
    "plt.subplot(1,3,3)\n",
    "patches, l_text, p_text=plt.pie(customer_total['engaged_last_30'],\n",
    "                                autopct='%3.1f%%',\n",
    "                                labels=labels,\n",
    "                                pctdistance=0.6,\n",
    "                                labeldistance=1.1,\n",
    "                                radius=1,\n",
    "                                startangle=270,\n",
    "                                explode=explode)\n",
    "for t in l_text:\n",
    "    t.set_size(15)\n",
    "for t in p_text:\n",
    "    t.set_size(15)\n",
    "\n",
    "plt.axis('equal')\n",
    "plt.legend()\n",
    "plt.title('percentage of participation of activity of each lifecycle' ) \n",
    "plt.show()\n"
   ]
  },
  {
   "cell_type": "code",
   "execution_count": 234,
   "id": "ffbe7cb4",
   "metadata": {},
   "outputs": [
    {
     "data": {
      "image/png": "[encoded data removed]",
      "text/plain": [
       "<Figure size 504x288 with 1 Axes>"
      ]
     },
     "metadata": {},
     "output_type": "display_data"
    },
    {
     "data": {
      "image/png": "[encoded data removed]",
      "text/plain": [
       "<Figure size 504x288 with 1 Axes>"
      ]
     },
     "metadata": {},
     "output_type": "display_data"
    },
    {
     "data": {
      "image/png": "[encoded data removed]",
      "text/plain": [
       "<Figure size 504x288 with 1 Axes>"
      ]
     },
     "metadata": {},
     "output_type": "display_data"
    }
   ],
   "source": [
    "plt.figure(figsize=(7,4))\n",
    "plt.subplot(1,3,1)\n",
    "explode=[0,0,0.1]\n",
    "labels=['A','B','C']\n",
    "patches, l_text, p_text=plt.pie(age_percent['age'],\n",
    "                                autopct='%3.1f%%',\n",
    "                                labels=labels,\n",
    "                                pctdistance=1.1,\n",
    "                                radius=1,\n",
    "                                startangle=270,\n",
    "                                explode=explode)\n",
    "for t in l_text:\n",
    "    t.set_size(15)\n",
    "for t in p_text:\n",
    "    t.set_size(15)\n",
    "\n",
    "plt.axis('equal')\n",
    "plt.legend()\n",
    "plt.title('percentage of customer of each lifecycle' )\n",
    "\n",
    "plt.figure(figsize=(7,4))\n",
    "plt.subplot(1,3,2)\n",
    "patches, l_text, p_text=plt.pie(income_total['previous_order_amount'],\n",
    "                                autopct='%3.1f%%',\n",
    "                                labels=labels,\n",
    "                                pctdistance=0.6,\n",
    "                                labeldistance=1.1,\n",
    "                                radius=1,\n",
    "                                startangle=270,\n",
    "                                explode=explode)\n",
    "for t in l_text:\n",
    "    t.set_size(15)\n",
    "for t in p_text:\n",
    "    t.set_size(15)\n",
    "\n",
    "plt.axis('equal')\n",
    "plt.legend()\n",
    "plt.title('percentage of amount of consuming of each lifecycle' )\n",
    "plt.show()\n",
    "\n",
    "\n",
    "plt.figure(figsize=(7,4))\n",
    "plt.subplot(1,3,3)\n",
    "patches, l_text, p_text=plt.pie(customer_total['engaged_last_30'],\n",
    "                                autopct='%3.1f%%',\n",
    "                                labels=labels,\n",
    "                                pctdistance=0.6,\n",
    "                                labeldistance=1.1,\n",
    "                                radius=1,\n",
    "                                startangle=270,\n",
    "                                explode=explode)\n",
    "for t in l_text:\n",
    "    t.set_size(15)\n",
    "for t in p_text:\n",
    "    t.set_size(15)\n",
    "\n",
    "plt.axis('equal')\n",
    "plt.legend()\n",
    "plt.title('percentage of participation of activity of each lifecycle' ) \n",
    "plt.show()\n",
    "\n"
   ]
  },
  {
   "cell_type": "code",
   "execution_count": 235,
   "id": "1d17e4c5",
   "metadata": {},
   "outputs": [],
   "source": [
    "# A: new users:register within six months B:register beween six months and one year\n",
    "# C: old users:register over one year\n",
    "# conclusion5: \n",
    "# 1.Old users account for 66.3% in total number of users \n",
    "# 2.Old useres(C) consumed more than new users(A and B)\n",
    "# 3.Old users are active to participate activities and they are loyal to app\n"
   ]
  },
  {
   "cell_type": "code",
   "execution_count": 236,
   "id": "ada24f1f",
   "metadata": {},
   "outputs": [
    {
     "name": "stdout",
     "output_type": "stream",
     "text": [
      "lifecycle    A     B     C\n",
      "age                       \n",
      "18.0       0.0   0.0   1.0\n",
      "19.0       1.0   5.0   8.0\n",
      "20.0       0.0   1.0   5.0\n",
      "21.0       2.0   2.0   6.0\n",
      "22.0       1.0   1.0   8.0\n",
      "...        ...   ...   ...\n",
      "95.0       1.0   8.0  30.0\n",
      "96.0       5.0   8.0  23.0\n",
      "97.0       1.0  10.0  14.0\n",
      "98.0       1.0   1.0   9.0\n",
      "99.0       4.0   6.0  29.0\n",
      "\n",
      "[82 rows x 3 columns]\n"
     ]
    }
   ],
   "source": [
    "# 4.analysis the percentage of age in the lifecycle\n",
    "life_age=data.pivot_table(index='age',values='revenue',columns='lifecycle',aggfunc='count')\n",
    "life_age.fillna(0, inplace=True)\n",
    "print(life_age)"
   ]
  },
  {
   "cell_type": "code",
   "execution_count": 237,
   "id": "1551ae5e",
   "metadata": {},
   "outputs": [
    {
     "data": {
      "image/png": "[encoded data removed]",
      "text/plain": [
       "<Figure size 720x720 with 1 Axes>"
      ]
     },
     "metadata": {
      "needs_background": "light"
     },
     "output_type": "display_data"
    }
   ],
   "source": [
    "fig=plt.figure(figsize=(10,10))\n",
    "plt.bar(life_age.index,life_age['A'],color='#87CEEB',label='A',alpha=0.8)#008080\n",
    "plt.bar(life_age.index,life_age['B'],bottom=life_age['A'],color='#FFC0CB',label='B',alpha=0.6)\n",
    "plt.bar(life_age.index,life_age['C'],bottom=life_age['A']+life_age['B'],color='#8A2BE2',label='C',alpha=0.4)\n",
    "plt.legend()\n",
    "plt.title('percentage of age of each lifecycle')\n",
    "plt.savefig('final_project4')\n",
    "plt.show()\n",
    "\n",
    "\n"
   ]
  },
  {
   "cell_type": "code",
   "execution_count": 238,
   "id": "b1747e48",
   "metadata": {},
   "outputs": [
    {
     "name": "stdout",
     "output_type": "stream",
     "text": [
      "lifecycle     A     B      C\n",
      "female       89   155    490\n",
      "male       2010  3378  10594\n"
     ]
    },
    {
     "data": {
      "image/png": "[encoded data removed]",
      "text/plain": [
       "<Figure size 720x720 with 1 Axes>"
      ]
     },
     "metadata": {
      "needs_background": "light"
     },
     "output_type": "display_data"
    }
   ],
   "source": [
    "life_gender=data.pivot_table(index='gender',values='revenue',columns='lifecycle',aggfunc='count')\n",
    "life_gender.index=['female','male']\n",
    "print(life_gender)\n",
    "fig=plt.figure(figsize=(10,10))\n",
    "plt.bar(life_gender.index,life_gender['A'],color='#FF1493',label='A',alpha=0.8)\n",
    "plt.bar(life_gender.index,life_gender['B'],bottom=life_gender['A'],color='#87CEFA',label='B',alpha=0.6)\n",
    "plt.bar(life_gender.index,life_gender['C'],bottom=life_gender['A']+life_gender['B'],color='#B0C4DE',label='C',alpha=0.4)\n",
    "plt.legend()\n",
    "plt.title('percentage of gender of each lifecycle')\n",
    "plt.savefig('final_project5')\n",
    "plt.show()\n",
    "\n"
   ]
  },
  {
   "cell_type": "code",
   "execution_count": 239,
   "id": "50c596f6",
   "metadata": {},
   "outputs": [],
   "source": [
    "#conclusion 6:\n",
    "#After checking the proportion of ABC customer groups in each age and gender, \n",
    "#we can understand that there are no certain ages or genders that are particularly low\n",
    "#The decrease of traffic or stream resulted in the decreasing consumption\n"
   ]
  },
  {
   "cell_type": "code",
   "execution_count": 240,
   "id": "59b0e955",
   "metadata": {},
   "outputs": [
    {
     "data": {
      "text/html": [
       "<div>\n",
       "<style scoped>\n",
       "    .dataframe tbody tr th:only-of-type {\n",
       "        vertical-align: middle;\n",
       "    }\n",
       "\n",
       "    .dataframe tbody tr th {\n",
       "        vertical-align: top;\n",
       "    }\n",
       "\n",
       "    .dataframe thead th {\n",
       "        text-align: right;\n",
       "    }\n",
       "</style>\n",
       "<table border=\"1\" class=\"dataframe\">\n",
       "  <thead>\n",
       "    <tr style=\"text-align: right;\">\n",
       "      <th></th>\n",
       "      <th>revenue</th>\n",
       "      <th>gender</th>\n",
       "      <th>age</th>\n",
       "      <th>engaged_last_30</th>\n",
       "      <th>lifecycle</th>\n",
       "      <th>days_since_last_order</th>\n",
       "      <th>previous_order_amount</th>\n",
       "      <th>3rd_party_stores</th>\n",
       "    </tr>\n",
       "  </thead>\n",
       "  <tbody>\n",
       "    <tr>\n",
       "      <th>0</th>\n",
       "      <td>72.98</td>\n",
       "      <td>1.0</td>\n",
       "      <td>59.0</td>\n",
       "      <td>0.0</td>\n",
       "      <td>B</td>\n",
       "      <td>4.26</td>\n",
       "      <td>2343.870</td>\n",
       "      <td>0</td>\n",
       "    </tr>\n",
       "    <tr>\n",
       "      <th>1</th>\n",
       "      <td>200.99</td>\n",
       "      <td>1.0</td>\n",
       "      <td>51.0</td>\n",
       "      <td>0.0</td>\n",
       "      <td>A</td>\n",
       "      <td>0.94</td>\n",
       "      <td>8539.872</td>\n",
       "      <td>0</td>\n",
       "    </tr>\n",
       "    <tr>\n",
       "      <th>2</th>\n",
       "      <td>69.98</td>\n",
       "      <td>1.0</td>\n",
       "      <td>79.0</td>\n",
       "      <td>0.0</td>\n",
       "      <td>C</td>\n",
       "      <td>4.29</td>\n",
       "      <td>1687.646</td>\n",
       "      <td>1</td>\n",
       "    </tr>\n",
       "    <tr>\n",
       "      <th>3</th>\n",
       "      <td>649.99</td>\n",
       "      <td>NaN</td>\n",
       "      <td>NaN</td>\n",
       "      <td>NaN</td>\n",
       "      <td>C</td>\n",
       "      <td>14.90</td>\n",
       "      <td>3498.846</td>\n",
       "      <td>0</td>\n",
       "    </tr>\n",
       "    <tr>\n",
       "      <th>4</th>\n",
       "      <td>83.59</td>\n",
       "      <td>NaN</td>\n",
       "      <td>NaN</td>\n",
       "      <td>NaN</td>\n",
       "      <td>C</td>\n",
       "      <td>21.13</td>\n",
       "      <td>3968.490</td>\n",
       "      <td>4</td>\n",
       "    </tr>\n",
       "    <tr>\n",
       "      <th>...</th>\n",
       "      <td>...</td>\n",
       "      <td>...</td>\n",
       "      <td>...</td>\n",
       "      <td>...</td>\n",
       "      <td>...</td>\n",
       "      <td>...</td>\n",
       "      <td>...</td>\n",
       "      <td>...</td>\n",
       "    </tr>\n",
       "    <tr>\n",
       "      <th>29447</th>\n",
       "      <td>43.19</td>\n",
       "      <td>NaN</td>\n",
       "      <td>NaN</td>\n",
       "      <td>NaN</td>\n",
       "      <td>C</td>\n",
       "      <td>0.94</td>\n",
       "      <td>545.180</td>\n",
       "      <td>1</td>\n",
       "    </tr>\n",
       "    <tr>\n",
       "      <th>29448</th>\n",
       "      <td>62.97</td>\n",
       "      <td>1.0</td>\n",
       "      <td>53.0</td>\n",
       "      <td>0.0</td>\n",
       "      <td>C</td>\n",
       "      <td>3.45</td>\n",
       "      <td>3738.912</td>\n",
       "      <td>1</td>\n",
       "    </tr>\n",
       "    <tr>\n",
       "      <th>29449</th>\n",
       "      <td>87.26</td>\n",
       "      <td>NaN</td>\n",
       "      <td>NaN</td>\n",
       "      <td>NaN</td>\n",
       "      <td>C</td>\n",
       "      <td>10.42</td>\n",
       "      <td>1279.530</td>\n",
       "      <td>0</td>\n",
       "    </tr>\n",
       "    <tr>\n",
       "      <th>29450</th>\n",
       "      <td>19.99</td>\n",
       "      <td>1.0</td>\n",
       "      <td>69.0</td>\n",
       "      <td>0.0</td>\n",
       "      <td>C</td>\n",
       "      <td>16.87</td>\n",
       "      <td>669.580</td>\n",
       "      <td>3</td>\n",
       "    </tr>\n",
       "    <tr>\n",
       "      <th>29451</th>\n",
       "      <td>741.93</td>\n",
       "      <td>NaN</td>\n",
       "      <td>NaN</td>\n",
       "      <td>NaN</td>\n",
       "      <td>C</td>\n",
       "      <td>7.13</td>\n",
       "      <td>2102.950</td>\n",
       "      <td>0</td>\n",
       "    </tr>\n",
       "  </tbody>\n",
       "</table>\n",
       "<p>29452 rows × 8 columns</p>\n",
       "</div>"
      ],
      "text/plain": [
       "       revenue  gender   age  engaged_last_30 lifecycle  \\\n",
       "0        72.98     1.0  59.0              0.0         B   \n",
       "1       200.99     1.0  51.0              0.0         A   \n",
       "2        69.98     1.0  79.0              0.0         C   \n",
       "3       649.99     NaN   NaN              NaN         C   \n",
       "4        83.59     NaN   NaN              NaN         C   \n",
       "...        ...     ...   ...              ...       ...   \n",
       "29447    43.19     NaN   NaN              NaN         C   \n",
       "29448    62.97     1.0  53.0              0.0         C   \n",
       "29449    87.26     NaN   NaN              NaN         C   \n",
       "29450    19.99     1.0  69.0              0.0         C   \n",
       "29451   741.93     NaN   NaN              NaN         C   \n",
       "\n",
       "        days_since_last_order   previous_order_amount  3rd_party_stores  \n",
       "0                         4.26               2343.870                 0  \n",
       "1                         0.94               8539.872                 0  \n",
       "2                         4.29               1687.646                 1  \n",
       "3                        14.90               3498.846                 0  \n",
       "4                        21.13               3968.490                 4  \n",
       "...                        ...                    ...               ...  \n",
       "29447                     0.94                545.180                 1  \n",
       "29448                     3.45               3738.912                 1  \n",
       "29449                    10.42               1279.530                 0  \n",
       "29450                    16.87                669.580                 3  \n",
       "29451                     7.13               2102.950                 0  \n",
       "\n",
       "[29452 rows x 8 columns]"
      ]
     },
     "execution_count": 240,
     "metadata": {},
     "output_type": "execute_result"
    }
   ],
   "source": [
    "# 5.get dummies\n",
    "import pandas as pd #\n",
    "import numpy as np  \n",
    "import seaborn as sns\n",
    "import matplotlib.pyplot as plt\n",
    "%matplotlib inline\n",
    "from statsmodels.formula.api import ols #\n",
    "from sklearn.linear_model import LinearRegression\n",
    "data=pd.read_csv('week2.redbook.csv')\n",
    "data"
   ]
  },
  {
   "cell_type": "code",
   "execution_count": 241,
   "id": "dd537542",
   "metadata": {},
   "outputs": [
    {
     "data": {
      "text/html": [
       "<div>\n",
       "<style scoped>\n",
       "    .dataframe tbody tr th:only-of-type {\n",
       "        vertical-align: middle;\n",
       "    }\n",
       "\n",
       "    .dataframe tbody tr th {\n",
       "        vertical-align: top;\n",
       "    }\n",
       "\n",
       "    .dataframe thead th {\n",
       "        text-align: right;\n",
       "    }\n",
       "</style>\n",
       "<table border=\"1\" class=\"dataframe\">\n",
       "  <thead>\n",
       "    <tr style=\"text-align: right;\">\n",
       "      <th></th>\n",
       "      <th>revenue</th>\n",
       "      <th>age</th>\n",
       "      <th>days_since_last_order</th>\n",
       "      <th>previous_order_amount</th>\n",
       "      <th>3rd_party_stores</th>\n",
       "      <th>gender_0.0</th>\n",
       "      <th>gender_1.0</th>\n",
       "      <th>gender_Unknown</th>\n",
       "      <th>engaged_last_30_0.0</th>\n",
       "      <th>engaged_last_30_1.0</th>\n",
       "      <th>engaged_last_30_unknown</th>\n",
       "      <th>lifecycle_A</th>\n",
       "      <th>lifecycle_B</th>\n",
       "      <th>lifecycle_C</th>\n",
       "    </tr>\n",
       "  </thead>\n",
       "  <tbody>\n",
       "    <tr>\n",
       "      <th>0</th>\n",
       "      <td>72.98</td>\n",
       "      <td>59.0</td>\n",
       "      <td>4.26</td>\n",
       "      <td>2343.870</td>\n",
       "      <td>0</td>\n",
       "      <td>0</td>\n",
       "      <td>1</td>\n",
       "      <td>0</td>\n",
       "      <td>1</td>\n",
       "      <td>0</td>\n",
       "      <td>0</td>\n",
       "      <td>0</td>\n",
       "      <td>1</td>\n",
       "      <td>0</td>\n",
       "    </tr>\n",
       "    <tr>\n",
       "      <th>1</th>\n",
       "      <td>200.99</td>\n",
       "      <td>51.0</td>\n",
       "      <td>0.94</td>\n",
       "      <td>8539.872</td>\n",
       "      <td>0</td>\n",
       "      <td>0</td>\n",
       "      <td>1</td>\n",
       "      <td>0</td>\n",
       "      <td>1</td>\n",
       "      <td>0</td>\n",
       "      <td>0</td>\n",
       "      <td>1</td>\n",
       "      <td>0</td>\n",
       "      <td>0</td>\n",
       "    </tr>\n",
       "    <tr>\n",
       "      <th>2</th>\n",
       "      <td>69.98</td>\n",
       "      <td>79.0</td>\n",
       "      <td>4.29</td>\n",
       "      <td>1687.646</td>\n",
       "      <td>1</td>\n",
       "      <td>0</td>\n",
       "      <td>1</td>\n",
       "      <td>0</td>\n",
       "      <td>1</td>\n",
       "      <td>0</td>\n",
       "      <td>0</td>\n",
       "      <td>0</td>\n",
       "      <td>0</td>\n",
       "      <td>1</td>\n",
       "    </tr>\n",
       "    <tr>\n",
       "      <th>3</th>\n",
       "      <td>649.99</td>\n",
       "      <td>60.0</td>\n",
       "      <td>14.90</td>\n",
       "      <td>3498.846</td>\n",
       "      <td>0</td>\n",
       "      <td>0</td>\n",
       "      <td>0</td>\n",
       "      <td>1</td>\n",
       "      <td>0</td>\n",
       "      <td>0</td>\n",
       "      <td>1</td>\n",
       "      <td>0</td>\n",
       "      <td>0</td>\n",
       "      <td>1</td>\n",
       "    </tr>\n",
       "    <tr>\n",
       "      <th>4</th>\n",
       "      <td>83.59</td>\n",
       "      <td>60.0</td>\n",
       "      <td>21.13</td>\n",
       "      <td>3968.490</td>\n",
       "      <td>4</td>\n",
       "      <td>0</td>\n",
       "      <td>0</td>\n",
       "      <td>1</td>\n",
       "      <td>0</td>\n",
       "      <td>0</td>\n",
       "      <td>1</td>\n",
       "      <td>0</td>\n",
       "      <td>0</td>\n",
       "      <td>1</td>\n",
       "    </tr>\n",
       "  </tbody>\n",
       "</table>\n",
       "</div>"
      ],
      "text/plain": [
       "   revenue   age   days_since_last_order   previous_order_amount  \\\n",
       "0    72.98  59.0                     4.26               2343.870   \n",
       "1   200.99  51.0                     0.94               8539.872   \n",
       "2    69.98  79.0                     4.29               1687.646   \n",
       "3   649.99  60.0                    14.90               3498.846   \n",
       "4    83.59  60.0                    21.13               3968.490   \n",
       "\n",
       "   3rd_party_stores  gender_0.0  gender_1.0  gender_Unknown  \\\n",
       "0                 0           0           1               0   \n",
       "1                 0           0           1               0   \n",
       "2                 1           0           1               0   \n",
       "3                 0           0           0               1   \n",
       "4                 4           0           0               1   \n",
       "\n",
       "   engaged_last_30_0.0  engaged_last_30_1.0  engaged_last_30_unknown  \\\n",
       "0                    1                    0                        0   \n",
       "1                    1                    0                        0   \n",
       "2                    1                    0                        0   \n",
       "3                    0                    0                        1   \n",
       "4                    0                    0                        1   \n",
       "\n",
       "   lifecycle_A  lifecycle_B  lifecycle_C  \n",
       "0            0            1            0  \n",
       "1            1            0            0  \n",
       "2            0            0            1  \n",
       "3            0            0            1  \n",
       "4            0            0            1  "
      ]
     },
     "execution_count": 241,
     "metadata": {},
     "output_type": "execute_result"
    }
   ],
   "source": [
    "# dealing with data and make them dummies\n",
    "data['age']=data['age'].fillna(data['age'].median())\n",
    "data['gender']=data['gender'].fillna('Unknown')\n",
    "data['engaged_last_30']=data['engaged_last_30'].fillna('unknown')\n",
    "data1=pd.get_dummies(data)\n",
    "data1.head()\n"
   ]
  },
  {
   "cell_type": "code",
   "execution_count": 242,
   "id": "ccb3db1f",
   "metadata": {},
   "outputs": [
    {
     "data": {
      "text/html": [
       "<div>\n",
       "<style scoped>\n",
       "    .dataframe tbody tr th:only-of-type {\n",
       "        vertical-align: middle;\n",
       "    }\n",
       "\n",
       "    .dataframe tbody tr th {\n",
       "        vertical-align: top;\n",
       "    }\n",
       "\n",
       "    .dataframe thead th {\n",
       "        text-align: right;\n",
       "    }\n",
       "</style>\n",
       "<table border=\"1\" class=\"dataframe\">\n",
       "  <thead>\n",
       "    <tr style=\"text-align: right;\">\n",
       "      <th></th>\n",
       "      <th>revenue</th>\n",
       "    </tr>\n",
       "  </thead>\n",
       "  <tbody>\n",
       "    <tr>\n",
       "      <th>revenue</th>\n",
       "      <td>1.000000</td>\n",
       "    </tr>\n",
       "    <tr>\n",
       "      <th>previous_order_amount</th>\n",
       "      <td>0.168540</td>\n",
       "    </tr>\n",
       "    <tr>\n",
       "      <th>engaged_last_30_1.0</th>\n",
       "      <td>0.038287</td>\n",
       "    </tr>\n",
       "    <tr>\n",
       "      <th>days_since_last_order</th>\n",
       "      <td>0.036654</td>\n",
       "    </tr>\n",
       "    <tr>\n",
       "      <th>gender_Unknown</th>\n",
       "      <td>0.017722</td>\n",
       "    </tr>\n",
       "    <tr>\n",
       "      <th>engaged_last_30_unknown</th>\n",
       "      <td>0.017722</td>\n",
       "    </tr>\n",
       "    <tr>\n",
       "      <th>lifecycle_A</th>\n",
       "      <td>0.013683</td>\n",
       "    </tr>\n",
       "    <tr>\n",
       "      <th>lifecycle_C</th>\n",
       "      <td>-0.002221</td>\n",
       "    </tr>\n",
       "    <tr>\n",
       "      <th>lifecycle_B</th>\n",
       "      <td>-0.008651</td>\n",
       "    </tr>\n",
       "    <tr>\n",
       "      <th>gender_1.0</th>\n",
       "      <td>-0.012422</td>\n",
       "    </tr>\n",
       "    <tr>\n",
       "      <th>gender_0.0</th>\n",
       "      <td>-0.014914</td>\n",
       "    </tr>\n",
       "    <tr>\n",
       "      <th>3rd_party_stores</th>\n",
       "      <td>-0.026398</td>\n",
       "    </tr>\n",
       "    <tr>\n",
       "      <th>engaged_last_30_0.0</th>\n",
       "      <td>-0.033274</td>\n",
       "    </tr>\n",
       "    <tr>\n",
       "      <th>age</th>\n",
       "      <td>-0.036281</td>\n",
       "    </tr>\n",
       "  </tbody>\n",
       "</table>\n",
       "</div>"
      ],
      "text/plain": [
       "                          revenue\n",
       "revenue                  1.000000\n",
       "previous_order_amount    0.168540\n",
       "engaged_last_30_1.0      0.038287\n",
       " days_since_last_order   0.036654\n",
       "gender_Unknown           0.017722\n",
       "engaged_last_30_unknown  0.017722\n",
       "lifecycle_A              0.013683\n",
       "lifecycle_C             -0.002221\n",
       "lifecycle_B             -0.008651\n",
       "gender_1.0              -0.012422\n",
       "gender_0.0              -0.014914\n",
       "3rd_party_stores        -0.026398\n",
       "engaged_last_30_0.0     -0.033274\n",
       "age                     -0.036281"
      ]
     },
     "execution_count": 242,
     "metadata": {},
     "output_type": "execute_result"
    }
   ],
   "source": [
    "# 6.analysis the correlation\n",
    "data1.corr()[['revenue']].sort_values('revenue',ascending=False)\n"
   ]
  },
  {
   "cell_type": "code",
   "execution_count": 243,
   "id": "382a8e0c",
   "metadata": {},
   "outputs": [
    {
     "data": {
      "text/plain": [
       "<AxesSubplot:>"
      ]
     },
     "execution_count": 243,
     "metadata": {},
     "output_type": "execute_result"
    },
    {
     "data": {
      "image/png": "[encoded data removed]",
      "text/plain": [
       "<Figure size 432x288 with 2 Axes>"
      ]
     },
     "metadata": {
      "needs_background": "light"
     },
     "output_type": "display_data"
    }
   ],
   "source": [
    "q=['revenue','previous_order_amount','engaged_last_30_1.0']\n",
    "sns.heatmap(data1[q].corr())\n",
    "\n"
   ]
  },
  {
   "cell_type": "code",
   "execution_count": 244,
   "id": "bf775b9d",
   "metadata": {},
   "outputs": [],
   "source": [
    "#conclusion 7: from the correlation and heatmap,we can see the biggest factor\n",
    "#to influence the revenue is previous_order_amount"
   ]
  },
  {
   "cell_type": "code",
   "execution_count": 245,
   "id": "522fb344",
   "metadata": {},
   "outputs": [
    {
     "data": {
      "text/plain": [
       "LinearRegression()"
      ]
     },
     "execution_count": 245,
     "metadata": {},
     "output_type": "execute_result"
    }
   ],
   "source": [
    "# 7.building the linear regression and multiple regression\n",
    "#Only select previous_order_amount as the independent variable, \n",
    "# and the revenue as dependent variable \n",
    "from sklearn.linear_model import LinearRegression\n",
    "model=LinearRegression()\n",
    "y=data1['revenue']\n",
    "x=data1[['previous_order_amount']]\n",
    "model.fit(x,y)\n",
    "\n"
   ]
  },
  {
   "cell_type": "code",
   "execution_count": 246,
   "id": "529bbdbe",
   "metadata": {},
   "outputs": [
    {
     "data": {
      "text/plain": [
       "array([0.06800681])"
      ]
     },
     "execution_count": 246,
     "metadata": {},
     "output_type": "execute_result"
    }
   ],
   "source": [
    "# #coef 回归系数 intercept（斜率）截距\n",
    "model.coef_"
   ]
  },
  {
   "cell_type": "code",
   "execution_count": 247,
   "id": "40222c3b",
   "metadata": {},
   "outputs": [
    {
     "data": {
      "text/plain": [
       "238.54650492085716"
      ]
     },
     "execution_count": 247,
     "metadata": {},
     "output_type": "execute_result"
    }
   ],
   "source": [
    "model.intercept_\n"
   ]
  },
  {
   "cell_type": "code",
   "execution_count": 248,
   "id": "c4cac28b",
   "metadata": {},
   "outputs": [
    {
     "name": "stdout",
     "output_type": "stream",
     "text": [
      "0.02840574376132865\n",
      "946.4990744073566\n",
      "356.9227080769107\n"
     ]
    }
   ],
   "source": [
    "# give score of model\n",
    "score=model.score(x,y)\n",
    "print(score)\n",
    "# predict \n",
    "predictions=model.predict(x)\n",
    "#count the error\n",
    "error=predictions-y\n",
    "#evaluate the model by rmse and mae\n",
    "#count rmse（Root Mean Squard Error）\n",
    "rmse=(error**2).mean()**0.5\n",
    "#count mae（Mean Absolute Error）\n",
    "mae=abs(error).mean()\n",
    "print(rmse)\n",
    "print(mae)\n"
   ]
  },
  {
   "cell_type": "code",
   "execution_count": 249,
   "id": "e53116af",
   "metadata": {},
   "outputs": [
    {
     "name": "stdout",
     "output_type": "stream",
     "text": [
      "                            OLS Regression Results                            \n",
      "==============================================================================\n",
      "Dep. Variable:                      y   R-squared:                       0.028\n",
      "Model:                            OLS   Adj. R-squared:                  0.028\n",
      "Method:                 Least Squares   F-statistic:                     861.0\n",
      "Date:                Tue, 14 Dec 2021   Prob (F-statistic):          1.43e-186\n",
      "Time:                        22:01:05   Log-Likelihood:            -2.4362e+05\n",
      "No. Observations:               29452   AIC:                         4.872e+05\n",
      "Df Residuals:                   29450   BIC:                         4.873e+05\n",
      "Df Model:                           1                                         \n",
      "Covariance Type:            nonrobust                                         \n",
      "==============================================================================\n",
      "                 coef    std err          t      P>|t|      [0.025      0.975]\n",
      "------------------------------------------------------------------------------\n",
      "Intercept    238.5465      7.750     30.782      0.000     223.357     253.736\n",
      "x              0.0680      0.002     29.343      0.000       0.063       0.073\n",
      "==============================================================================\n",
      "Omnibus:                    96517.376   Durbin-Watson:                   1.968\n",
      "Prob(Omnibus):                  0.000   Jarque-Bera (JB):      34688559459.998\n",
      "Skew:                          55.810   Prob(JB):                         0.00\n",
      "Kurtosis:                    5318.518   Cond. No.                     4.70e+03\n",
      "==============================================================================\n",
      "\n",
      "Notes:\n",
      "[1] Standard Errors assume that the covariance matrix of the errors is correctly specified.\n",
      "[2] The condition number is large, 4.7e+03. This might indicate that there are\n",
      "strong multicollinearity or other numerical problems.\n"
     ]
    }
   ],
   "source": [
    "# using ols model and the method is Least Squares\n",
    "from statsmodels.formula.api import ols\n",
    "x=data1[['previous_order_amount']]  \n",
    "y=data1['revenue']\n",
    "model=ols('y~x',data1).fit() \n",
    "print(model.summary())"
   ]
  },
  {
   "cell_type": "code",
   "execution_count": 250,
   "id": "393555af",
   "metadata": {},
   "outputs": [],
   "source": [
    "# conclusion 8: R value is only 0.028, we need more variables"
   ]
  },
  {
   "cell_type": "code",
   "execution_count": 251,
   "id": "2b71403c",
   "metadata": {},
   "outputs": [
    {
     "name": "stdout",
     "output_type": "stream",
     "text": [
      "0.029993874607861182\n",
      "945.7252024320337\n",
      "355.8939276821741\n"
     ]
    }
   ],
   "source": [
    "# building the multiple regression\n",
    "from sklearn.linear_model import LinearRegression\n",
    "model=LinearRegression()\n",
    "y=data1['revenue']\n",
    "x=data1[['previous_order_amount','engaged_last_30_1.0','gender_Unknown']]\n",
    "model.fit(x,y)\n",
    "score=model.score(x,y)\n",
    "print(score)\n",
    "#predict y\n",
    "predictions=model.predict(x)\n",
    "#count the error\n",
    "error=predictions-y\n",
    "##evaluate the model by rmse and mae\n",
    "#count rmse（Root Mean Squard Error）\n",
    "rmse=(error**2).mean()**0.5\n",
    "#count mae（Mean Absolute Error）\n",
    "mae=abs(error).mean()\n",
    "print(rmse)\n",
    "print(mae)"
   ]
  },
  {
   "cell_type": "code",
   "execution_count": 265,
   "id": "b126a5f1",
   "metadata": {},
   "outputs": [
    {
     "name": "stdout",
     "output_type": "stream",
     "text": [
      "                            OLS Regression Results                            \n",
      "==============================================================================\n",
      "Dep. Variable:                      y   R-squared:                       0.030\n",
      "Model:                            OLS   Adj. R-squared:                  0.030\n",
      "Method:                 Least Squares   F-statistic:                     303.5\n",
      "Date:                Wed, 15 Dec 2021   Prob (F-statistic):          4.39e-194\n",
      "Time:                        09:51:56   Log-Likelihood:            -2.4359e+05\n",
      "No. Observations:               29452   AIC:                         4.872e+05\n",
      "Df Residuals:                   29448   BIC:                         4.872e+05\n",
      "Df Model:                           3                                         \n",
      "Covariance Type:            nonrobust                                         \n",
      "==============================================================================\n",
      "                 coef    std err          t      P>|t|      [0.025      0.975]\n",
      "------------------------------------------------------------------------------\n",
      "Intercept    203.6504      9.330     21.828      0.000     185.364     221.937\n",
      "x[0]           0.0684      0.002     29.111      0.000       0.064       0.073\n",
      "x[1]          90.9323     27.554      3.300      0.001      36.926     144.939\n",
      "x[2]          75.2581     11.468      6.563      0.000      52.781      97.735\n",
      "==============================================================================\n",
      "Omnibus:                    96542.725   Durbin-Watson:                   1.969\n",
      "Prob(Omnibus):                  0.000   Jarque-Bera (JB):      34781066086.907\n",
      "Skew:                          55.852   Prob(JB):                         0.00\n",
      "Kurtosis:                    5325.603   Cond. No.                     1.68e+04\n",
      "==============================================================================\n",
      "\n",
      "Notes:\n",
      "[1] Standard Errors assume that the covariance matrix of the errors is correctly specified.\n",
      "[2] The condition number is large, 1.68e+04. This might indicate that there are\n",
      "strong multicollinearity or other numerical problems.\n"
     ]
    }
   ],
   "source": [
    "y=data1['revenue']\n",
    "x=data1[['previous_order_amount','engaged_last_30_1.0','gender_Unknown']]\n",
    "model=ols('y~x',data1).fit()\n",
    "print(model.summary())"
   ]
  },
  {
   "cell_type": "code",
   "execution_count": 253,
   "id": "508aa918",
   "metadata": {},
   "outputs": [],
   "source": [
    "#conclusion 9: \n",
    "# 1.R is 0.030 that is better than before\n",
    "# 2.It needs to opitimizer the  model because rmse and mae are big"
   ]
  },
  {
   "cell_type": "code",
   "execution_count": 254,
   "id": "2d9117ce",
   "metadata": {},
   "outputs": [],
   "source": [
    "# 8.opitimization model/outlier of revenue"
   ]
  },
  {
   "cell_type": "code",
   "execution_count": 255,
   "id": "d709ad8c",
   "metadata": {},
   "outputs": [
    {
     "name": "stderr",
     "output_type": "stream",
     "text": [
      "/Library/Frameworks/Python.framework/Versions/3.9/lib/python3.9/site-packages/seaborn/distributions.py:2619: FutureWarning: `distplot` is a deprecated function and will be removed in a future version. Please adapt your code to use either `displot` (a figure-level function with similar flexibility) or `histplot` (an axes-level function for histograms).\n",
      "  warnings.warn(msg, FutureWarning)\n"
     ]
    },
    {
     "data": {
      "text/plain": [
       "<AxesSubplot:xlabel='revenue', ylabel='Density'>"
      ]
     },
     "execution_count": 255,
     "metadata": {},
     "output_type": "execute_result"
    },
    {
     "data": {
      "image/png": "[encoded data removed]",
      "text/plain": [
       "<Figure size 432x288 with 1 Axes>"
      ]
     },
     "metadata": {
      "needs_background": "light"
     },
     "output_type": "display_data"
    }
   ],
   "source": [
    "sns.distplot(data['revenue'])"
   ]
  },
  {
   "cell_type": "code",
   "execution_count": 256,
   "id": "daac241f",
   "metadata": {},
   "outputs": [
    {
     "data": {
      "text/plain": [
       "0.9801032187966862"
      ]
     },
     "execution_count": 256,
     "metadata": {},
     "output_type": "execute_result"
    }
   ],
   "source": [
    "data[data['revenue']<2000].shape[0]/data.shape[0]"
   ]
  },
  {
   "cell_type": "code",
   "execution_count": 257,
   "id": "1e0a52b7",
   "metadata": {},
   "outputs": [
    {
     "name": "stderr",
     "output_type": "stream",
     "text": [
      "/Library/Frameworks/Python.framework/Versions/3.9/lib/python3.9/site-packages/seaborn/distributions.py:2619: FutureWarning: `distplot` is a deprecated function and will be removed in a future version. Please adapt your code to use either `displot` (a figure-level function with similar flexibility) or `histplot` (an axes-level function for histograms).\n",
      "  warnings.warn(msg, FutureWarning)\n"
     ]
    },
    {
     "data": {
      "text/plain": [
       "<AxesSubplot:xlabel='revenue', ylabel='Density'>"
      ]
     },
     "execution_count": 257,
     "metadata": {},
     "output_type": "execute_result"
    },
    {
     "data": {
      "image/png": "[encoded data removed]",
      "text/plain": [
       "<Figure size 432x288 with 1 Axes>"
      ]
     },
     "metadata": {
      "needs_background": "light"
     },
     "output_type": "display_data"
    }
   ],
   "source": [
    "# from the result above, 98% sales are less than 2000\n",
    "# i select revenue<2000 to build model again\n",
    "data2=data1[data1['revenue']<=2000]\n",
    "sns.distplot(data2['revenue'])\n"
   ]
  },
  {
   "cell_type": "code",
   "execution_count": 258,
   "id": "eedac13b",
   "metadata": {},
   "outputs": [
    {
     "name": "stdout",
     "output_type": "stream",
     "text": [
      "0.029587877533860385\n",
      "373.23779005815084\n",
      "280.4609444310085\n"
     ]
    }
   ],
   "source": [
    "from sklearn.linear_model import LinearRegression\n",
    "model=LinearRegression()\n",
    "y=data2['revenue']\n",
    "x=data2[['previous_order_amount']]\n",
    "model.fit(x,y)\n",
    "score=model.score(x,y)\n",
    "print(score)\n",
    "#predict y\n",
    "predictions=model.predict(x)\n",
    "#count the error\n",
    "error=predictions-y\n",
    "##evaluate the model by rmse and mae\n",
    "#count rmse（Root Mean Squard Error均方误差）\n",
    "rmse=(error**2).mean()**0.5\n",
    "#count mae（Mean Absolute Error平均绝对误差）\n",
    "mae=abs(error).mean()\n",
    "print(rmse)\n",
    "print(mae)"
   ]
  },
  {
   "cell_type": "code",
   "execution_count": 259,
   "id": "dc7ef243",
   "metadata": {},
   "outputs": [
    {
     "name": "stdout",
     "output_type": "stream",
     "text": [
      "                            OLS Regression Results                            \n",
      "==============================================================================\n",
      "Dep. Variable:                      y   R-squared:                       0.030\n",
      "Model:                            OLS   Adj. R-squared:                  0.030\n",
      "Method:                 Least Squares   F-statistic:                     880.1\n",
      "Date:                Tue, 14 Dec 2021   Prob (F-statistic):          1.54e-190\n",
      "Time:                        22:01:19   Log-Likelihood:            -2.1191e+05\n",
      "No. Observations:               28866   AIC:                         4.238e+05\n",
      "Df Residuals:                   28864   BIC:                         4.238e+05\n",
      "Df Model:                           1                                         \n",
      "Covariance Type:            nonrobust                                         \n",
      "==============================================================================\n",
      "                 coef    std err          t      P>|t|      [0.025      0.975]\n",
      "------------------------------------------------------------------------------\n",
      "Intercept    269.7274      3.096     87.122      0.000     263.659     275.796\n",
      "x              0.0281      0.001     29.666      0.000       0.026       0.030\n",
      "==============================================================================\n",
      "Omnibus:                     9389.288   Durbin-Watson:                   1.994\n",
      "Prob(Omnibus):                  0.000   Jarque-Bera (JB):            25978.767\n",
      "Skew:                           1.760   Prob(JB):                         0.00\n",
      "Kurtosis:                       6.034   Cond. No.                     4.60e+03\n",
      "==============================================================================\n",
      "\n",
      "Notes:\n",
      "[1] Standard Errors assume that the covariance matrix of the errors is correctly specified.\n",
      "[2] The condition number is large, 4.6e+03. This might indicate that there are\n",
      "strong multicollinearity or other numerical problems.\n"
     ]
    }
   ],
   "source": [
    "# using ols model and the method is Least Squares\n",
    "from statsmodels.formula.api import ols\n",
    "x=data2[['previous_order_amount']]  \n",
    "y=data2['revenue']\n",
    "model=ols('y~x',data2).fit() \n",
    "print(model.summary())"
   ]
  },
  {
   "cell_type": "code",
   "execution_count": 260,
   "id": "ba8c07fc",
   "metadata": {},
   "outputs": [],
   "source": [
    "#revenue=269.7274+0.02814*previous_order_amount\n",
    "#if previous_order_amount add 1000, revenue will add 28."
   ]
  },
  {
   "cell_type": "code",
   "execution_count": 261,
   "id": "9bcc8ba0",
   "metadata": {},
   "outputs": [
    {
     "name": "stdout",
     "output_type": "stream",
     "text": [
      "0.03019683452942412\n",
      "373.1206638258946\n",
      "280.2531778318627\n"
     ]
    }
   ],
   "source": [
    "# building the multiple regression\n",
    "from sklearn.linear_model import LinearRegression\n",
    "model=LinearRegression()\n",
    "y=data2['revenue']\n",
    "x=data2[['previous_order_amount','engaged_last_30_1.0']]\n",
    "model.fit(x,y)\n",
    "score=model.score(x,y)\n",
    "print(score)\n",
    "#predict y\n",
    "predictions=model.predict(x)\n",
    "#count the error\n",
    "error=predictions-y\n",
    "##evaluate the model by rmse and mae\n",
    "#count rmse（Root Mean Squard Error均方误差）\n",
    "rmse=(error**2).mean()**0.5\n",
    "#count mae（Mean Absolute Error平均绝对误差）\n",
    "mae=abs(error).mean()\n",
    "print(rmse)\n",
    "print(mae)"
   ]
  },
  {
   "cell_type": "code",
   "execution_count": 262,
   "id": "ce3e9045",
   "metadata": {
    "scrolled": true
   },
   "outputs": [
    {
     "name": "stdout",
     "output_type": "stream",
     "text": [
      "                            OLS Regression Results                            \n",
      "==============================================================================\n",
      "Dep. Variable:                      y   R-squared:                       0.031\n",
      "Model:                            OLS   Adj. R-squared:                  0.031\n",
      "Method:                 Least Squares   F-statistic:                     304.1\n",
      "Date:                Tue, 14 Dec 2021   Prob (F-statistic):          2.07e-194\n",
      "Time:                        22:01:19   Log-Likelihood:            -2.1189e+05\n",
      "No. Observations:               28866   AIC:                         4.238e+05\n",
      "Df Residuals:                   28862   BIC:                         4.238e+05\n",
      "Df Model:                           3                                         \n",
      "Covariance Type:            nonrobust                                         \n",
      "==============================================================================\n",
      "                 coef    std err          t      P>|t|      [0.025      0.975]\n",
      "------------------------------------------------------------------------------\n",
      "Intercept    276.1948      3.657     75.530      0.000     269.027     283.362\n",
      "x[0]           0.0268      0.001     27.299      0.000       0.025       0.029\n",
      "x[1]          46.1276     10.925      4.222      0.000      24.715      67.541\n",
      "x[2]          -2.3153      0.635     -3.648      0.000      -3.559      -1.071\n",
      "==============================================================================\n",
      "Omnibus:                     9401.635   Durbin-Watson:                   1.994\n",
      "Prob(Omnibus):                  0.000   Jarque-Bera (JB):            26081.255\n",
      "Skew:                           1.761   Prob(JB):                         0.00\n",
      "Kurtosis:                       6.046   Cond. No.                     1.62e+04\n",
      "==============================================================================\n",
      "\n",
      "Notes:\n",
      "[1] Standard Errors assume that the covariance matrix of the errors is correctly specified.\n",
      "[2] The condition number is large, 1.62e+04. This might indicate that there are\n",
      "strong multicollinearity or other numerical problems.\n"
     ]
    }
   ],
   "source": [
    "y=data2['revenue']\n",
    "x=data2[['previous_order_amount','engaged_last_30_1.0','3rd_party_stores']]\n",
    "model=ols('y~x',data2).fit()\n",
    "print(model.summary())"
   ]
  },
  {
   "cell_type": "code",
   "execution_count": 263,
   "id": "1676019b",
   "metadata": {},
   "outputs": [],
   "source": [
    "# conclusion: \n",
    "# rmse and mae have decreased from 945 to 373 and from 355 to 280.\n",
    "# R value increase from 0.028 to 0.031 \n",
    "# revenue=276.19+0.0268*previous_order_amount+46.12*engaged_last_30_1.0-2.31*3rd_party_stores\n",
    "\n"
   ]
  },
  {
   "cell_type": "code",
   "execution_count": null,
   "id": "007568d7",
   "metadata": {},
   "outputs": [],
   "source": [
    "# read data for business aspect\n",
    "# 1.if previous_order_amount increase 1000, the revenue will increase 26(units)\n",
    "# 2.if users participate the activity in the past 30 days, the revenue will increase 46\n",
    "# 3.if users purchase in the third party stores, the revenue will decrease 2.31\n",
    "# recommandations for business"
   ]
  }
 ],
 "metadata": {
  "kernelspec": {
   "display_name": "Python 3 (ipykernel)",
   "language": "python",
   "name": "python3"
  },
  "language_info": {
   "codemirror_mode": {
    "name": "ipython",
    "version": 3
   },
   "file_extension": ".py",
   "mimetype": "text/x-python",
   "name": "python",
   "nbconvert_exporter": "python",
   "pygments_lexer": "ipython3",
   "version": "3.9.7"
  }
 },
 "nbformat": 4,
 "nbformat_minor": 5
}
